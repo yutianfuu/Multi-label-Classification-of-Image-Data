{
  "nbformat": 4,
  "nbformat_minor": 0,
  "metadata": {
    "colab": {
      "name": "predict test from single model.ipynb",
      "provenance": []
    },
    "kernelspec": {
      "name": "python3",
      "display_name": "Python 3"
    },
    "language_info": {
      "name": "python"
    },
    "accelerator": "GPU"
  },
  "cells": [
    {
      "cell_type": "markdown",
      "metadata": {
        "id": "TGoZDyFTzDeY"
      },
      "source": [
        "predict test from already trained model"
      ]
    },
    {
      "cell_type": "code",
      "metadata": {
        "colab": {
          "base_uri": "https://localhost:8080/"
        },
        "id": "yET_3etezAYX",
        "outputId": "d0a7b311-7fbf-4440-d928-0890e32e069f"
      },
      "source": [
        "! gdown https://drive.google.com/uc?id=1AbxjCBByF-xGV3c7FJ1ztZC1HO0O0uJ0"
      ],
      "execution_count": null,
      "outputs": [
        {
          "output_type": "stream",
          "name": "stdout",
          "text": [
            "Downloading...\n",
            "From: https://drive.google.com/uc?id=1AbxjCBByF-xGV3c7FJ1ztZC1HO0O0uJ0\n",
            "To: /content/kaggle.json\n",
            "\r  0% 0.00/66.0 [00:00<?, ?B/s]\r100% 66.0/66.0 [00:00<00:00, 54.8kB/s]\n"
          ]
        }
      ]
    },
    {
      "cell_type": "code",
      "metadata": {
        "colab": {
          "base_uri": "https://localhost:8080/"
        },
        "id": "VUoZqrNNzC_Q",
        "outputId": "09027337-e4b0-4ed2-c9d3-347c43e8b8c6"
      },
      "source": [
        "! pip install kaggle\n",
        "import os\n",
        "os.environ['KAGGLE_CONFIG_DIR'] = '/content/'\n",
        "! kaggle competitions download -c comp-551-fall-2021\n",
        "! unzip images_l.pkl.zip\n",
        "! unzip images_test.pkl.zip\n",
        "! unzip images_ul.pkl.zip\n",
        "! unzip labels_l.pkl.zip"
      ],
      "execution_count": null,
      "outputs": [
        {
          "output_type": "stream",
          "name": "stdout",
          "text": [
            "Requirement already satisfied: kaggle in /usr/local/lib/python3.7/dist-packages (1.5.12)\n",
            "Requirement already satisfied: tqdm in /usr/local/lib/python3.7/dist-packages (from kaggle) (4.62.3)\n",
            "Requirement already satisfied: urllib3 in /usr/local/lib/python3.7/dist-packages (from kaggle) (1.24.3)\n",
            "Requirement already satisfied: certifi in /usr/local/lib/python3.7/dist-packages (from kaggle) (2021.10.8)\n",
            "Requirement already satisfied: requests in /usr/local/lib/python3.7/dist-packages (from kaggle) (2.23.0)\n",
            "Requirement already satisfied: python-slugify in /usr/local/lib/python3.7/dist-packages (from kaggle) (5.0.2)\n",
            "Requirement already satisfied: six>=1.10 in /usr/local/lib/python3.7/dist-packages (from kaggle) (1.15.0)\n",
            "Requirement already satisfied: python-dateutil in /usr/local/lib/python3.7/dist-packages (from kaggle) (2.8.2)\n",
            "Requirement already satisfied: text-unidecode>=1.3 in /usr/local/lib/python3.7/dist-packages (from python-slugify->kaggle) (1.3)\n",
            "Requirement already satisfied: chardet<4,>=3.0.2 in /usr/local/lib/python3.7/dist-packages (from requests->kaggle) (3.0.4)\n",
            "Requirement already satisfied: idna<3,>=2.5 in /usr/local/lib/python3.7/dist-packages (from requests->kaggle) (2.10)\n",
            "Warning: Your Kaggle API key is readable by other users on this system! To fix this, you can run 'chmod 600 /content/kaggle.json'\n",
            "Warning: Looks like you're using an outdated API Version, please consider updating (server 1.5.12 / client 1.5.4)\n",
            "Downloading images_ul.pkl.zip to /content\n",
            " 94% 187M/198M [00:04<00:00, 40.2MB/s]\n",
            "100% 198M/198M [00:04<00:00, 47.5MB/s]\n",
            "Downloading labels_l.pkl.zip to /content\n",
            "  0% 0.00/141k [00:00<?, ?B/s]\n",
            "100% 141k/141k [00:00<00:00, 125MB/s]\n",
            "Downloading images_l.pkl.zip to /content\n",
            " 97% 191M/197M [00:01<00:00, 186MB/s]\n",
            "100% 197M/197M [00:01<00:00, 181MB/s]\n",
            "Downloading images_test.pkl.zip to /content\n",
            " 87% 86.0M/99.0M [00:00<00:00, 125MB/s]\n",
            "100% 99.0M/99.0M [00:00<00:00, 155MB/s]\n",
            "Archive:  images_l.pkl.zip\n",
            "  inflating: images_l.pkl            \n",
            "Archive:  images_test.pkl.zip\n",
            "  inflating: images_test.pkl         \n",
            "Archive:  images_ul.pkl.zip\n",
            "  inflating: images_ul.pkl           \n",
            "Archive:  labels_l.pkl.zip\n",
            "  inflating: labels_l.pkl            \n"
          ]
        }
      ]
    },
    {
      "cell_type": "code",
      "metadata": {
        "id": "vxNdsviuzk0f"
      },
      "source": [
        "import io\n",
        "import cv2\n",
        "import numpy as np\n",
        "import matplotlib.pyplot as plt\n",
        "import pandas as pd\n",
        "import pickle\n",
        "from tensorflow import keras\n",
        "from tensorflow.keras.models import Sequential\n",
        "from tensorflow.keras.layers import Dense, Dropout, Flatten, Conv2D, MaxPooling2D, LeakyReLU, ZeroPadding2D,Convolution2D\n",
        "from tensorflow.keras.utils import to_categorical\n",
        "from tensorflow.keras.utils import plot_model\n",
        "from tensorflow.keras.callbacks import History\n",
        "from tensorflow.keras.optimizers import Nadam, Adam, SGD\n",
        "from keras.applications.vgg16 import VGG16\n",
        "from keras.applications.densenet import DenseNet169\n",
        "from keras.applications.resnet import ResNet152, ResNet101, ResNet50\n",
        "import matplotlib.pyplot as plt\n",
        "from keras.utils import np_utils\n",
        "from tensorflow.keras import backend as K\n",
        "from tensorflow.keras import regularizers\n",
        "from sklearn.model_selection import train_test_split\n",
        "from keras.models import Model\n",
        "from keras import layers, regularizers, Input\n",
        "from keras.layers import *\n",
        "from keras.callbacks import ReduceLROnPlateau\n",
        "from keras import optimizers\n",
        "from sklearn.preprocessing import LabelEncoder\n",
        "from sklearn.model_selection import train_test_split\n",
        "from sklearn.metrics import confusion_matrix\n",
        "from sklearn.preprocessing import OneHotEncoder\n",
        "import tensorflow as tf\n",
        "from google.colab import drive\n",
        "import h5py\n",
        "import random\n",
        "import torch"
      ],
      "execution_count": null,
      "outputs": []
    },
    {
      "cell_type": "code",
      "metadata": {
        "id": "MpxNcnRAzlde"
      },
      "source": [
        "# Image data for training (30,000 sample, each sample is a 56x56 image)\n",
        "# train_labels = pd.read_csv('train_max_y.csv')\n",
        "# train_images = pd.read_pickle('train_max_x')\n",
        "# test_images = pd.read_pickle('test_max_x')\n",
        "with open(\"images_l.pkl\", 'rb') as f:\n",
        "    # load into as a numpy array\n",
        "    train_labelled_data = pickle.load(f)\n",
        "# Test images. The prediction corresponding to these images should be uploaded. (15,000 samples)\n",
        "with open(\"images_test.pkl\", 'rb') as f:\n",
        "    test_data = pickle.load(f)\n",
        "# Labels for training (30,000 rows, each row is a size 36 binary vector, which is the label to the corresponding image)\n",
        "with open(\"labels_l.pkl\", 'rb') as f:\n",
        "    train_labelled_y = pickle.load(f)\n",
        "# Additional images that can be used for training the classifier.\n",
        "# Labels for these images are not provided. (30,000 samples, where each sample is a 56x56 image)\n",
        "with open(\"images_ul.pkl\", 'rb') as f:\n",
        "    train_unlabelled_x = pickle.load(f)"
      ],
      "execution_count": null,
      "outputs": []
    },
    {
      "cell_type": "markdown",
      "metadata": {
        "id": "Yb62oc6mzq2D"
      },
      "source": [
        "# processing"
      ]
    },
    {
      "cell_type": "code",
      "metadata": {
        "colab": {
          "base_uri": "https://localhost:8080/"
        },
        "id": "vspzJuF9zoQz",
        "outputId": "a4a86e1d-a780-4f93-b4fa-43f7d685edea"
      },
      "source": [
        "# load process data\n",
        "! gdown https://drive.google.com/uc?id=1wyUpGYONbWRjdaLgeiEH2ryqm_kMOMF_\n",
        "! gdown https://drive.google.com/uc?id=1tFt0ddczfNPmq8IUNnZ8ifGUbgzP9DxU"
      ],
      "execution_count": null,
      "outputs": [
        {
          "output_type": "stream",
          "name": "stdout",
          "text": [
            "Downloading...\n",
            "From: https://drive.google.com/uc?id=1wyUpGYONbWRjdaLgeiEH2ryqm_kMOMF_\n",
            "To: /content/processed_train_set.csv\n",
            "100% 386M/386M [00:01<00:00, 209MB/s]\n",
            "Downloading...\n",
            "From: https://drive.google.com/uc?id=1tFt0ddczfNPmq8IUNnZ8ifGUbgzP9DxU\n",
            "To: /content/processed_test_set.csv\n",
            "100% 193M/193M [00:01<00:00, 180MB/s]\n"
          ]
        }
      ]
    },
    {
      "cell_type": "code",
      "metadata": {
        "colab": {
          "base_uri": "https://localhost:8080/"
        },
        "id": "GmoLgeoL3zgF",
        "outputId": "baabea95-ac5c-48bd-bda4-6e60074ee0cd"
      },
      "source": [
        "# load model1 and model2\n",
        "! gdown https://drive.google.com/uc?id=1gpLzFm3QW1q__KMAg4QWe2pqVveAmd_y\n",
        "! gdown https://drive.google.com/uc?id=1YKExD85CaznZqjKOYPc3of08iCdMrUtz"
      ],
      "execution_count": null,
      "outputs": [
        {
          "output_type": "stream",
          "name": "stdout",
          "text": [
            "Downloading...\n",
            "From: https://drive.google.com/uc?id=1gpLzFm3QW1q__KMAg4QWe2pqVveAmd_y\n",
            "To: /content/VGG_valid_95.8.pkl\n",
            "100% 61.4M/61.4M [00:01<00:00, 35.8MB/s]\n",
            "Downloading...\n",
            "From: https://drive.google.com/uc?id=1YKExD85CaznZqjKOYPc3of08iCdMrUtz\n",
            "To: /content/wmy_valid_97.9_1.pkl\n",
            "100% 76.0M/76.0M [00:00<00:00, 82.0MB/s]\n"
          ]
        }
      ]
    },
    {
      "cell_type": "markdown",
      "metadata": {
        "id": "yTnX3DhaTUDk"
      },
      "source": [
        ""
      ]
    },
    {
      "cell_type": "code",
      "metadata": {
        "id": "eP_9wiIs237V"
      },
      "source": [
        "model = pickle.load(open(\"VGG_valid_95.8.pkl\", 'rb'))\n",
        "model2 = pickle.load(open(\"wmy_valid_97.9_1.pkl\", 'rb'))"
      ],
      "execution_count": null,
      "outputs": []
    },
    {
      "cell_type": "markdown",
      "metadata": {
        "id": "PF4BzfSaztLp"
      },
      "source": [
        "# digit"
      ]
    },
    {
      "cell_type": "code",
      "metadata": {
        "colab": {
          "base_uri": "https://localhost:8080/",
          "height": 267
        },
        "id": "965I3Qgjz7mN",
        "outputId": "b8bede8d-93bd-4c7f-b9e1-7e6441a536c5"
      },
      "source": [
        "# load testing data for model testing\n",
        "x_test=np.array(pd.DataFrame(pd.read_csv('processed_test_set.csv')))\n",
        "# x_unlabelled_train=np.array(pd.DataFrame(pd.read_csv('processed_ul_train_set.csv')))\n",
        "# x_test = x_unlabelled_train\n",
        "\n",
        "x_test=x_test.reshape((15000,56,56))\n",
        "\n",
        "import matplotlib.pyplot as plt\n",
        "import random\n",
        "\n",
        "plt.imshow(x_test[random.randint(0,14999)], cmap=\"gray\")\n",
        "plt.show()\n",
        "\n",
        "# with open(\"images_test.pkl\",'rb') as f:\n",
        "#   x_test = pickle.load(f)\n",
        "for i in range(x_test.shape[0]):\n",
        "  x_test[i] = (x_test[i]>200).astype('int32')*255\n",
        "x_test = torch.Tensor(x_test)\n",
        "x_test = torch.unsqueeze(x_test,dim=3)/255\n",
        "x_test = x_test.repeat(1,1,1,3)\n",
        "x_test = x_test.numpy()\n",
        "x_test = x_test.astype('float32')"
      ],
      "execution_count": null,
      "outputs": [
        {
          "output_type": "display_data",
          "data": {
            "image/png": "[encoded data removed]",
            "text/plain": [
              "<Figure size 432x288 with 1 Axes>"
            ]
          },
          "metadata": {
            "needs_background": "light"
          }
        }
      ]
    },
    {
      "cell_type": "code",
      "metadata": {
        "colab": {
          "base_uri": "https://localhost:8080/"
        },
        "id": "ldP0vj0Lz-1u",
        "outputId": "38bdb022-9b7a-4801-ba30-a9d7b24d9065"
      },
      "source": [
        "result = model.predict(x_test,verbose=1)\n",
        "result = np.argmax(result, axis = 1)\n",
        "print(result[0:20])"
      ],
      "execution_count": null,
      "outputs": [
        {
          "output_type": "stream",
          "name": "stdout",
          "text": [
            "469/469 [==============================] - 4s 8ms/step\n",
            "[4 4 9 0 6 9 3 2 1 6 6 9 7 9 9 5 8 7 1 3]\n"
          ]
        }
      ]
    },
    {
      "cell_type": "markdown",
      "metadata": {
        "id": "UbAGeQbzz8AL"
      },
      "source": [
        "# letter"
      ]
    },
    {
      "cell_type": "code",
      "metadata": {
        "id": "4-6i_gt9zsc7"
      },
      "source": [
        "# # load testing data for model testing\n",
        "# x_test_data=np.array(pd.DataFrame(pd.read_csv('processed_test_set.csv')))\n",
        "\n",
        "# x_test_data=x_test_data.reshape((15000,56,56))\n",
        "\n",
        "\n",
        "with open(\"images_test.pkl\",'rb') as f:\n",
        "  x_test_data = pickle.load(f)\n",
        "x_test = x_test_data.reshape(-1,56,56,1)\n",
        "# x_test /= 255"
      ],
      "execution_count": null,
      "outputs": []
    },
    {
      "cell_type": "code",
      "metadata": {
        "colab": {
          "base_uri": "https://localhost:8080/"
        },
        "id": "JlPDPdmjz3Mr",
        "outputId": "eac4edc3-2439-4951-a2b9-8345b819240f"
      },
      "source": [
        "result2 = model2.predict(x_test, verbose=1)\n",
        "result2 = np.argmax(result2, axis = 1)\n",
        "print(result2[0:20])\n"
      ],
      "execution_count": null,
      "outputs": [
        {
          "output_type": "stream",
          "name": "stdout",
          "text": [
            "469/469 [==============================] - 3s 5ms/step\n",
            "[19 11  9 11  9 24 14 18 22  6  5  4  6  4 16 21  9 25  8  5]\n"
          ]
        }
      ]
    },
    {
      "cell_type": "markdown",
      "metadata": {
        "id": "KfvjNFnhq57z"
      },
      "source": [
        "# output"
      ]
    },
    {
      "cell_type": "code",
      "metadata": {
        "id": "M0_zVz_Bq5Gg"
      },
      "source": [
        "# transform 0-9 number to string like 0100000000, 0000001000\n",
        "def transform_digit (num):\n",
        "    temp_list = np.zeros(10)\n",
        "    temp_list[num]=1\n",
        "    temp_list = temp_list.astype(int)\n",
        "    str1 = ''.join(str(i) for i in temp_list)\n",
        "    return str1\n",
        "\n",
        "# tranform 0-25 number to 26-bit string with the index at the num value to be 1\n",
        "def transform_letter (num):\n",
        "    temp_list = np.zeros(26)\n",
        "    temp_list[num] = 1\n",
        "    \n",
        "    temp_list = temp_list.astype(int)\n",
        "    str1 = ''.join(str(i) for i in temp_list)\n",
        "    return str1\n",
        "\n",
        "output = list()\n",
        "for i in range (0,result.shape[0]):\n",
        "    tempStr = transform_digit(result[i])+transform_letter(result2[i])\n",
        "    output.append([i,tempStr])"
      ],
      "execution_count": null,
      "outputs": []
    },
    {
      "cell_type": "code",
      "metadata": {
        "id": "tPC6sjttrZKg"
      },
      "source": [
        "df=pd.DataFrame(output)\n",
        "df.columns = ['# Id','Category']\n",
        "df.to_csv('result.csv',index=False)"
      ],
      "execution_count": null,
      "outputs": []
    }
  ]
}