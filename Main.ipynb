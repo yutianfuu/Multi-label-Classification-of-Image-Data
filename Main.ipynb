{
  "nbformat": 4,
  "nbformat_minor": 0,
  "metadata": {
    "accelerator": "GPU",
    "colab": {
      "name": "Main.ipynb",
      "provenance": [],
      "collapsed_sections": []
    },
    "kernelspec": {
      "display_name": "Python 3",
      "name": "python3"
    },
    "language_info": {
      "name": "python"
    }
  },
  "cells": [
    {
      "cell_type": "markdown",
      "metadata": {
        "id": "0gyqdFLCXrRW"
      },
      "source": [
        "<h1>best running</h1>"
      ]
    },
    {
      "cell_type": "markdown",
      "metadata": {
        "id": "iL18NGY4YNIO"
      },
      "source": [
        "link to kaggle"
      ]
    },
    {
      "cell_type": "code",
      "metadata": {
        "colab": {
          "base_uri": "https://localhost:8080/"
        },
        "id": "VJrDP7pIXoCZ",
        "outputId": "11254e07-0e8d-4b0e-feec-125baffbb5e2"
      },
      "source": [
        "! gdown https://drive.google.com/uc?id=1AbxjCBByF-xGV3c7FJ1ztZC1HO0O0uJ0"
      ],
      "execution_count": 1,
      "outputs": [
        {
          "output_type": "stream",
          "name": "stdout",
          "text": [
            "Downloading...\n",
            "From: https://drive.google.com/uc?id=1AbxjCBByF-xGV3c7FJ1ztZC1HO0O0uJ0\n",
            "To: /content/kaggle.json\n",
            "\r  0% 0.00/66.0 [00:00<?, ?B/s]\r100% 66.0/66.0 [00:00<00:00, 223kB/s]\n"
          ]
        }
      ]
    },
    {
      "cell_type": "code",
      "metadata": {
        "colab": {
          "base_uri": "https://localhost:8080/"
        },
        "id": "HKRCNv1LXvM7",
        "outputId": "2c4dc4c8-f038-4cb3-f905-c5b9a6521cf2"
      },
      "source": [
        "! pip install kaggle\n",
        "import os\n",
        "os.environ['KAGGLE_CONFIG_DIR'] = '/content/'\n",
        "! kaggle competitions download -c comp-551-fall-2021\n",
        "! unzip images_l.pkl.zip\n",
        "! unzip images_test.pkl.zip\n",
        "! unzip images_ul.pkl.zip\n",
        "! unzip labels_l.pkl.zip"
      ],
      "execution_count": 2,
      "outputs": [
        {
          "output_type": "stream",
          "name": "stdout",
          "text": [
            "Requirement already satisfied: kaggle in /usr/local/lib/python3.7/dist-packages (1.5.12)\n",
            "Requirement already satisfied: python-slugify in /usr/local/lib/python3.7/dist-packages (from kaggle) (5.0.2)\n",
            "Requirement already satisfied: urllib3 in /usr/local/lib/python3.7/dist-packages (from kaggle) (1.24.3)\n",
            "Requirement already satisfied: six>=1.10 in /usr/local/lib/python3.7/dist-packages (from kaggle) (1.15.0)\n",
            "Requirement already satisfied: tqdm in /usr/local/lib/python3.7/dist-packages (from kaggle) (4.62.3)\n",
            "Requirement already satisfied: requests in /usr/local/lib/python3.7/dist-packages (from kaggle) (2.23.0)\n",
            "Requirement already satisfied: python-dateutil in /usr/local/lib/python3.7/dist-packages (from kaggle) (2.8.2)\n",
            "Requirement already satisfied: certifi in /usr/local/lib/python3.7/dist-packages (from kaggle) (2021.10.8)\n",
            "Requirement already satisfied: text-unidecode>=1.3 in /usr/local/lib/python3.7/dist-packages (from python-slugify->kaggle) (1.3)\n",
            "Requirement already satisfied: chardet<4,>=3.0.2 in /usr/local/lib/python3.7/dist-packages (from requests->kaggle) (3.0.4)\n",
            "Requirement already satisfied: idna<3,>=2.5 in /usr/local/lib/python3.7/dist-packages (from requests->kaggle) (2.10)\n",
            "Warning: Your Kaggle API key is readable by other users on this system! To fix this, you can run 'chmod 600 /content/kaggle.json'\n",
            "Warning: Looks like you're using an outdated API Version, please consider updating (server 1.5.12 / client 1.5.4)\n",
            "Downloading labels_l.pkl.zip to /content\n",
            "  0% 0.00/141k [00:00<?, ?B/s]\n",
            "100% 141k/141k [00:00<00:00, 68.9MB/s]\n",
            "Downloading images_l.pkl.zip to /content\n",
            " 99% 194M/197M [00:00<00:00, 215MB/s]\n",
            "100% 197M/197M [00:00<00:00, 218MB/s]\n",
            "Downloading images_test.pkl.zip to /content\n",
            " 92% 91.0M/99.0M [00:00<00:00, 224MB/s]\n",
            "100% 99.0M/99.0M [00:00<00:00, 223MB/s]\n",
            "Downloading images_ul.pkl.zip to /content\n",
            " 91% 180M/198M [00:00<00:00, 235MB/s]\n",
            "100% 198M/198M [00:00<00:00, 218MB/s]\n",
            "Archive:  images_l.pkl.zip\n",
            "  inflating: images_l.pkl            \n",
            "Archive:  images_test.pkl.zip\n",
            "  inflating: images_test.pkl         \n",
            "Archive:  images_ul.pkl.zip\n",
            "  inflating: images_ul.pkl           \n",
            "Archive:  labels_l.pkl.zip\n",
            "  inflating: labels_l.pkl            \n"
          ]
        }
      ]
    },
    {
      "cell_type": "markdown",
      "metadata": {
        "id": "anVR89jDYP-v"
      },
      "source": [
        "imports"
      ]
    },
    {
      "cell_type": "code",
      "metadata": {
        "id": "FbNv1yhJXwzx"
      },
      "source": [
        "import io\n",
        "import cv2\n",
        "import numpy as np\n",
        "import matplotlib.pyplot as plt\n",
        "import pandas as pd\n",
        "import pickle\n",
        "from tensorflow import keras\n",
        "from tensorflow.keras.models import Sequential\n",
        "from tensorflow.keras.layers import Dense, Dropout, Flatten, Conv2D, MaxPooling2D, LeakyReLU, ZeroPadding2D,Convolution2D\n",
        "from tensorflow.keras.utils import to_categorical\n",
        "from tensorflow.keras.utils import plot_model\n",
        "from tensorflow.keras.callbacks import History\n",
        "from tensorflow.keras.optimizers import Nadam, Adam, SGD\n",
        "from keras.applications.vgg16 import VGG16\n",
        "from keras.applications.densenet import DenseNet169\n",
        "from keras.applications.resnet import ResNet152, ResNet101, ResNet50\n",
        "import matplotlib.pyplot as plt\n",
        "from keras.utils import np_utils\n",
        "from tensorflow.keras import backend as K\n",
        "from tensorflow.keras import regularizers\n",
        "from sklearn.model_selection import train_test_split\n",
        "from keras.models import Model\n",
        "from keras import layers, regularizers, Input\n",
        "from keras.layers import *\n",
        "from keras.callbacks import ReduceLROnPlateau\n",
        "from keras import optimizers\n",
        "from sklearn.preprocessing import LabelEncoder\n",
        "from sklearn.model_selection import train_test_split\n",
        "from sklearn.metrics import confusion_matrix\n",
        "from sklearn.preprocessing import OneHotEncoder\n",
        "import tensorflow as tf\n",
        "from google.colab import drive\n",
        "import h5py\n",
        "import random\n",
        "import torch"
      ],
      "execution_count": 3,
      "outputs": []
    },
    {
      "cell_type": "markdown",
      "metadata": {
        "id": "b6BhoLfDX7pa"
      },
      "source": [
        "load datasets"
      ]
    },
    {
      "cell_type": "code",
      "metadata": {
        "id": "2b6v7C01X3rw"
      },
      "source": [
        "# Image data for training (30,000 sample, each sample is a 56x56 image)\n",
        "# train_labels = pd.read_csv('train_max_y.csv')\n",
        "# train_images = pd.read_pickle('train_max_x')\n",
        "# test_images = pd.read_pickle('test_max_x')\n",
        "with open(\"images_l.pkl\", 'rb') as f:\n",
        "    # load into as a numpy array\n",
        "    train_labelled_data = pickle.load(f)\n",
        "# Test images. The prediction corresponding to these images should be uploaded. (15,000 samples)\n",
        "with open(\"images_test.pkl\", 'rb') as f:\n",
        "    test_data = pickle.load(f)\n",
        "# Labels for training (30,000 rows, each row is a size 36 binary vector, which is the label to the corresponding image)\n",
        "with open(\"labels_l.pkl\", 'rb') as f:\n",
        "    train_labelled_y = pickle.load(f)\n",
        "# Additional images that can be used for training the classifier.\n",
        "# Labels for these images are not provided. (30,000 samples, where each sample is a 56x56 image)\n",
        "with open(\"images_ul.pkl\", 'rb') as f:\n",
        "    train_unlabelled_x = pickle.load(f)"
      ],
      "execution_count": 4,
      "outputs": []
    },
    {
      "cell_type": "markdown",
      "metadata": {
        "id": "KidaS1k0YW7w"
      },
      "source": [
        "# Pre processing"
      ]
    },
    {
      "cell_type": "code",
      "metadata": {
        "colab": {
          "base_uri": "https://localhost:8080/"
        },
        "id": "JOEo8ydMX68Q",
        "outputId": "b31c3b66-62b2-4000-a139-38ed966291cf"
      },
      "source": [
        "# load process data\n",
        "! gdown https://drive.google.com/uc?id=1wyUpGYONbWRjdaLgeiEH2ryqm_kMOMF_\n",
        "! gdown https://drive.google.com/uc?id=1tFt0ddczfNPmq8IUNnZ8ifGUbgzP9DxU\n",
        "! gdown https://drive.google.com/uc?id=1bOq70mP5ghxfiFtbK3rTbPDcefkxgyQx"
      ],
      "execution_count": 5,
      "outputs": [
        {
          "output_type": "stream",
          "name": "stdout",
          "text": [
            "Downloading...\n",
            "From: https://drive.google.com/uc?id=1wyUpGYONbWRjdaLgeiEH2ryqm_kMOMF_\n",
            "To: /content/processed_train_set.csv\n",
            "100% 386M/386M [00:02<00:00, 176MB/s]\n",
            "Downloading...\n",
            "From: https://drive.google.com/uc?id=1tFt0ddczfNPmq8IUNnZ8ifGUbgzP9DxU\n",
            "To: /content/processed_test_set.csv\n",
            "100% 193M/193M [00:01<00:00, 186MB/s]\n",
            "Downloading...\n",
            "From: https://drive.google.com/uc?id=1bOq70mP5ghxfiFtbK3rTbPDcefkxgyQx\n",
            "To: /content/processed_ul_train_set.csv\n",
            "100% 386M/386M [00:02<00:00, 192MB/s]\n"
          ]
        }
      ]
    },
    {
      "cell_type": "code",
      "metadata": {
        "colab": {
          "base_uri": "https://localhost:8080/"
        },
        "id": "JUXHvy6VX69k",
        "outputId": "38e080de-e11a-47f3-fc42-ccee48fddaff"
      },
      "source": [
        "# load models\n",
        "# ! gdown https://drive.google.com/uc?id=1gpLzFm3QW1q__KMAg4QWe2pqVveAmd_y\n",
        "# ! gdown https://drive.google.com/uc?id=1DLNI6xb1SNEFMcEcNgJb_q0WYR5OlKi2\n",
        "# ! gdown https://drive.google.com/uc?id=1VFcPDEt_Ges0eJ7FB9iKoWV4goSMGqk2\n",
        "# ! gdown https://drive.google.com/uc?id=1p_etGMx0I57VG6SGR_XBp3y153gNLHNR\n",
        "# ! gdown https://drive.google.com/uc?id=1nO0-eQyOBKSe-VqK3jwQ6iCFy-tkf6xK\n",
        "# ! gdown https://drive.google.com/uc?id=1v8MLZ69Py9cZmi9ippWBwMc7tqnfKNlv\n",
        "# ! gdown https://drive.google.com/uc?id=1df0K-MQQ3c1VEAOSUqNq931La8sClpxp\n",
        "\n",
        "! gdown https://drive.google.com/uc?id=1RoQyzuzt88rBnctuWZRoPZMlyJvHsofU\n",
        "! gdown https://drive.google.com/uc?id=1v448DaA5Zx9xdM0-mlmOAo-BmSIy5rwC\n",
        "! gdown https://drive.google.com/uc?id=1VdJ8BMOnrSb4kyBewHZqg_OUjMVgy6XA\n",
        "! gdown https://drive.google.com/uc?id=1VQ2q8-aTFntdLMOllG-4mIHexwC_Mnma\n",
        "! gdown https://drive.google.com/uc?id=1REQfSvI-Grz6TgGe35KXbv7LmtiwwYxh\n",
        "! gdown https://drive.google.com/uc?id=12u-rpWk_OoMQnhXq-dl6S1yOBSKjXL-x\n",
        "! gdown https://drive.google.com/uc?id=1IQ-NqDpJ7RUcRUY6-YLOuiM8zY1WLpL7\n",
        "! gdown https://drive.google.com/uc?id=18bQmyfKnXd6iD8zWpJ6VKnvfU6xnNwhX\n",
        "! gdown https://drive.google.com/uc?id=1JSu9bdn8qR5bNOpVlS83KuW7_3SJffny\n",
        "! gdown https://drive.google.com/uc?id=1rLBQ_OiQ0lFZwvw0vkrFfufGgWyim03z\n",
        "! gdown https://drive.google.com/uc?id=1K-cuAO6jwHA8HIUilN2YDB6osBuRgSBh\n",
        "! gdown https://drive.google.com/uc?id=1T4wL3v8RB2uK4JMbC2Lf0DOKfCoN6KI8\n",
        "! gdown https://drive.google.com/uc?id=1Kx_rd8KoXNlOV5sBJysZXQ8Hgw1Y8aYL\n",
        "! gdown https://drive.google.com/uc?id=1llVTiVKypK3UlH3lfDIIFzblF4Yesw7Y\n",
        "\n",
        "\n",
        "! gdown https://drive.google.com/uc?id=1YKExD85CaznZqjKOYPc3of08iCdMrUtz\n",
        "! gdown https://drive.google.com/uc?id=186i8-O8q07Q2CrEz7O2GXaj9Yz9NKXwC\n",
        "! gdown https://drive.google.com/uc?id=1-IIib1GFCDFYvtvCoME98P8VszmC9yQT\n",
        "! gdown https://drive.google.com/uc?id=1ZdqmrMxnCz6NbJkYd5DfmGdQ_34t7A95\n",
        "! gdown https://drive.google.com/uc?id=1cjlv8lHW1PtPdrS6S9-Myb0zaCrLzl8v\n",
        "! gdown https://drive.google.com/uc?id=1s6RhlU7hHfUE7N1eAKWf6dCbflYP6AKs\n",
        "! gdown https://drive.google.com/uc?id=1y99YjBiainJY7UW43J0RMoCt6boMeuEp\n",
        "! gdown https://drive.google.com/uc?id=1mlIrigUbVDuV2NJRRB0TG5W0YHtOGkIw\n",
        "! gdown https://drive.google.com/uc?id=1BdNUh1oABKxqpLexSVHRocaKmVn11u4y\n",
        "! gdown https://drive.google.com/uc?id=1_ff2WbG8iY9lMzdvMLIFtIEuqo7FV-sU\n",
        "! gdown https://drive.google.com/uc?id=1Vrc84KkEJP7YaoxXzVdPOQfXib3lnktD\n",
        "! gdown https://drive.google.com/uc?id=1uZcZUwGkf-nAPNS8EGC-wGeWeAm8qXOI\n",
        "! gdown https://drive.google.com/uc?id=1771rkCi9A1bB77ZiOfyOZEsdyOywHf1E\n",
        "! gdown https://drive.google.com/uc?id=1N5v2Aof5Ht4H4p-1ZvC3QHDBMVJUPMVX\n",
        "! gdown https://drive.google.com/uc?id=12-wzZpAyipKsefGB4HeUAKDZsvw5tS_N\n"
      ],
      "execution_count": 6,
      "outputs": [
        {
          "output_type": "stream",
          "name": "stdout",
          "text": [
            "Downloading...\n",
            "From: https://drive.google.com/uc?id=1RoQyzuzt88rBnctuWZRoPZMlyJvHsofU\n",
            "To: /content/model1_valid_97.9_3.pkl\n",
            "100% 38.2M/38.2M [00:00<00:00, 91.4MB/s]\n",
            "Downloading...\n",
            "From: https://drive.google.com/uc?id=1v448DaA5Zx9xdM0-mlmOAo-BmSIy5rwC\n",
            "To: /content/model1_valid_97.8_1.pkl\n",
            "100% 38.2M/38.2M [00:00<00:00, 82.1MB/s]\n",
            "Downloading...\n",
            "From: https://drive.google.com/uc?id=1VdJ8BMOnrSb4kyBewHZqg_OUjMVgy6XA\n",
            "To: /content/model1_valid_97.8_2.pkl\n",
            "100% 38.2M/38.2M [00:00<00:00, 145MB/s] \n",
            "Downloading...\n",
            "From: https://drive.google.com/uc?id=1VQ2q8-aTFntdLMOllG-4mIHexwC_Mnma\n",
            "To: /content/model1_valid_97.9_2.pkl\n",
            "100% 38.2M/38.2M [00:00<00:00, 67.6MB/s]\n",
            "Downloading...\n",
            "From: https://drive.google.com/uc?id=1REQfSvI-Grz6TgGe35KXbv7LmtiwwYxh\n",
            "To: /content/model1_valid_97.9_1.pkl\n",
            "100% 38.2M/38.2M [00:00<00:00, 74.1MB/s]\n",
            "Downloading...\n",
            "From: https://drive.google.com/uc?id=12u-rpWk_OoMQnhXq-dl6S1yOBSKjXL-x\n",
            "To: /content/model1_valid_97.7_3.pkl\n",
            "100% 38.2M/38.2M [00:00<00:00, 92.1MB/s]\n",
            "Downloading...\n",
            "From: https://drive.google.com/uc?id=1IQ-NqDpJ7RUcRUY6-YLOuiM8zY1WLpL7\n",
            "To: /content/model1_valid_97.7_2.pkl\n",
            "100% 38.2M/38.2M [00:00<00:00, 104MB/s] \n",
            "Downloading...\n",
            "From: https://drive.google.com/uc?id=18bQmyfKnXd6iD8zWpJ6VKnvfU6xnNwhX\n",
            "To: /content/model1_valid_97.7_1.pkl\n",
            "100% 38.2M/38.2M [00:00<00:00, 57.1MB/s]\n",
            "Downloading...\n",
            "From: https://drive.google.com/uc?id=1JSu9bdn8qR5bNOpVlS83KuW7_3SJffny\n",
            "To: /content/model1_valid_99.0_1.pkl\n",
            "100% 38.2M/38.2M [00:00<00:00, 74.2MB/s]\n",
            "Downloading...\n",
            "From: https://drive.google.com/uc?id=1rLBQ_OiQ0lFZwvw0vkrFfufGgWyim03z\n",
            "To: /content/model1_valid_98.85_1.pkl\n",
            "100% 38.2M/38.2M [00:00<00:00, 74.3MB/s]\n",
            "Downloading...\n",
            "From: https://drive.google.com/uc?id=1K-cuAO6jwHA8HIUilN2YDB6osBuRgSBh\n",
            "To: /content/model1_valid_98.5_1.pkl\n",
            "100% 38.2M/38.2M [00:00<00:00, 41.7MB/s]\n",
            "Downloading...\n",
            "From: https://drive.google.com/uc?id=1T4wL3v8RB2uK4JMbC2Lf0DOKfCoN6KI8\n",
            "To: /content/model1_valid_99.05_1.pkl\n",
            "100% 38.2M/38.2M [00:00<00:00, 82.0MB/s]\n",
            "Downloading...\n",
            "From: https://drive.google.com/uc?id=1Kx_rd8KoXNlOV5sBJysZXQ8Hgw1Y8aYL\n",
            "To: /content/model1_valid_98.95_1.pkl\n",
            "100% 38.2M/38.2M [00:00<00:00, 91.9MB/s]\n",
            "Downloading...\n",
            "From: https://drive.google.com/uc?id=1llVTiVKypK3UlH3lfDIIFzblF4Yesw7Y\n",
            "To: /content/model1_valid_99.1_1.pkl\n",
            "100% 38.2M/38.2M [00:00<00:00, 82.1MB/s]\n",
            "Downloading...\n",
            "From: https://drive.google.com/uc?id=1YKExD85CaznZqjKOYPc3of08iCdMrUtz\n",
            "To: /content/model2_valid_97.9_1.pkl\n",
            "100% 76.0M/76.0M [00:00<00:00, 82.7MB/s]\n",
            "Downloading...\n",
            "From: https://drive.google.com/uc?id=186i8-O8q07Q2CrEz7O2GXaj9Yz9NKXwC\n",
            "To: /content/model2_valid_97.9.pkl\n",
            "100% 76.0M/76.0M [00:00<00:00, 93.1MB/s]\n",
            "Downloading...\n",
            "From: https://drive.google.com/uc?id=1-IIib1GFCDFYvtvCoME98P8VszmC9yQT\n",
            "To: /content/model2_valid_97.5.pkl\n",
            "100% 76.0M/76.0M [00:00<00:00, 87.8MB/s]\n",
            "Downloading...\n",
            "From: https://drive.google.com/uc?id=1ZdqmrMxnCz6NbJkYd5DfmGdQ_34t7A95\n",
            "To: /content/model2_valid_97.3.pkl\n",
            "100% 76.0M/76.0M [00:01<00:00, 67.9MB/s]\n",
            "Downloading...\n",
            "From: https://drive.google.com/uc?id=1cjlv8lHW1PtPdrS6S9-Myb0zaCrLzl8v\n",
            "To: /content/model2.pkl\n",
            "100% 76.0M/76.0M [00:00<00:00, 99.1MB/s]\n",
            "Downloading...\n",
            "From: https://drive.google.com/uc?id=1s6RhlU7hHfUE7N1eAKWf6dCbflYP6AKs\n",
            "To: /content/model2_valid_97.3_1.pkl\n",
            "100% 76.0M/76.0M [00:00<00:00, 78.6MB/s]\n",
            "Downloading...\n",
            "From: https://drive.google.com/uc?id=1y99YjBiainJY7UW43J0RMoCt6boMeuEp\n",
            "To: /content/model2_valid_98.05_2.pkl\n",
            "100% 38.2M/38.2M [00:00<00:00, 105MB/s] \n",
            "Downloading...\n",
            "From: https://drive.google.com/uc?id=1mlIrigUbVDuV2NJRRB0TG5W0YHtOGkIw\n",
            "To: /content/model2_valid_98.05_1.pkl\n",
            "100% 38.2M/38.2M [00:00<00:00, 74.4MB/s]\n",
            "Downloading...\n",
            "From: https://drive.google.com/uc?id=1BdNUh1oABKxqpLexSVHRocaKmVn11u4y\n",
            "To: /content/model2_valid_98.0_1.pkl\n",
            "100% 38.2M/38.2M [00:00<00:00, 82.4MB/s]\n",
            "Downloading...\n",
            "From: https://drive.google.com/uc?id=1_ff2WbG8iY9lMzdvMLIFtIEuqo7FV-sU\n",
            "To: /content/model2_valid_97.95_2.pkl\n",
            "100% 38.2M/38.2M [00:00<00:00, 73.9MB/s]\n",
            "Downloading...\n",
            "From: https://drive.google.com/uc?id=1Vrc84KkEJP7YaoxXzVdPOQfXib3lnktD\n",
            "To: /content/model2_valid_97.9_4.pkl\n",
            "100% 38.2M/38.2M [00:00<00:00, 82.4MB/s]\n",
            "Downloading...\n",
            "From: https://drive.google.com/uc?id=1uZcZUwGkf-nAPNS8EGC-wGeWeAm8qXOI\n",
            "To: /content/model2_valid_98.05_3.pkl\n",
            "100% 38.3M/38.3M [00:00<00:00, 92.4MB/s]\n",
            "Downloading...\n",
            "From: https://drive.google.com/uc?id=1771rkCi9A1bB77ZiOfyOZEsdyOywHf1E\n",
            "To: /content/model2_valid_98.15_1.pkl\n",
            "100% 38.2M/38.2M [00:00<00:00, 92.2MB/s]\n",
            "Downloading...\n",
            "From: https://drive.google.com/uc?id=1N5v2Aof5Ht4H4p-1ZvC3QHDBMVJUPMVX\n",
            "To: /content/model2_valid_97.95_1.pkl\n",
            "100% 38.2M/38.2M [00:00<00:00, 47.2MB/s]\n",
            "Downloading...\n",
            "From: https://drive.google.com/uc?id=12-wzZpAyipKsefGB4HeUAKDZsvw5tS_N\n",
            "To: /content/model2_valid_98.1_1.pkl\n",
            "100% 38.2M/38.2M [00:00<00:00, 105MB/s] \n"
          ]
        }
      ]
    },
    {
      "cell_type": "code",
      "metadata": {
        "id": "AqTAIrJaYqFI"
      },
      "source": [
        "# model1_1 = pickle.load(open(\"model1_valid_97.9_3.pkl\", 'rb'))\n",
        "# model1_2 = pickle.load(open(\"model1_valid_97.9_2.pkl\", 'rb'))\n",
        "# model1_3 = pickle.load(open(\"model1_valid_97.9_1.pkl\", 'rb'))\n",
        "# model1_4 = pickle.load(open(\"model1_valid_97.8_2.pkl\", 'rb'))\n",
        "# model1_5 = pickle.load(open(\"model1_valid_97.8_1.pkl\", 'rb'))\n",
        "# model1_6 = pickle.load(open(\"model1_valid_97.7_2.pkl\", 'rb'))\n",
        "# model1_7 = pickle.load(open(\"model1_valid_97.7_3.pkl\", 'rb'))\n",
        "# model1_8 = pickle.load(open(\"model1_valid_97.7_1.pkl\", 'rb'))\n",
        "model1_1 = pickle.load(open(\"model1_valid_99.1_1.pkl\", 'rb'))\n",
        "model1_2 = pickle.load(open(\"model1_valid_99.0_1.pkl\", 'rb'))\n",
        "model1_3 = pickle.load(open(\"model1_valid_99.05_1.pkl\", 'rb'))\n",
        "model1_4 = pickle.load(open(\"model1_valid_98.95_1.pkl\", 'rb'))\n",
        "model1_5 = pickle.load(open(\"model1_valid_98.85_1.pkl\", 'rb'))\n",
        "# model1_6 = pickle.load(open(\"model1_valid_98.5_1.pkl\", 'rb'))\n",
        "\n",
        "\n",
        "# model2_1 = pickle.load(open(\"model2_valid_97.9.pkl\", 'rb'))\n",
        "# model2_2 = pickle.load(open(\"model2_valid_97.9_1.pkl\", 'rb'))\n",
        "# model2_3 = pickle.load(open(\"model2_valid_97.5.pkl\", 'rb'))\n",
        "# model2_4 = pickle.load(open(\"model2_valid_97.3.pkl\", 'rb'))\n",
        "# model2_5 = pickle.load(open(\"model2.pkl\", 'rb'))\n",
        "# model2_6 = pickle.load(open(\"model2_valid_97.3_1.pkl\", 'rb'))\n",
        "model2_1 = pickle.load(open(\"model2_valid_98.1_1.pkl\", 'rb'))\n",
        "model2_2 = pickle.load(open(\"model2_valid_98.15_1.pkl\", 'rb'))\n",
        "model2_3 = pickle.load(open(\"model2_valid_98.05_3.pkl\", 'rb'))\n",
        "model2_4 = pickle.load(open(\"model2_valid_97.95_2.pkl\", 'rb'))\n",
        "model2_5 = pickle.load(open(\"model2_valid_98.05_1.pkl\", 'rb'))\n",
        "model2_6 = pickle.load(open(\"model2_valid_98.05_2.pkl\", 'rb'))\n",
        "model2_7 = pickle.load(open(\"model2_valid_98.0_1.pkl\", 'rb'))"
      ],
      "execution_count": 11,
      "outputs": []
    },
    {
      "cell_type": "markdown",
      "metadata": {
        "id": "f70629MEYuFQ"
      },
      "source": [
        "# Digit\n",
        "we divide our training and prediction into two parts: digit and letters."
      ]
    },
    {
      "cell_type": "code",
      "metadata": {
        "id": "38T6rPkUZQ-f"
      },
      "source": [
        "# load testing data for model testing\n",
        "x_test=np.array(pd.DataFrame(pd.read_csv('processed_test_set.csv')))\n",
        "\n",
        "x_test=x_test.reshape((15000,56,56))\n",
        "\n",
        "for i in range(x_test.shape[0]):\n",
        "  x_test[i] = (x_test[i]>200).astype('int32')*255\n",
        "x_test = torch.Tensor(x_test)\n",
        "x_test = torch.unsqueeze(x_test,dim=3)/255\n",
        "x_test = x_test.repeat(1,1,1,3)\n",
        "x_test = x_test.numpy()\n",
        "x_test = x_test.astype('float32')"
      ],
      "execution_count": 12,
      "outputs": []
    },
    {
      "cell_type": "code",
      "metadata": {
        "id": "YRoOtpH7G9mn"
      },
      "source": [
        "with open(\"images_test.pkl\", 'rb') as f:\n",
        "    test_data = pickle.load(f)\n",
        "x_test = test_data.reshape(-1, 56, 56, 1)"
      ],
      "execution_count": 22,
      "outputs": []
    },
    {
      "cell_type": "code",
      "metadata": {
        "colab": {
          "base_uri": "https://localhost:8080/"
        },
        "id": "n-f2nbmsZbJX",
        "outputId": "f44decf3-1b4c-4d08-b81c-be1644d88372"
      },
      "source": [
        "result_1 = model1_1.predict(x_test,verbose=1)\n",
        "result_2 = model1_2.predict(x_test,verbose=1)\n",
        "result_3 = model1_3.predict(x_test,verbose=1)\n",
        "result_4 = model1_4.predict(x_test,verbose=1)\n",
        "result_5 = model1_5.predict(x_test,verbose=1)\n",
        "# result_6 = model1_6.predict(x_test,verbose=1)\n",
        "# result_7 = model1_7.predict(x_test,verbose=1)\n",
        "# result_8 = model1_8.predict(x_test,verbose=1)"
      ],
      "execution_count": 23,
      "outputs": [
        {
          "output_type": "stream",
          "name": "stdout",
          "text": [
            "469/469 [==============================] - 2s 5ms/step\n",
            "469/469 [==============================] - 2s 5ms/step\n",
            "469/469 [==============================] - 2s 5ms/step\n",
            "469/469 [==============================] - 2s 5ms/step\n",
            "469/469 [==============================] - 2s 5ms/step\n"
          ]
        }
      ]
    },
    {
      "cell_type": "code",
      "metadata": {
        "colab": {
          "base_uri": "https://localhost:8080/"
        },
        "id": "L5dkqcjeGm2w",
        "outputId": "21760735-95d2-45aa-9cfc-7fc0c1ceb28d"
      },
      "source": [
        "result = np.argmax(result_1,axis=1)\n",
        "print(result[0:10])"
      ],
      "execution_count": null,
      "outputs": [
        {
          "output_type": "stream",
          "name": "stdout",
          "text": [
            "[0 4 9 0 6 9 3 2 1 6]\n"
          ]
        }
      ]
    },
    {
      "cell_type": "markdown",
      "metadata": {
        "id": "dpR_olUMaDdw"
      },
      "source": [
        "average the models prediction to get a more reasonable prediction"
      ]
    },
    {
      "cell_type": "code",
      "metadata": {
        "colab": {
          "base_uri": "https://localhost:8080/"
        },
        "id": "8czENQJ_Z7Jx",
        "outputId": "e52d5fe1-68b3-49cd-c9ec-dc9f03fedf2e"
      },
      "source": [
        "# averaging\n",
        "result = np.zeros((15000,10))\n",
        "for i in range (0,result_1.shape[0]):\n",
        "  for j in range (0,result_1.shape[1]):\n",
        "    # result[i][j] = (result_1[i][j] + result_2[i][j] + result_3[i][j] + result_4[i][j] + result_5[i][j] + result_6[i][j] + result_7[i][j]  )/7\n",
        "    result[i][j] = (result_1[i][j] + result_2[i][j] + result_3[i][j] + result_4[i][j] + result_5[i][j])/5\n",
        "\n",
        "result = np.argmax(result, axis = 1)\n",
        "print(result[0:10])"
      ],
      "execution_count": 15,
      "outputs": [
        {
          "output_type": "stream",
          "name": "stdout",
          "text": [
            "[0 4 9 0 6 9 3 2 1 6]\n"
          ]
        }
      ]
    },
    {
      "cell_type": "markdown",
      "metadata": {
        "id": "TjgEesTYaZ_4"
      },
      "source": [
        "vote for mode for models prediction to get a more reasonable prediction"
      ]
    },
    {
      "cell_type": "code",
      "metadata": {
        "colab": {
          "base_uri": "https://localhost:8080/"
        },
        "id": "5WK1kL4MaAxp",
        "outputId": "354dfcb3-dd5f-40d3-d45f-f881248ac4ba"
      },
      "source": [
        "# mode\n",
        "result_1 = np.argmax(result_1, axis = 1)\n",
        "result_2 = np.argmax(result_2, axis = 1)\n",
        "result_3 = np.argmax(result_3, axis = 1)\n",
        "result_4 = np.argmax(result_4, axis = 1)\n",
        "result_5 = np.argmax(result_5, axis = 1)\n",
        "# result_6 = np.argmax(result_6, axis = 1)\n",
        "# result_7 = np.argmax(result_7, axis = 1)\n",
        "\n",
        "print(result_1[0:10])\n",
        "print(result_2[0:10])\n",
        "print(result_3[0:10])\n",
        "print(result_4[0:10])\n",
        "print(result_5[0:10])\n",
        "# print(result_6[0:10])\n",
        "# print(result_7[0:10])\n",
        "\n",
        "from scipy import stats\n",
        "result = np.zeros(15000)\n",
        "for i in range (result_1.shape[0]):\n",
        "  # array = np.array([result_1[i],result_2[i],result_3[i],result_4[i],result_5[i],result_6[i],result_7[i] ])\n",
        "  array = np.array([result_1[i],result_2[i],result_3[i],result_4[i],result_5[i] ])\n",
        "  mode = stats.mode(array)\n",
        "  result[i]=mode[0][0]\n",
        "result = result.astype(int)\n",
        "print(result[0:10])"
      ],
      "execution_count": 24,
      "outputs": [
        {
          "output_type": "stream",
          "name": "stdout",
          "text": [
            "[0 4 9 0 6 9 3 2 1 6]\n",
            "[0 4 9 0 6 9 3 2 1 6]\n",
            "[0 4 9 0 6 9 3 2 1 6]\n",
            "[0 4 9 0 6 9 3 2 1 6]\n",
            "[0 4 9 0 6 9 3 2 1 6]\n",
            "[0 4 9 0 6 9 3 2 1 6]\n"
          ]
        }
      ]
    },
    {
      "cell_type": "markdown",
      "metadata": {
        "id": "rwO0pBpIae8f"
      },
      "source": [
        "# Letter"
      ]
    },
    {
      "cell_type": "code",
      "metadata": {
        "id": "ZciakuUlagun"
      },
      "source": [
        "with open(\"images_test.pkl\",'rb') as f:\n",
        "  x_test_data = pickle.load(f)\n",
        "x_test = x_test_data.reshape(-1,56,56,1)"
      ],
      "execution_count": 25,
      "outputs": []
    },
    {
      "cell_type": "code",
      "metadata": {
        "colab": {
          "base_uri": "https://localhost:8080/"
        },
        "id": "rTjYtB6xaqEZ",
        "outputId": "affebe16-4639-4d8e-a38c-3ed106629c56"
      },
      "source": [
        "result2_1 = model2_1.predict(x_test,verbose=1)\n",
        "result2_2 = model2_2.predict(x_test,verbose=1)\n",
        "result2_3 = model2_3.predict(x_test,verbose=1)\n",
        "result2_4 = model2_4.predict(x_test,verbose=1)\n",
        "result2_5 = model2_5.predict(x_test,verbose=1)\n",
        "result2_6 = model2_6.predict(x_test,verbose=1)\n",
        "result2_7 = model2_7.predict(x_test,verbose=1)"
      ],
      "execution_count": 26,
      "outputs": [
        {
          "output_type": "stream",
          "name": "stdout",
          "text": [
            "469/469 [==============================] - 2s 5ms/step\n",
            "469/469 [==============================] - 2s 5ms/step\n",
            "469/469 [==============================] - 2s 5ms/step\n",
            "469/469 [==============================] - 2s 5ms/step\n",
            "469/469 [==============================] - 2s 5ms/step\n",
            "469/469 [==============================] - 2s 5ms/step\n",
            "469/469 [==============================] - 2s 5ms/step\n"
          ]
        }
      ]
    },
    {
      "cell_type": "code",
      "metadata": {
        "colab": {
          "base_uri": "https://localhost:8080/"
        },
        "id": "IxqPsJjaas4C",
        "outputId": "5ffe66d0-090a-47fc-eb60-1a23cccda950"
      },
      "source": [
        "# averaging\n",
        "result2 = np.zeros((15000,26))\n",
        "for i in range (0,result2_1.shape[0]):\n",
        "  for j in range (0,result2_1.shape[1]):\n",
        "    result2[i][j] = (result2_1[i][j] + result2_2[i][j] + result2_3[i][j] + result2_4[i][j]+ result2_5[i][j] + result2_6[i][j] + result2_7[i][j] )/7\n",
        "\n",
        "result2 = np.argmax(result2, axis = 1)\n",
        "print(result2[0:10])"
      ],
      "execution_count": 18,
      "outputs": [
        {
          "output_type": "stream",
          "name": "stdout",
          "text": [
            "[19 11  9 11  9 24 14 18 22  6]\n"
          ]
        }
      ]
    },
    {
      "cell_type": "code",
      "metadata": {
        "colab": {
          "base_uri": "https://localhost:8080/"
        },
        "id": "CEQtM2GtawIj",
        "outputId": "57fa59c3-0d02-40bd-a9c9-7b65af46df8e"
      },
      "source": [
        "# mode\n",
        "result2_1 = np.argmax(result2_1, axis = 1)\n",
        "result2_2 = np.argmax(result2_2, axis = 1)\n",
        "result2_3 = np.argmax(result2_3, axis = 1)\n",
        "result2_4 = np.argmax(result2_4, axis = 1)\n",
        "result2_5 = np.argmax(result2_5, axis = 1)\n",
        "result2_6 = np.argmax(result2_6, axis = 1)\n",
        "result2_7 = np.argmax(result2_7, axis = 1)\n",
        "\n",
        "print(result2_1[0:10])\n",
        "print(result2_2[0:10])\n",
        "print(result2_3[0:10])\n",
        "print(result2_4[0:10])\n",
        "print(result2_5[0:10])\n",
        "print(result2_6[0:10])\n",
        "print(result2_7[0:10])\n",
        "\n",
        "from scipy import stats\n",
        "result2 = np.zeros(15000)\n",
        "for i in range (result2_1.shape[0]):\n",
        "  array = np.array([result2_1[i],result2_2[i],result2_3[i],result2_4[i],result2_5[i],result2_6[i],result2_7[i] ])\n",
        "  mode = stats.mode(array)\n",
        "  result2[i]=mode[0][0]\n",
        "result2 = result2.astype(int)\n",
        "print(result2[0:10])"
      ],
      "execution_count": 27,
      "outputs": [
        {
          "output_type": "stream",
          "name": "stdout",
          "text": [
            "[19 11  9 11  9 24 14 18 22  6]\n",
            "[19 11  9 11  9 24 14 18 22  6]\n",
            "[19 11  9 11  9 24 14 18 22  6]\n",
            "[19 11  9 11  9 24 14 18 22  6]\n",
            "[19 11  9 11  9 24 14 18 22  6]\n",
            "[19 11  9 11  9 24 14 18 22  6]\n",
            "[19 11  9 11  9 24 14 18 22  6]\n",
            "[19 11  9 11  9 24 14 18 22  6]\n"
          ]
        }
      ]
    },
    {
      "cell_type": "markdown",
      "metadata": {
        "id": "4Q8jUDEOa6Lg"
      },
      "source": [
        "# output"
      ]
    },
    {
      "cell_type": "code",
      "metadata": {
        "id": "0q29FTSga5fA"
      },
      "source": [
        "# transform 0-9 number to string like 0100000000, 0000001000\n",
        "def transform_digit (num):\n",
        "    temp_list = np.zeros(10)\n",
        "    temp_list[num]=1\n",
        "    temp_list = temp_list.astype(int)\n",
        "    str1 = ''.join(str(i) for i in temp_list)\n",
        "    return str1\n",
        "\n",
        "# tranform 0-25 number to 26-bit string with the index at the num value to be 1\n",
        "def transform_letter (num):\n",
        "    temp_list = np.zeros(26)\n",
        "    temp_list[num] = 1\n",
        "    \n",
        "    temp_list = temp_list.astype(int)\n",
        "    str1 = ''.join(str(i) for i in temp_list)\n",
        "    return str1\n",
        "\n",
        "output = list()\n",
        "for i in range (0,result.shape[0]):\n",
        "    tempStr = transform_digit(result[i])+transform_letter(result2[i])\n",
        "    output.append([i,tempStr])"
      ],
      "execution_count": 28,
      "outputs": []
    },
    {
      "cell_type": "code",
      "metadata": {
        "id": "eJVk5oKMa99P"
      },
      "source": [
        "df=pd.DataFrame(output)\n",
        "df.columns = ['# Id','Category']\n",
        "df.to_csv('result.csv',index=False)"
      ],
      "execution_count": 29,
      "outputs": []
    }
  ]
}