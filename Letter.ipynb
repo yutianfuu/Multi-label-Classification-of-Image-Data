{
  "nbformat": 4,
  "nbformat_minor": 0,
  "metadata": {
    "colab": {
      "name": "Letter.ipynb",
      "provenance": []
    },
    "kernelspec": {
      "name": "python3",
      "display_name": "Python 3"
    },
    "language_info": {
      "name": "python"
    },
    "accelerator": "GPU"
  },
  "cells": [
    {
      "cell_type": "markdown",
      "metadata": {
        "id": "5VgxCeD689hh"
      },
      "source": [
        "Comp-551 A3 \n",
        "</br>\n",
        "We divide the prediction of handwriten digits and letters into two parts. Here is the letter prediction part."
      ]
    },
    {
      "cell_type": "code",
      "metadata": {
        "colab": {
          "base_uri": "https://localhost:8080/"
        },
        "id": "87rI4UBL7qYX",
        "outputId": "9a994076-0996-44e7-f6fa-3be70c1eadf7"
      },
      "source": [
        "! gdown https://drive.google.com/uc?id=1AbxjCBByF-xGV3c7FJ1ztZC1HO0O0uJ0"
      ],
      "execution_count": null,
      "outputs": [
        {
          "output_type": "stream",
          "name": "stdout",
          "text": [
            "Downloading...\n",
            "From: https://drive.google.com/uc?id=1AbxjCBByF-xGV3c7FJ1ztZC1HO0O0uJ0\n",
            "To: /content/kaggle.json\n",
            "\r  0% 0.00/66.0 [00:00<?, ?B/s]\r100% 66.0/66.0 [00:00<00:00, 61.3kB/s]\n"
          ]
        }
      ]
    },
    {
      "cell_type": "code",
      "metadata": {
        "colab": {
          "base_uri": "https://localhost:8080/"
        },
        "id": "QG39qxfu7u68",
        "outputId": "d62bf167-aaa2-4f20-8203-6578a62e8671"
      },
      "source": [
        "! pip install kaggle\n",
        "import os\n",
        "os.environ['KAGGLE_CONFIG_DIR'] = '/content/'\n",
        "! kaggle competitions download -c comp-551-fall-2021\n",
        "! unzip images_l.pkl.zip\n",
        "! unzip images_test.pkl.zip\n",
        "! unzip images_ul.pkl.zip\n",
        "! unzip labels_l.pkl.zip"
      ],
      "execution_count": null,
      "outputs": [
        {
          "output_type": "stream",
          "name": "stdout",
          "text": [
            "Requirement already satisfied: kaggle in /usr/local/lib/python3.7/dist-packages (1.5.12)\n",
            "Requirement already satisfied: six>=1.10 in /usr/local/lib/python3.7/dist-packages (from kaggle) (1.15.0)\n",
            "Requirement already satisfied: urllib3 in /usr/local/lib/python3.7/dist-packages (from kaggle) (1.24.3)\n",
            "Requirement already satisfied: certifi in /usr/local/lib/python3.7/dist-packages (from kaggle) (2021.10.8)\n",
            "Requirement already satisfied: requests in /usr/local/lib/python3.7/dist-packages (from kaggle) (2.23.0)\n",
            "Requirement already satisfied: tqdm in /usr/local/lib/python3.7/dist-packages (from kaggle) (4.62.3)\n",
            "Requirement already satisfied: python-slugify in /usr/local/lib/python3.7/dist-packages (from kaggle) (5.0.2)\n",
            "Requirement already satisfied: python-dateutil in /usr/local/lib/python3.7/dist-packages (from kaggle) (2.8.2)\n",
            "Requirement already satisfied: text-unidecode>=1.3 in /usr/local/lib/python3.7/dist-packages (from python-slugify->kaggle) (1.3)\n",
            "Requirement already satisfied: chardet<4,>=3.0.2 in /usr/local/lib/python3.7/dist-packages (from requests->kaggle) (3.0.4)\n",
            "Requirement already satisfied: idna<3,>=2.5 in /usr/local/lib/python3.7/dist-packages (from requests->kaggle) (2.10)\n",
            "Warning: Your Kaggle API key is readable by other users on this system! To fix this, you can run 'chmod 600 /content/kaggle.json'\n",
            "Warning: Looks like you're using an outdated API Version, please consider updating (server 1.5.12 / client 1.5.4)\n",
            "images_test.pkl.zip: Skipping, found more recently modified local copy (use --force to force download)\n",
            "images_l.pkl.zip: Skipping, found more recently modified local copy (use --force to force download)\n",
            "images_ul.pkl.zip: Skipping, found more recently modified local copy (use --force to force download)\n",
            "labels_l.pkl.zip: Skipping, found more recently modified local copy (use --force to force download)\n",
            "Archive:  images_l.pkl.zip\n",
            "replace images_l.pkl? [y]es, [n]o, [A]ll, [N]one, [r]ename: n\n",
            "Archive:  images_test.pkl.zip\n",
            "replace images_test.pkl? [y]es, [n]o, [A]ll, [N]one, [r]ename: n\n",
            "Archive:  images_ul.pkl.zip\n",
            "replace images_ul.pkl? [y]es, [n]o, [A]ll, [N]one, [r]ename: n\n",
            "Archive:  labels_l.pkl.zip\n",
            "replace labels_l.pkl? [y]es, [n]o, [A]ll, [N]one, [r]ename: n\n"
          ]
        }
      ]
    },
    {
      "cell_type": "code",
      "metadata": {
        "id": "xcUE9sll7wY1"
      },
      "source": [
        "import io\n",
        "import cv2\n",
        "import numpy as np\n",
        "import matplotlib.pyplot as plt\n",
        "import pandas as pd\n",
        "import pickle\n",
        "from tensorflow import keras\n",
        "from tensorflow.keras.models import Sequential\n",
        "from tensorflow.keras.layers import Dense, Dropout, Flatten, Conv2D, MaxPooling2D, LeakyReLU, ZeroPadding2D,Convolution2D\n",
        "from tensorflow.keras.utils import to_categorical\n",
        "from tensorflow.keras.utils import plot_model\n",
        "from tensorflow.keras.callbacks import History\n",
        "from tensorflow.keras.optimizers import Nadam, Adam, SGD\n",
        "from keras.applications.vgg16 import VGG16\n",
        "from keras.applications.densenet import DenseNet169\n",
        "from keras.applications.resnet import ResNet152, ResNet101, ResNet50\n",
        "import matplotlib.pyplot as plt\n",
        "from keras.utils import np_utils\n",
        "from tensorflow.keras import backend as K\n",
        "from tensorflow.keras import regularizers\n",
        "\n",
        "from sklearn.preprocessing import LabelEncoder\n",
        "from sklearn.model_selection import train_test_split\n",
        "from sklearn.metrics import confusion_matrix\n",
        "from sklearn.preprocessing import OneHotEncoder\n",
        "\n",
        "import tensorflow as tf\n",
        "from google.colab import drive\n",
        "import numpy as np\n",
        "import h5py\n",
        "from sklearn.model_selection import train_test_split\n",
        "from keras.models import Model\n",
        "from keras import layers, regularizers, Input\n",
        "from keras.layers import *\n",
        "from keras.callbacks import ReduceLROnPlateau\n",
        "from keras import optimizers"
      ],
      "execution_count": null,
      "outputs": []
    },
    {
      "cell_type": "code",
      "metadata": {
        "id": "Qt11xkbc7y0Y"
      },
      "source": [
        "# Image data for training (30,000 sample, each sample is a 56x56 image)\n",
        "# train_labels = pd.read_csv('train_max_y.csv')\n",
        "# train_images = pd.read_pickle('train_max_x')\n",
        "# test_images = pd.read_pickle('test_max_x')\n",
        "with open(\"images_l.pkl\", 'rb') as f:\n",
        "    # load into as a numpy array\n",
        "    train_labelled_data = pickle.load(f)\n",
        "# Test images. The prediction corresponding to these images should be uploaded. (15,000 samples)\n",
        "with open(\"images_test.pkl\", 'rb') as f:\n",
        "    test_data = pickle.load(f)\n",
        "# Labels for training (30,000 rows, each row is a size 36 binary vector, which is the label to the corresponding image)\n",
        "with open(\"labels_l.pkl\", 'rb') as f:\n",
        "    train_labelled_y = pickle.load(f)\n",
        "# Additional images that can be used for training the classifier.\n",
        "# Labels for these images are not provided. (30,000 samples, where each sample is a 56x56 image)\n",
        "with open(\"images_ul.pkl\", 'rb') as f:\n",
        "    train_unlabelled_x = pickle.load(f)"
      ],
      "execution_count": null,
      "outputs": []
    },
    {
      "cell_type": "markdown",
      "metadata": {
        "id": "pnn_xiGWIfZy"
      },
      "source": [
        "# Processing"
      ]
    },
    {
      "cell_type": "markdown",
      "metadata": {
        "id": "TVmpaipGIhl2"
      },
      "source": [
        "Model is not noise-sensitive, so we do not use the add_noise data or clear_noise data"
      ]
    },
    {
      "cell_type": "markdown",
      "metadata": {
        "id": "_hXOvhn_74lw"
      },
      "source": [
        "# Letter"
      ]
    },
    {
      "cell_type": "code",
      "metadata": {
        "colab": {
          "base_uri": "https://localhost:8080/"
        },
        "id": "NLvbB2Sc71jP",
        "outputId": "37147372-84cf-4848-9a6d-5c97cabb5caf"
      },
      "source": [
        "def cnn2():\n",
        "  model = Sequential()\n",
        "  model.add(Input(shape=(56, 56, 1)))\n",
        "  model.add(Conv2D(filters= 56, kernel_size=(3,3), padding='Same', activation='relu'))\n",
        "  model.add(Conv2D(filters= 56, kernel_size=(3,3), padding='Same', activation='relu'))\n",
        "  model.add(MaxPool2D(pool_size=(2,2),strides=(2,2)))\n",
        "  model.add(Dropout(0.6))\n",
        "\n",
        "  model.add(Conv2D(filters= 128, kernel_size=(3,3), padding='Same', activation='relu'))\n",
        "  model.add(Conv2D(filters= 128, kernel_size=(3,3), padding='Same', activation='relu'))\n",
        "  model.add(MaxPool2D(pool_size=(2,2),strides=(2,2)))\n",
        "  model.add(Dropout(0.6))\n",
        "\n",
        "  model.add(Conv2D(filters= 256, kernel_size=(3,3), padding='Same', activation='relu'))\n",
        "  model.add(Conv2D(filters= 256, kernel_size=(3,3), padding='Same', activation='relu'))\n",
        "  model.add(MaxPool2D(pool_size=(2,2),strides=(2,2)))\n",
        "  model.add(Dropout(0.6))\n",
        "\n",
        "  model.add(Conv2D(filters= 512, kernel_size=(3,3), padding='Same', activation='relu'))\n",
        "  model.add(Conv2D(filters= 512, kernel_size=(3,3), padding='Same', activation='relu'))\n",
        "  model.add(MaxPool2D(pool_size=(2,2),strides=(2,2)))\n",
        "  model.add(Dropout(0.6))\n",
        "\n",
        "  model.add(Flatten())\n",
        "  model.add(Dense(1024, activation='relu'))\n",
        "  model.add(Dropout(0.6))\n",
        "  model.add(Dense(26, activation='softmax'))\n",
        "  model.compile(optimizer='rmsprop',loss='categorical_crossentropy',metrics=['accuracy'])\n",
        "  return model\n",
        "model2=cnn2()\n",
        "model2.summary()"
      ],
      "execution_count": null,
      "outputs": [
        {
          "output_type": "stream",
          "name": "stdout",
          "text": [
            "Model: \"sequential_2\"\n",
            "_________________________________________________________________\n",
            " Layer (type)                Output Shape              Param #   \n",
            "=================================================================\n",
            " conv2d_16 (Conv2D)          (None, 56, 56, 56)        560       \n",
            "                                                                 \n",
            " conv2d_17 (Conv2D)          (None, 56, 56, 56)        28280     \n",
            "                                                                 \n",
            " batch_normalization_10 (Bat  (None, 56, 56, 56)       224       \n",
            " chNormalization)                                                \n",
            "                                                                 \n",
            " max_pooling2d_8 (MaxPooling  (None, 28, 28, 56)       0         \n",
            " 2D)                                                             \n",
            "                                                                 \n",
            " dropout_10 (Dropout)        (None, 28, 28, 56)        0         \n",
            "                                                                 \n",
            " conv2d_18 (Conv2D)          (None, 28, 28, 128)       64640     \n",
            "                                                                 \n",
            " conv2d_19 (Conv2D)          (None, 28, 28, 128)       147584    \n",
            "                                                                 \n",
            " batch_normalization_11 (Bat  (None, 28, 28, 128)      512       \n",
            " chNormalization)                                                \n",
            "                                                                 \n",
            " max_pooling2d_9 (MaxPooling  (None, 14, 14, 128)      0         \n",
            " 2D)                                                             \n",
            "                                                                 \n",
            " dropout_11 (Dropout)        (None, 14, 14, 128)       0         \n",
            "                                                                 \n",
            " conv2d_20 (Conv2D)          (None, 14, 14, 256)       295168    \n",
            "                                                                 \n",
            " conv2d_21 (Conv2D)          (None, 14, 14, 256)       590080    \n",
            "                                                                 \n",
            " batch_normalization_12 (Bat  (None, 14, 14, 256)      1024      \n",
            " chNormalization)                                                \n",
            "                                                                 \n",
            " max_pooling2d_10 (MaxPoolin  (None, 7, 7, 256)        0         \n",
            " g2D)                                                            \n",
            "                                                                 \n",
            " dropout_12 (Dropout)        (None, 7, 7, 256)         0         \n",
            "                                                                 \n",
            " conv2d_22 (Conv2D)          (None, 7, 7, 512)         1180160   \n",
            "                                                                 \n",
            " conv2d_23 (Conv2D)          (None, 7, 7, 512)         2359808   \n",
            "                                                                 \n",
            " batch_normalization_13 (Bat  (None, 7, 7, 512)        2048      \n",
            " chNormalization)                                                \n",
            "                                                                 \n",
            " max_pooling2d_11 (MaxPoolin  (None, 3, 3, 512)        0         \n",
            " g2D)                                                            \n",
            "                                                                 \n",
            " dropout_13 (Dropout)        (None, 3, 3, 512)         0         \n",
            "                                                                 \n",
            " flatten_2 (Flatten)         (None, 4608)              0         \n",
            "                                                                 \n",
            " dense_4 (Dense)             (None, 1024)              4719616   \n",
            "                                                                 \n",
            " batch_normalization_14 (Bat  (None, 1024)             4096      \n",
            " chNormalization)                                                \n",
            "                                                                 \n",
            " dropout_14 (Dropout)        (None, 1024)              0         \n",
            "                                                                 \n",
            " dense_5 (Dense)             (None, 26)                26650     \n",
            "                                                                 \n",
            "=================================================================\n",
            "Total params: 9,420,450\n",
            "Trainable params: 9,416,498\n",
            "Non-trainable params: 3,952\n",
            "_________________________________________________________________\n"
          ]
        }
      ]
    },
    {
      "cell_type": "code",
      "metadata": {
        "id": "-ZzQRSsY78uQ"
      },
      "source": [
        "# # reload train data for model2 training\n",
        "# train_labelled_x=np.array(pd.DataFrame(pd.read_csv('processed_train_set.csv')))\n",
        "\n",
        "# train_labelled_x=train_labelled_x.reshape((30000,56,56))\n",
        "\n",
        "# import matplotlib.pyplot as plt\n",
        "# import random\n",
        "\n",
        "# plt.imshow(train_labelled_x[random.randint(0,29999)], cmap=\"gray\")\n",
        "# plt.show()\n",
        "\n",
        "with open(\"images_l.pkl\", 'rb') as f:\n",
        "    # load into as a numpy array\n",
        "    train_labelled_data = pickle.load(f)\n",
        "\n",
        "# Labels for training (30,000 rows, each row is a size 36 binary vector, which is the label to the corresponding image)\n",
        "with open(\"labels_l.pkl\", 'rb') as f:\n",
        "    train_labelled_y = pickle.load(f)\n",
        "\n",
        "train_labelled_x = train_labelled_data"
      ],
      "execution_count": null,
      "outputs": []
    },
    {
      "cell_type": "code",
      "metadata": {
        "id": "V3li9NvH7-aa"
      },
      "source": [
        "letter_train = train_labelled_x.reshape(-1, 56, 56, 1)\n",
        "# letter_train /= 255\n",
        "letter_train_label = train_labelled_y[:, 10:]\n",
        "x_train2 = letter_train[:29000,:,:,:]\n",
        "y_train2 = letter_train_label[:29000,:]\n",
        "x_valid2 = letter_train[29000:,:,:,:]\n",
        "y_valid2 = letter_train_label[29000:,:]\n",
        "\n",
        "reduce_lr = ReduceLROnPlateau(monitor='val_dense_1_accuracy', patience=2, verbose=1,factor=0.8, min_lr=0.000001)"
      ],
      "execution_count": null,
      "outputs": []
    },
    {
      "cell_type": "code",
      "metadata": {
        "colab": {
          "base_uri": "https://localhost:8080/"
        },
        "id": "hAxDUojh8BLY",
        "outputId": "cf0d6d86-60c4-4375-d0bc-cbab4ff37dd5"
      },
      "source": [
        "history = model2.fit(x_train2, y_train2, epochs=25, batch_size=128,\n",
        "          validation_data=(x_valid2, y_valid2), \n",
        "          callbacks=[reduce_lr], shuffle=False)"
      ],
      "execution_count": null,
      "outputs": [
        {
          "output_type": "stream",
          "name": "stdout",
          "text": [
            "Epoch 1/25\n",
            "226/227 [============================>.] - ETA: 0s - loss: 4.0637 - accuracy: 0.0730WARNING:tensorflow:Learning rate reduction is conditioned on metric `val_dense_1_accuracy` which is not available. Available metrics are: loss,accuracy,val_loss,val_accuracy,lr\n",
            "227/227 [==============================] - 15s 58ms/step - loss: 4.0627 - accuracy: 0.0731 - val_loss: 6.3259 - val_accuracy: 0.0470 - lr: 0.0010\n",
            "Epoch 2/25\n",
            "226/227 [============================>.] - ETA: 0s - loss: 3.3786 - accuracy: 0.1084WARNING:tensorflow:Learning rate reduction is conditioned on metric `val_dense_1_accuracy` which is not available. Available metrics are: loss,accuracy,val_loss,val_accuracy,lr\n",
            "227/227 [==============================] - 13s 57ms/step - loss: 3.3783 - accuracy: 0.1083 - val_loss: 6.2230 - val_accuracy: 0.0440 - lr: 0.0010\n",
            "Epoch 3/25\n",
            "226/227 [============================>.] - ETA: 0s - loss: 3.0408 - accuracy: 0.1368WARNING:tensorflow:Learning rate reduction is conditioned on metric `val_dense_1_accuracy` which is not available. Available metrics are: loss,accuracy,val_loss,val_accuracy,lr\n",
            "227/227 [==============================] - 13s 57ms/step - loss: 3.0401 - accuracy: 0.1369 - val_loss: 2.8367 - val_accuracy: 0.1680 - lr: 0.0010\n",
            "Epoch 4/25\n",
            "226/227 [============================>.] - ETA: 0s - loss: 2.7628 - accuracy: 0.1852WARNING:tensorflow:Learning rate reduction is conditioned on metric `val_dense_1_accuracy` which is not available. Available metrics are: loss,accuracy,val_loss,val_accuracy,lr\n",
            "227/227 [==============================] - 13s 57ms/step - loss: 2.7621 - accuracy: 0.1854 - val_loss: 4.6307 - val_accuracy: 0.0960 - lr: 0.0010\n",
            "Epoch 5/25\n",
            "226/227 [============================>.] - ETA: 0s - loss: 2.4102 - accuracy: 0.2737WARNING:tensorflow:Learning rate reduction is conditioned on metric `val_dense_1_accuracy` which is not available. Available metrics are: loss,accuracy,val_loss,val_accuracy,lr\n",
            "227/227 [==============================] - 13s 57ms/step - loss: 2.4098 - accuracy: 0.2738 - val_loss: 3.1373 - val_accuracy: 0.2520 - lr: 0.0010\n",
            "Epoch 6/25\n",
            "226/227 [============================>.] - ETA: 0s - loss: 1.9767 - accuracy: 0.3841WARNING:tensorflow:Learning rate reduction is conditioned on metric `val_dense_1_accuracy` which is not available. Available metrics are: loss,accuracy,val_loss,val_accuracy,lr\n",
            "227/227 [==============================] - 13s 57ms/step - loss: 1.9758 - accuracy: 0.3842 - val_loss: 2.1136 - val_accuracy: 0.3800 - lr: 0.0010\n",
            "Epoch 7/25\n",
            "226/227 [============================>.] - ETA: 0s - loss: 1.5195 - accuracy: 0.5218WARNING:tensorflow:Learning rate reduction is conditioned on metric `val_dense_1_accuracy` which is not available. Available metrics are: loss,accuracy,val_loss,val_accuracy,lr\n",
            "227/227 [==============================] - 13s 57ms/step - loss: 1.5184 - accuracy: 0.5221 - val_loss: 1.5600 - val_accuracy: 0.5440 - lr: 0.0010\n",
            "Epoch 8/25\n",
            "226/227 [============================>.] - ETA: 0s - loss: 1.1404 - accuracy: 0.6406WARNING:tensorflow:Learning rate reduction is conditioned on metric `val_dense_1_accuracy` which is not available. Available metrics are: loss,accuracy,val_loss,val_accuracy,lr\n",
            "227/227 [==============================] - 13s 57ms/step - loss: 1.1395 - accuracy: 0.6408 - val_loss: 1.1137 - val_accuracy: 0.6690 - lr: 0.0010\n",
            "Epoch 9/25\n",
            "226/227 [============================>.] - ETA: 0s - loss: 0.8771 - accuracy: 0.7250WARNING:tensorflow:Learning rate reduction is conditioned on metric `val_dense_1_accuracy` which is not available. Available metrics are: loss,accuracy,val_loss,val_accuracy,lr\n",
            "227/227 [==============================] - 13s 57ms/step - loss: 0.8765 - accuracy: 0.7252 - val_loss: 4.5878 - val_accuracy: 0.5540 - lr: 0.0010\n",
            "Epoch 10/25\n",
            "226/227 [============================>.] - ETA: 0s - loss: 0.7063 - accuracy: 0.7773WARNING:tensorflow:Learning rate reduction is conditioned on metric `val_dense_1_accuracy` which is not available. Available metrics are: loss,accuracy,val_loss,val_accuracy,lr\n",
            "227/227 [==============================] - 13s 57ms/step - loss: 0.7056 - accuracy: 0.7776 - val_loss: 0.3986 - val_accuracy: 0.8730 - lr: 0.0010\n",
            "Epoch 11/25\n",
            "226/227 [============================>.] - ETA: 0s - loss: 0.5838 - accuracy: 0.8135WARNING:tensorflow:Learning rate reduction is conditioned on metric `val_dense_1_accuracy` which is not available. Available metrics are: loss,accuracy,val_loss,val_accuracy,lr\n",
            "227/227 [==============================] - 13s 57ms/step - loss: 0.5836 - accuracy: 0.8136 - val_loss: 0.3363 - val_accuracy: 0.8950 - lr: 0.0010\n",
            "Epoch 12/25\n",
            "226/227 [============================>.] - ETA: 0s - loss: 0.5060 - accuracy: 0.8437WARNING:tensorflow:Learning rate reduction is conditioned on metric `val_dense_1_accuracy` which is not available. Available metrics are: loss,accuracy,val_loss,val_accuracy,lr\n",
            "227/227 [==============================] - 13s 57ms/step - loss: 0.5057 - accuracy: 0.8437 - val_loss: 0.3837 - val_accuracy: 0.8890 - lr: 0.0010\n",
            "Epoch 13/25\n",
            "226/227 [============================>.] - ETA: 0s - loss: 0.4444 - accuracy: 0.8628WARNING:tensorflow:Learning rate reduction is conditioned on metric `val_dense_1_accuracy` which is not available. Available metrics are: loss,accuracy,val_loss,val_accuracy,lr\n",
            "227/227 [==============================] - 13s 57ms/step - loss: 0.4441 - accuracy: 0.8629 - val_loss: 0.3922 - val_accuracy: 0.8820 - lr: 0.0010\n",
            "Epoch 14/25\n",
            "226/227 [============================>.] - ETA: 0s - loss: 0.4001 - accuracy: 0.8749WARNING:tensorflow:Learning rate reduction is conditioned on metric `val_dense_1_accuracy` which is not available. Available metrics are: loss,accuracy,val_loss,val_accuracy,lr\n",
            "227/227 [==============================] - 13s 57ms/step - loss: 0.3995 - accuracy: 0.8751 - val_loss: 0.2234 - val_accuracy: 0.9310 - lr: 0.0010\n",
            "Epoch 15/25\n",
            "226/227 [============================>.] - ETA: 0s - loss: 0.3649 - accuracy: 0.8880WARNING:tensorflow:Learning rate reduction is conditioned on metric `val_dense_1_accuracy` which is not available. Available metrics are: loss,accuracy,val_loss,val_accuracy,lr\n",
            "227/227 [==============================] - 13s 57ms/step - loss: 0.3649 - accuracy: 0.8880 - val_loss: 0.4547 - val_accuracy: 0.8700 - lr: 0.0010\n",
            "Epoch 16/25\n",
            "226/227 [============================>.] - ETA: 0s - loss: 0.3354 - accuracy: 0.8948WARNING:tensorflow:Learning rate reduction is conditioned on metric `val_dense_1_accuracy` which is not available. Available metrics are: loss,accuracy,val_loss,val_accuracy,lr\n",
            "227/227 [==============================] - 13s 57ms/step - loss: 0.3348 - accuracy: 0.8951 - val_loss: 0.2028 - val_accuracy: 0.9340 - lr: 0.0010\n",
            "Epoch 17/25\n",
            "226/227 [============================>.] - ETA: 0s - loss: 0.3030 - accuracy: 0.9045WARNING:tensorflow:Learning rate reduction is conditioned on metric `val_dense_1_accuracy` which is not available. Available metrics are: loss,accuracy,val_loss,val_accuracy,lr\n",
            "227/227 [==============================] - 13s 58ms/step - loss: 0.3027 - accuracy: 0.9046 - val_loss: 0.1910 - val_accuracy: 0.9420 - lr: 0.0010\n",
            "Epoch 18/25\n",
            "226/227 [============================>.] - ETA: 0s - loss: 0.2991 - accuracy: 0.9082WARNING:tensorflow:Learning rate reduction is conditioned on metric `val_dense_1_accuracy` which is not available. Available metrics are: loss,accuracy,val_loss,val_accuracy,lr\n",
            "227/227 [==============================] - 13s 57ms/step - loss: 0.2987 - accuracy: 0.9083 - val_loss: 0.1803 - val_accuracy: 0.9490 - lr: 0.0010\n",
            "Epoch 19/25\n",
            "226/227 [============================>.] - ETA: 0s - loss: 0.2788 - accuracy: 0.9119WARNING:tensorflow:Learning rate reduction is conditioned on metric `val_dense_1_accuracy` which is not available. Available metrics are: loss,accuracy,val_loss,val_accuracy,lr\n",
            "227/227 [==============================] - 13s 57ms/step - loss: 0.2784 - accuracy: 0.9119 - val_loss: 0.1316 - val_accuracy: 0.9590 - lr: 0.0010\n",
            "Epoch 20/25\n",
            "226/227 [============================>.] - ETA: 0s - loss: 0.2598 - accuracy: 0.9191WARNING:tensorflow:Learning rate reduction is conditioned on metric `val_dense_1_accuracy` which is not available. Available metrics are: loss,accuracy,val_loss,val_accuracy,lr\n",
            "227/227 [==============================] - 13s 57ms/step - loss: 0.2594 - accuracy: 0.9193 - val_loss: 0.2408 - val_accuracy: 0.9350 - lr: 0.0010\n",
            "Epoch 21/25\n",
            "226/227 [============================>.] - ETA: 0s - loss: 0.2456 - accuracy: 0.9230WARNING:tensorflow:Learning rate reduction is conditioned on metric `val_dense_1_accuracy` which is not available. Available metrics are: loss,accuracy,val_loss,val_accuracy,lr\n",
            "227/227 [==============================] - 13s 57ms/step - loss: 0.2453 - accuracy: 0.9230 - val_loss: 0.4714 - val_accuracy: 0.8720 - lr: 0.0010\n",
            "Epoch 22/25\n",
            "226/227 [============================>.] - ETA: 0s - loss: 0.2368 - accuracy: 0.9257WARNING:tensorflow:Learning rate reduction is conditioned on metric `val_dense_1_accuracy` which is not available. Available metrics are: loss,accuracy,val_loss,val_accuracy,lr\n",
            "227/227 [==============================] - 13s 58ms/step - loss: 0.2366 - accuracy: 0.9257 - val_loss: 0.1554 - val_accuracy: 0.9570 - lr: 0.0010\n",
            "Epoch 23/25\n",
            "226/227 [============================>.] - ETA: 0s - loss: 0.2175 - accuracy: 0.9305WARNING:tensorflow:Learning rate reduction is conditioned on metric `val_dense_1_accuracy` which is not available. Available metrics are: loss,accuracy,val_loss,val_accuracy,lr\n",
            "227/227 [==============================] - 13s 57ms/step - loss: 0.2172 - accuracy: 0.9306 - val_loss: 0.1495 - val_accuracy: 0.9550 - lr: 0.0010\n",
            "Epoch 24/25\n",
            "226/227 [============================>.] - ETA: 0s - loss: 0.2109 - accuracy: 0.9356WARNING:tensorflow:Learning rate reduction is conditioned on metric `val_dense_1_accuracy` which is not available. Available metrics are: loss,accuracy,val_loss,val_accuracy,lr\n",
            "227/227 [==============================] - 13s 57ms/step - loss: 0.2106 - accuracy: 0.9357 - val_loss: 0.1716 - val_accuracy: 0.9510 - lr: 0.0010\n",
            "Epoch 25/25\n",
            "226/227 [============================>.] - ETA: 0s - loss: 0.2026 - accuracy: 0.9361WARNING:tensorflow:Learning rate reduction is conditioned on metric `val_dense_1_accuracy` which is not available. Available metrics are: loss,accuracy,val_loss,val_accuracy,lr\n",
            "227/227 [==============================] - 13s 58ms/step - loss: 0.2023 - accuracy: 0.9362 - val_loss: 0.1499 - val_accuracy: 0.9620 - lr: 0.0010\n"
          ]
        }
      ]
    },
    {
      "cell_type": "code",
      "metadata": {
        "colab": {
          "base_uri": "https://localhost:8080/"
        },
        "id": "UCv1JheDALyx",
        "outputId": "43805cfa-a92c-471b-8af8-17de9bd3b6dd"
      },
      "source": [
        "history = model2.fit(x_train2, y_train2, epochs=1, batch_size=128,\n",
        "          validation_data=(x_valid2, y_valid2), \n",
        "          callbacks=[reduce_lr], shuffle=False)"
      ],
      "execution_count": null,
      "outputs": [
        {
          "output_type": "stream",
          "name": "stdout",
          "text": [
            "226/227 [============================>.] - ETA: 0s - loss: 0.1000 - accuracy: 0.9680WARNING:tensorflow:Learning rate reduction is conditioned on metric `val_dense_1_accuracy` which is not available. Available metrics are: loss,accuracy,val_loss,val_accuracy,lr\n",
            "227/227 [==============================] - 13s 58ms/step - loss: 0.0998 - accuracy: 0.9680 - val_loss: 0.1250 - val_accuracy: 0.9680 - lr: 0.0010\n"
          ]
        }
      ]
    },
    {
      "cell_type": "code",
      "metadata": {
        "colab": {
          "base_uri": "https://localhost:8080/"
        },
        "id": "3wHb3aiYKpGN",
        "outputId": "c3b60131-cf10-46c9-8bda-02c0f3054b09"
      },
      "source": [
        "pickle.dump(model2, open('model2_1.pkl', 'wb'))"
      ],
      "execution_count": null,
      "outputs": [
        {
          "output_type": "stream",
          "name": "stdout",
          "text": [
            "INFO:tensorflow:Assets written to: ram://800fb314-90b9-46de-96b5-660b8b0696d3/assets\n"
          ]
        }
      ]
    },
    {
      "cell_type": "code",
      "metadata": {
        "id": "XXsDE_Mg8CxA"
      },
      "source": [
        "# # load testing data for model testing\n",
        "# x_test_data=np.array(pd.DataFrame(pd.read_csv('processed_test_set.csv')))\n",
        "\n",
        "# x_test_data=x_test_data.reshape((15000,56,56))\n",
        "\n",
        "# import matplotlib.pyplot as plt\n",
        "# import random\n",
        "\n",
        "# plt.imshow(x_test_data[random.randint(0,14999)], cmap=\"gray\")\n",
        "# plt.show()\n",
        "\n",
        "with open(\"images_test.pkl\",'rb') as f:\n",
        "  x_test_data = pickle.load(f)\n",
        "x_test = x_test_data.reshape(-1,56,56,1)\n",
        "# x_test /= 255"
      ],
      "execution_count": null,
      "outputs": []
    },
    {
      "cell_type": "code",
      "metadata": {
        "id": "0yUrAT3F8DGH"
      },
      "source": [
        "result2 = model2.predict(x_test, verbose=1)\n",
        "result2 = np.argmax(result2, axis = 1)"
      ],
      "execution_count": null,
      "outputs": []
    }
  ]
}