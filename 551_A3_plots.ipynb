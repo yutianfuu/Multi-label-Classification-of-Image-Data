{
  "nbformat": 4,
  "nbformat_minor": 0,
  "metadata": {
    "colab": {
      "name": "551_A3_plots.ipynb",
      "provenance": []
    },
    "kernelspec": {
      "name": "python3",
      "display_name": "Python 3"
    },
    "language_info": {
      "name": "python"
    }
  },
  "cells": [
    {
      "cell_type": "code",
      "metadata": {
        "id": "XFczqd3XPrwj"
      },
      "source": [
        "import matplotlib.pyplot as plt\n",
        "import numpy as np\n",
        "import pandas as pd"
      ],
      "execution_count": 1,
      "outputs": []
    },
    {
      "cell_type": "markdown",
      "metadata": {
        "id": "WU2SG1lDUpED"
      },
      "source": [
        "download data we saved for these plots"
      ]
    },
    {
      "cell_type": "code",
      "metadata": {
        "colab": {
          "base_uri": "https://localhost:8080/"
        },
        "id": "NsJP_F-hUnV2",
        "outputId": "7387945a-1041-432d-ecfd-f8911c9b0468"
      },
      "source": [
        "! gdown https://drive.google.com/uc?id=1yFVXUZqC3SWVgzHUJMutJyvEOJDQuUPJ\n",
        "! gdown https://drive.google.com/uc?id=1sDc8OIsDc0XXajnCikQpshtVZmXpG_I4\n",
        "! gdown https://drive.google.com/uc?id=1cVClJpcQMZfsa6wTMr_a-jKpFxu-g5t0\n",
        "! gdown https://drive.google.com/uc?id=1KlE2LVy8emVNBwyLy-HCSES0B4mhjKCd\n",
        "! gdown https://drive.google.com/uc?id=1NKVDpSsr_iEOXXtp5CIvxhi0If79BSqE\n",
        "! gdown https://drive.google.com/uc?id=11dL39KMNqg3Za_CDN7oIfi5qq794J297\n",
        "! gdown https://drive.google.com/uc?id=1NSYs8QNWIqwniCW8pneUQA80Knuy2Oo0\n",
        "! gdown https://drive.google.com/uc?id=14XvXKPNOBl0cVxq8jwfGQYv8mVlRNsq6\n",
        "! gdown https://drive.google.com/uc?id=1_mRf8qlqKz2aKHuMPzd_GA0Shpvni6pe\n",
        "! gdown https://drive.google.com/uc?id=1NNLq6Dky3HlRSNXHVxRNO9Gn-E0n-L0u\n",
        "! gdown https://drive.google.com/uc?id=1Eqfp6rc_GPyvje5dDSIwE4S-genZMiI0\n",
        "! gdown https://drive.google.com/uc?id=1T7TTYBTCZr4NnOIdH6iBIA8VWvyQ9Tnl\n",
        "! gdown https://drive.google.com/uc?id=1ks83kiAqrY34-U0p3IHH7Batq9Q4NiR_\n",
        "! gdown https://drive.google.com/uc?id=1n0LXw-z-c8qKRvQ6Foa5sTLgS9fuoK_2\n"
      ],
      "execution_count": 2,
      "outputs": [
        {
          "output_type": "stream",
          "name": "stdout",
          "text": [
            "Downloading...\n",
            "From: https://drive.google.com/uc?id=1yFVXUZqC3SWVgzHUJMutJyvEOJDQuUPJ\n",
            "To: /content/unlabel_using_array2.csv\n",
            "100% 85.0/85.0 [00:00<00:00, 251kB/s]\n",
            "Downloading...\n",
            "From: https://drive.google.com/uc?id=1sDc8OIsDc0XXajnCikQpshtVZmXpG_I4\n",
            "To: /content/unlabel_using_array3.csv\n",
            "100% 85.0/85.0 [00:00<00:00, 158kB/s]\n",
            "Downloading...\n",
            "From: https://drive.google.com/uc?id=1cVClJpcQMZfsa6wTMr_a-jKpFxu-g5t0\n",
            "To: /content/unlabel_using_array4.csv\n",
            "100% 86.0/86.0 [00:00<00:00, 176kB/s]\n",
            "Downloading...\n",
            "From: https://drive.google.com/uc?id=1KlE2LVy8emVNBwyLy-HCSES0B4mhjKCd\n",
            "To: /content/unlabel_using_array1.csv\n",
            "100% 84.0/84.0 [00:00<00:00, 160kB/s]\n",
            "Downloading...\n",
            "From: https://drive.google.com/uc?id=1NKVDpSsr_iEOXXtp5CIvxhi0If79BSqE\n",
            "To: /content/dropout_comparison_array2.csv\n",
            "100% 151/151 [00:00<00:00, 588kB/s]\n",
            "Downloading...\n",
            "From: https://drive.google.com/uc?id=11dL39KMNqg3Za_CDN7oIfi5qq794J297\n",
            "To: /content/dropout_comparison_array6.csv\n",
            "100% 150/150 [00:00<00:00, 116kB/s]\n",
            "Downloading...\n",
            "From: https://drive.google.com/uc?id=1NSYs8QNWIqwniCW8pneUQA80Knuy2Oo0\n",
            "To: /content/dropout_comparison_array3.csv\n",
            "100% 150/150 [00:00<00:00, 124kB/s]\n",
            "Downloading...\n",
            "From: https://drive.google.com/uc?id=14XvXKPNOBl0cVxq8jwfGQYv8mVlRNsq6\n",
            "To: /content/dropout_comparison_array4.csv\n",
            "100% 155/155 [00:00<00:00, 119kB/s]\n",
            "Downloading...\n",
            "From: https://drive.google.com/uc?id=1_mRf8qlqKz2aKHuMPzd_GA0Shpvni6pe\n",
            "To: /content/dropout_comparison_array1.csv\n",
            "100% 150/150 [00:00<00:00, 248kB/s]\n",
            "Downloading...\n",
            "From: https://drive.google.com/uc?id=1NNLq6Dky3HlRSNXHVxRNO9Gn-E0n-L0u\n",
            "To: /content/dropout_comparison_array5.csv\n",
            "100% 149/149 [00:00<00:00, 127kB/s]\n",
            "Downloading...\n",
            "From: https://drive.google.com/uc?id=1Eqfp6rc_GPyvje5dDSIwE4S-genZMiI0\n",
            "To: /content/overfitting_model_array2.csv\n",
            "100% 157/157 [00:00<00:00, 118kB/s]\n",
            "Downloading...\n",
            "From: https://drive.google.com/uc?id=1T7TTYBTCZr4NnOIdH6iBIA8VWvyQ9Tnl\n",
            "To: /content/overfitting_model_array1.csv\n",
            "100% 150/150 [00:00<00:00, 597kB/s]\n",
            "Downloading...\n",
            "From: https://drive.google.com/uc?id=1ks83kiAqrY34-U0p3IHH7Batq9Q4NiR_\n",
            "To: /content/overfitting_model_array4.csv\n",
            "100% 155/155 [00:00<00:00, 139kB/s]\n",
            "Downloading...\n",
            "From: https://drive.google.com/uc?id=1n0LXw-z-c8qKRvQ6Foa5sTLgS9fuoK_2\n",
            "To: /content/overfitting_model_array3.csv\n",
            "100% 148/148 [00:00<00:00, 267kB/s]\n"
          ]
        }
      ]
    },
    {
      "cell_type": "markdown",
      "metadata": {
        "id": "zkEGhz6HmlIe"
      },
      "source": [
        "# overfitting models "
      ]
    },
    {
      "cell_type": "code",
      "metadata": {
        "colab": {
          "base_uri": "https://localhost:8080/"
        },
        "id": "StqUAfmoRl7g",
        "outputId": "df6cf5c8-1ed5-4b84-8d24-0944004559e2"
      },
      "source": [
        "array1 = np.array(pd.DataFrame(pd.read_csv('overfitting_model_array1.csv')))\n",
        "array2 = np.array(pd.DataFrame(pd.read_csv('overfitting_model_array2.csv')))\n",
        "array3 = np.array(pd.DataFrame(pd.read_csv('overfitting_model_array3.csv')))\n",
        "array4 = np.array(pd.DataFrame(pd.read_csv('overfitting_model_array4.csv')))\n",
        "\n",
        "array1 = np.squeeze(array1)\n",
        "array2 = np.squeeze(array2)\n",
        "array3 = np.squeeze(array3)\n",
        "array4 = np.squeeze(array4)\n",
        "\n",
        "array1 = array1.tolist()\n",
        "array2 = array2.tolist()\n",
        "array3 = array3.tolist()\n",
        "array4 = array4.tolist()\n",
        "\n",
        "print(array1)\n",
        "print(array2)\n",
        "print(array3)\n",
        "print(array4)"
      ],
      "execution_count": 3,
      "outputs": [
        {
          "output_type": "stream",
          "name": "stdout",
          "text": [
            "[0.718, 0.789, 0.821, 0.831, 0.828, 0.87, 0.89, 0.89, 0.91, 0.892, 0.894, 0.898, 0.9, 0.883, 0.888, 0.894, 0.892, 0.885, 0.9009999999999999, 0.8909999999999999, 0.892, 0.888, 0.892, 0.89, 0.8859999999999999, 0.88]\n",
            "[0.614, 0.68, 0.732, 0.753, 0.7979999999999999, 0.802, 0.8440000000000001, 0.894, 0.9079999999999999, 0.922, 0.9129999999999999, 0.9309999999999999, 0.925, 0.945, 0.966, 0.955, 0.9620000000000001, 0.9490000000000001, 0.956, 0.968, 0.971, 0.971, 0.9740000000000001, 0.968, 0.973, 0.9790000000000001]\n",
            "[0.42, 0.48, 0.51, 0.521, 0.57, 0.67, 0.72, 0.81, 0.831, 0.845, 0.866, 0.871, 0.848, 0.851, 0.868, 0.86, 0.877, 0.889, 0.8740000000000001, 0.875, 0.88, 0.873, 0.8640000000000001, 0.8740000000000001, 0.871, 0.88]\n",
            "[0.36700000000000005, 0.376, 0.45799999999999996, 0.5, 0.542, 0.619, 0.626, 0.7140000000000001, 0.792, 0.828, 0.855, 0.897, 0.9009999999999999, 0.915, 0.943, 0.965, 0.951, 0.934, 0.972, 0.965, 0.9670000000000001, 0.971, 0.968, 0.98, 0.9790000000000001, 0.977]\n"
          ]
        }
      ]
    },
    {
      "cell_type": "code",
      "metadata": {
        "id": "6rr-7qtOQ_K_"
      },
      "source": [
        "array = [[],[]]\n",
        "\n",
        "for i in range (0,50,5):\n",
        "  index = i//2\n",
        "  array[0].append(i)  \n",
        "  array[1].append(array1[index])\n",
        "\n",
        "arr = [[],[]]\n",
        "\n",
        "for i in range (0,50,5):\n",
        "  index = i//2\n",
        "  arr[0].append(i)  \n",
        "  arr[1].append(array2[index])\n",
        "\n",
        "arr1 = [[],[]]\n",
        "\n",
        "for i in range (0,50,5):\n",
        "  index = i//2\n",
        "  arr1[0].append(i)  \n",
        "  arr1[1].append(array3[index])\n",
        "\n",
        "arr2 = [[],[]]\n",
        "\n",
        "for i in range (0,50,5):\n",
        "  index = i//2\n",
        "  arr2[0].append(i)  \n",
        "  arr2[1].append(array4[index])\n"
      ],
      "execution_count": null,
      "outputs": []
    },
    {
      "cell_type": "code",
      "metadata": {
        "id": "rEs-PSE-WB6y"
      },
      "source": [
        "combine_line  = []\n",
        "combine_line.append(array)\n",
        "combine_line.append(arr)\n",
        "combine_line.append(arr1)\n",
        "combine_line.append(arr2)"
      ],
      "execution_count": null,
      "outputs": []
    },
    {
      "cell_type": "code",
      "metadata": {
        "colab": {
          "base_uri": "https://localhost:8080/",
          "height": 295
        },
        "id": "bHlrys0YQeQ_",
        "outputId": "24320dfc-0003-4e5b-b1b9-a395fac7bcc9"
      },
      "source": [
        "plt.title(\"Overfitting Model\");\n",
        "plt.plot(combine_line[0][0],combine_line[0][1],label = \"digit validation accuracy\");\n",
        "plt.plot(combine_line[1][0],combine_line[1][1],label = \"digit training accuracy\");\n",
        "plt.plot(combine_line[2][0],combine_line[2][1],label = \"letter validation accuracy\");\n",
        "plt.plot(combine_line[3][0],combine_line[3][1],label = \"letter training accuracy\");\n",
        "plt.xlabel(\"Epoch\")\n",
        "plt.ylabel(\"Accuracy\")\n",
        "plt.xticks(np.arange(0, 50, step=5));\n",
        "plt.legend()\n",
        "plt.show();"
      ],
      "execution_count": null,
      "outputs": [
        {
          "output_type": "display_data",
          "data": {
            "image/png": "[encoded data removed]",
            "text/plain": [
              "<Figure size 432x288 with 1 Axes>"
            ]
          },
          "metadata": {
            "needs_background": "light"
          }
        }
      ]
    },
    {
      "cell_type": "markdown",
      "metadata": {
        "id": "KHeL4KxBmulQ"
      },
      "source": [
        "# dropout ratio comparison"
      ]
    },
    {
      "cell_type": "code",
      "metadata": {
        "colab": {
          "base_uri": "https://localhost:8080/"
        },
        "id": "065TaZdHmuLp",
        "outputId": "0fb83b30-3d10-47b3-aa01-7d07897f145c"
      },
      "source": [
        "array1 = np.array(pd.DataFrame(pd.read_csv('dropout_comparison_array1.csv')))\n",
        "array2 = np.array(pd.DataFrame(pd.read_csv('dropout_comparison_array2.csv')))\n",
        "array3 = np.array(pd.DataFrame(pd.read_csv('dropout_comparison_array3.csv')))\n",
        "array4 = np.array(pd.DataFrame(pd.read_csv('dropout_comparison_array4.csv')))\n",
        "array5 = np.array(pd.DataFrame(pd.read_csv('dropout_comparison_array5.csv')))\n",
        "array6 = np.array(pd.DataFrame(pd.read_csv('dropout_comparison_array6.csv')))\n",
        "\n",
        "array1 = np.squeeze(array1)\n",
        "array2 = np.squeeze(array2)\n",
        "array3 = np.squeeze(array3)\n",
        "array4 = np.squeeze(array4)\n",
        "array5 = np.squeeze(array5)\n",
        "array6 = np.squeeze(array6)\n",
        "\n",
        "array1 = array1.tolist()\n",
        "array2 = array2.tolist()\n",
        "array3 = array3.tolist()\n",
        "array4 = array4.tolist()\n",
        "array5 = array5.tolist()\n",
        "array6 = array6.tolist()\n",
        "\n",
        "print(array1)\n",
        "print(array2)\n",
        "print(array3)\n",
        "print(array4)\n",
        "print(array5)\n",
        "print(array6)"
      ],
      "execution_count": 4,
      "outputs": [
        {
          "output_type": "stream",
          "name": "stdout",
          "text": [
            "[0.382, 0.41200000000000003, 0.518, 0.679, 0.711, 0.767, 0.7829999999999999, 0.792, 0.8029999999999999, 0.821, 0.851, 0.867, 0.919, 0.9279999999999999, 0.9129999999999999, 0.9, 0.914, 0.9079999999999999, 0.9209999999999999, 0.919, 0.922, 0.9309999999999999, 0.9279999999999999, 0.927, 0.9309999999999999]\n",
            "[0.371, 0.424, 0.45299999999999996, 0.5760000000000001, 0.7120000000000001, 0.777, 0.8140000000000001, 0.831, 0.8440000000000001, 0.863, 0.8909999999999999, 0.912, 0.927, 0.934, 0.941, 0.9420000000000001, 0.958, 0.963, 0.971, 0.968, 0.973, 0.98, 0.9840000000000001, 0.985, 0.985]\n",
            "[0.401, 0.491, 0.564, 0.657, 0.742, 0.782, 0.8140000000000001, 0.84, 0.8540000000000001, 0.878, 0.8909999999999999, 0.903, 0.924, 0.93, 0.929, 0.932, 0.935, 0.937, 0.9279999999999999, 0.934, 0.9359999999999999, 0.9420000000000001, 0.937, 0.934, 0.938]\n",
            "[0.312, 0.41100000000000003, 0.475, 0.542, 0.6829999999999999, 0.701, 0.789, 0.8420000000000001, 0.8740000000000001, 0.893, 0.88, 0.9209999999999999, 0.9309999999999999, 0.9359999999999999, 0.9440000000000001, 0.9490000000000001, 0.956, 0.961, 0.9590000000000001, 0.963, 0.9740000000000001, 0.977, 0.978, 0.0, 973.0, 0.9840000000000001]\n",
            "[0.392, 0.484, 0.603, 0.7190000000000001, 0.746, 0.7909999999999999, 0.8320000000000001, 0.855, 0.8909999999999999, 0.87, 0.899, 0.9129999999999999, 0.9420000000000001, 0.9309999999999999, 0.934, 0.941, 0.9470000000000001, 0.945, 0.9540000000000001, 0.95, 0.96, 0.9329999999999999, 0.956, 0.9570000000000001, 0.948]\n",
            "[0.35600000000000004, 0.489, 0.564, 0.6409999999999999, 0.708, 0.764, 0.83, 0.857, 0.877, 0.8909999999999999, 0.914, 0.9209999999999999, 0.934, 0.937, 0.9440000000000001, 0.948, 0.951, 0.9520000000000001, 0.951, 0.961, 0.9640000000000001, 0.968, 0.97, 0.972, 0.973]\n"
          ]
        }
      ]
    },
    {
      "cell_type": "code",
      "metadata": {
        "id": "rU4ZaMRDtTYP"
      },
      "source": [
        "array = [[],[]]\n",
        "\n",
        "for i in range (0,50,5):\n",
        "  index = i//2\n",
        "  array[0].append(i)  \n",
        "  array[1].append(array1[index])\n",
        "\n",
        "arr = [[],[]]\n",
        "\n",
        "for i in range (0,50,5):\n",
        "  index = i//2\n",
        "  arr[0].append(i)  \n",
        "  arr[1].append(array2[index])\n",
        "\n",
        "arr1 = [[],[]]\n",
        "\n",
        "for i in range (0,50,5):\n",
        "  index = i//2\n",
        "  arr1[0].append(i)  \n",
        "  arr1[1].append(array3[index])\n",
        "\n",
        "arr2 = [[],[]]\n",
        "\n",
        "for i in range (0,50,5):\n",
        "  index = i//2\n",
        "  arr2[0].append(i)  \n",
        "  arr2[1].append(array4[index])\n",
        "\n",
        "arr3 = [[],[]]\n",
        "\n",
        "for i in range (0,50,5):\n",
        "  index = i//2\n",
        "  arr3[0].append(i)  \n",
        "  arr3[1].append(array5[index])\n",
        "\n",
        "arr4 = [[],[]]\n",
        "\n",
        "for i in range (0,50,5):\n",
        "  index = i//2\n",
        "  arr4[0].append(i)  \n",
        "  arr4[1].append(array6[index])"
      ],
      "execution_count": null,
      "outputs": []
    },
    {
      "cell_type": "code",
      "metadata": {
        "id": "bCuFpj7dtWKC"
      },
      "source": [
        "combine_line  = []\n",
        "combine_line.append(array)\n",
        "combine_line.append(arr)\n",
        "combine_line.append(arr1)\n",
        "combine_line.append(arr2)\n",
        "combine_line.append(arr3)\n",
        "combine_line.append(arr4)"
      ],
      "execution_count": null,
      "outputs": []
    },
    {
      "cell_type": "code",
      "metadata": {
        "colab": {
          "base_uri": "https://localhost:8080/",
          "height": 295
        },
        "id": "DbAvtWtBtZWY",
        "outputId": "095e4cdd-33f8-4069-d882-6ea0a9e5a2c0"
      },
      "source": [
        "plt.title(\"Letter Model Dropout\");\n",
        "plt.plot(combine_line[0][0],combine_line[0][1],label = \"0.25 dropouot validation accuracy\");\n",
        "# plt.plot(combine_line[1][0],combine_line[1][1],label = \"0.25 dropouot training accuracy\");\n",
        "plt.plot(combine_line[2][0],combine_line[2][1],label = \"0.5 dropouot validation accuracy\");\n",
        "# plt.plot(combine_line[3][0],combine_line[3][1],label = \"0.5 dropouot training accuracy\");\n",
        "plt.plot(combine_line[4][0],combine_line[4][1],label = \"0.6 dropouot validation accuracy\");\n",
        "# plt.plot(combine_line[5][0],combine_line[5][1],label = \"0.6 dropouot training accuracy\");\n",
        "plt.xlabel(\"Epoch\")\n",
        "plt.ylabel(\"Accuracy\")\n",
        "plt.xticks(np.arange(0, 50, step=2));\n",
        "plt.legend()\n",
        "plt.show();"
      ],
      "execution_count": null,
      "outputs": [
        {
          "output_type": "display_data",
          "data": {
            "image/png": "[encoded data removed]",
            "text/plain": [
              "<Figure size 432x288 with 1 Axes>"
            ]
          },
          "metadata": {
            "needs_background": "light"
          }
        }
      ]
    },
    {
      "cell_type": "markdown",
      "metadata": {
        "id": "q7Eh7q65m3OZ"
      },
      "source": [
        "# using the unlabelled data "
      ]
    },
    {
      "cell_type": "code",
      "metadata": {
        "id": "8mu5TVOxtEXD",
        "colab": {
          "base_uri": "https://localhost:8080/"
        },
        "outputId": "f92dd16a-82c8-4aee-faca-0dd64616cecc"
      },
      "source": [
        "array1 = np.array(pd.DataFrame(pd.read_csv('unlabel_using_array1.csv')))\n",
        "array2 = np.array(pd.DataFrame(pd.read_csv('unlabel_using_array2.csv')))\n",
        "array3 = np.array(pd.DataFrame(pd.read_csv('unlabel_using_array3.csv')))\n",
        "array4 = np.array(pd.DataFrame(pd.read_csv('unlabel_using_array4.csv')))\n",
        "\n",
        "array1 = np.squeeze(array1)\n",
        "array2 = np.squeeze(array2)\n",
        "array3 = np.squeeze(array3)\n",
        "array4 = np.squeeze(array4)\n",
        "\n",
        "array1 = array1.tolist()\n",
        "array2 = array2.tolist()\n",
        "array3 = array3.tolist()\n",
        "array4 = array4.tolist()\n",
        "\n",
        "print(array1)\n",
        "print(array2)\n",
        "print(array3)\n",
        "print(array4)"
      ],
      "execution_count": 5,
      "outputs": [
        {
          "output_type": "stream",
          "name": "stdout",
          "text": [
            "[0.8909999999999999, 0.92, 0.922, 0.932, 0.93, 0.935, 0.943, 0.948, 0.9440000000000001, 0.938, 0.9440000000000001, 0.958, 0.9359999999999999, 0.9420000000000001]\n",
            "[0.885, 0.9109999999999999, 0.9229999999999999, 0.932, 0.93, 0.9440000000000001, 0.951, 0.966, 0.9690000000000001, 0.972, 0.9740000000000001, 0.975, 0.975, 0.977]\n",
            "[0.9309999999999999, 0.948, 0.93, 0.934, 0.945, 0.951, 0.9620000000000001, 0.958, 0.9570000000000001, 0.9640000000000001, 0.966, 0.9690000000000001, 0.971, 0.968]\n",
            "[0.955, 0.963, 0.965, 0.9670000000000001, 0.9690000000000001, 0.972, 0.971, 0.973, 0.973, 0.9740000000000001, 0.9740000000000001, 0.975, 0.976, 0.976]\n"
          ]
        }
      ]
    },
    {
      "cell_type": "code",
      "metadata": {
        "id": "vN35653H-BTT"
      },
      "source": [
        "array1 = array1[10:-1]\n",
        "array2 = array2[10:-1]\n",
        "array3 = array3[10:-1]\n",
        "array4 = array4[10:-1]"
      ],
      "execution_count": null,
      "outputs": []
    },
    {
      "cell_type": "code",
      "metadata": {
        "id": "NC0swnNr4YS6"
      },
      "source": [
        "array = [[],[]]\n",
        "\n",
        "for i in range (20,50,5):\n",
        "  index = (i-20)//2\n",
        "  array[0].append(i)  \n",
        "  array[1].append(array1[index])\n",
        "\n",
        "arr = [[],[]]\n",
        "\n",
        "for i in range (20,50,5):\n",
        "  index = (i-20)//2\n",
        "  arr[0].append(i)  \n",
        "  arr[1].append(array2[index])\n",
        "\n",
        "arr1 = [[],[]]\n",
        "\n",
        "for i in range (20,50,5):\n",
        "  index = (i-20)//2\n",
        "  arr1[0].append(i)  \n",
        "  arr1[1].append(array3[index])\n",
        "\n",
        "arr2 = [[],[]]\n",
        "\n",
        "for i in range (20,50,5):\n",
        "  index = (i-20)//2\n",
        "  arr2[0].append(i)  \n",
        "  arr2[1].append(array4[index])"
      ],
      "execution_count": null,
      "outputs": []
    },
    {
      "cell_type": "code",
      "metadata": {
        "id": "QAqFuThG4gU7"
      },
      "source": [
        "combine_line  = []\n",
        "combine_line.append(array)\n",
        "combine_line.append(arr)\n",
        "combine_line.append(arr1)\n",
        "combine_line.append(arr2)"
      ],
      "execution_count": null,
      "outputs": []
    },
    {
      "cell_type": "code",
      "metadata": {
        "colab": {
          "base_uri": "https://localhost:8080/",
          "height": 295
        },
        "id": "D2NyipAk4qLs",
        "outputId": "65592bb1-3d05-4366-803a-6a6feb7c8dfc"
      },
      "source": [
        "plt.title(\"Improvment With Unlabelled Data\");\n",
        "plt.plot(combine_line[0][0],combine_line[0][1],label = \"normal validation accuracy\");\n",
        "plt.plot(combine_line[1][0],combine_line[1][1],label = \"normal training accuracy\");\n",
        "plt.plot(combine_line[2][0],combine_line[2][1],label = \"with unlabelled validation accuracy\");\n",
        "plt.plot(combine_line[3][0],combine_line[3][1],label = \"with unlabelled training accuracy\");\n",
        "plt.xlabel(\"Epoch\")\n",
        "plt.ylabel(\"Accuracy\")\n",
        "plt.xticks(np.arange(20, 50, step=5));\n",
        "plt.legend()\n",
        "plt.show();"
      ],
      "execution_count": null,
      "outputs": [
        {
          "output_type": "display_data",
          "data": {
            "image/png": "[encoded data removed]",
            "text/plain": [
              "<Figure size 432x288 with 1 Axes>"
            ]
          },
          "metadata": {
            "needs_background": "light"
          }
        }
      ]
    }
  ]
}