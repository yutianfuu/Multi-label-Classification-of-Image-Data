{
  "nbformat": 4,
  "nbformat_minor": 0,
  "metadata": {
    "colab": {
      "name": "Comp551_A3_dataset_processing.ipynb",
      "provenance": []
    },
    "kernelspec": {
      "name": "python3",
      "display_name": "Python 3"
    },
    "language_info": {
      "name": "python"
    }
  },
  "cells": [
    {
      "cell_type": "markdown",
      "metadata": {
        "id": "yZBn8vVSL2nF"
      },
      "source": [
        "Here we process Comp-551 A3 datasets. "
      ]
    },
    {
      "cell_type": "code",
      "metadata": {
        "colab": {
          "base_uri": "https://localhost:8080/"
        },
        "id": "rGbYBeC7Rvem",
        "outputId": "d7fd99b6-79a4-41dc-f6e2-451ab51e7973"
      },
      "source": [
        "! gdown https://drive.google.com/uc?id=1AbxjCBByF-xGV3c7FJ1ztZC1HO0O0uJ0"
      ],
      "execution_count": 1,
      "outputs": [
        {
          "output_type": "stream",
          "name": "stdout",
          "text": [
            "Downloading...\n",
            "From: https://drive.google.com/uc?id=1AbxjCBByF-xGV3c7FJ1ztZC1HO0O0uJ0\n",
            "To: /content/kaggle.json\n",
            "\r  0% 0.00/66.0 [00:00<?, ?B/s]\r100% 66.0/66.0 [00:00<00:00, 135kB/s]\n"
          ]
        }
      ]
    },
    {
      "cell_type": "code",
      "metadata": {
        "colab": {
          "base_uri": "https://localhost:8080/"
        },
        "id": "WZt4h9iWR6Su",
        "outputId": "1e20dd00-b81e-4160-f744-5531109f9d4f"
      },
      "source": [
        "! pip install kaggle\n",
        "import os\n",
        "os.environ['KAGGLE_CONFIG_DIR'] = '/content/'\n",
        "! kaggle competitions download -c comp-551-fall-2021\n",
        "! unzip images_l.pkl.zip\n",
        "! unzip images_test.pkl.zip\n",
        "! unzip images_ul.pkl.zip\n",
        "! unzip labels_l.pkl.zip"
      ],
      "execution_count": 2,
      "outputs": [
        {
          "output_type": "stream",
          "name": "stdout",
          "text": [
            "Requirement already satisfied: kaggle in /usr/local/lib/python3.7/dist-packages (1.5.12)\n",
            "Requirement already satisfied: requests in /usr/local/lib/python3.7/dist-packages (from kaggle) (2.23.0)\n",
            "Requirement already satisfied: tqdm in /usr/local/lib/python3.7/dist-packages (from kaggle) (4.62.3)\n",
            "Requirement already satisfied: certifi in /usr/local/lib/python3.7/dist-packages (from kaggle) (2021.10.8)\n",
            "Requirement already satisfied: python-dateutil in /usr/local/lib/python3.7/dist-packages (from kaggle) (2.8.2)\n",
            "Requirement already satisfied: python-slugify in /usr/local/lib/python3.7/dist-packages (from kaggle) (5.0.2)\n",
            "Requirement already satisfied: urllib3 in /usr/local/lib/python3.7/dist-packages (from kaggle) (1.24.3)\n",
            "Requirement already satisfied: six>=1.10 in /usr/local/lib/python3.7/dist-packages (from kaggle) (1.15.0)\n",
            "Requirement already satisfied: text-unidecode>=1.3 in /usr/local/lib/python3.7/dist-packages (from python-slugify->kaggle) (1.3)\n",
            "Requirement already satisfied: chardet<4,>=3.0.2 in /usr/local/lib/python3.7/dist-packages (from requests->kaggle) (3.0.4)\n",
            "Requirement already satisfied: idna<3,>=2.5 in /usr/local/lib/python3.7/dist-packages (from requests->kaggle) (2.10)\n",
            "Warning: Your Kaggle API key is readable by other users on this system! To fix this, you can run 'chmod 600 /content/kaggle.json'\n",
            "Warning: Looks like you're using an outdated API Version, please consider updating (server 1.5.12 / client 1.5.4)\n",
            "Downloading labels_l.pkl.zip to /content\n",
            "  0% 0.00/141k [00:00<?, ?B/s]\n",
            "100% 141k/141k [00:00<00:00, 52.2MB/s]\n",
            "Downloading images_test.pkl.zip to /content\n",
            " 88% 87.0M/99.0M [00:00<00:00, 131MB/s]\n",
            "100% 99.0M/99.0M [00:00<00:00, 169MB/s]\n",
            "Downloading images_l.pkl.zip to /content\n",
            " 96% 188M/197M [00:01<00:00, 160MB/s]\n",
            "100% 197M/197M [00:01<00:00, 167MB/s]\n",
            "Downloading images_ul.pkl.zip to /content\n",
            " 95% 189M/198M [00:01<00:00, 163MB/s]\n",
            "100% 198M/198M [00:01<00:00, 175MB/s]\n",
            "Archive:  images_l.pkl.zip\n",
            "  inflating: images_l.pkl            \n",
            "Archive:  images_test.pkl.zip\n",
            "  inflating: images_test.pkl         \n",
            "Archive:  images_ul.pkl.zip\n",
            "  inflating: images_ul.pkl           \n",
            "Archive:  labels_l.pkl.zip\n",
            "  inflating: labels_l.pkl            \n"
          ]
        }
      ]
    },
    {
      "cell_type": "code",
      "metadata": {
        "id": "kWMzhCaiR798"
      },
      "source": [
        "import io\n",
        "import cv2\n",
        "import numpy as np\n",
        "import matplotlib.pyplot as plt\n",
        "import pandas as pd\n",
        "import pickle\n",
        "from tensorflow import keras\n",
        "from tensorflow.keras.models import Sequential\n",
        "from tensorflow.keras.layers import Dense, Dropout, Flatten, Conv2D, MaxPooling2D, LeakyReLU, ZeroPadding2D,Convolution2D\n",
        "from tensorflow.keras.utils import to_categorical\n",
        "from tensorflow.keras.utils import plot_model\n",
        "from tensorflow.keras.callbacks import History\n",
        "from tensorflow.keras.optimizers import Nadam, Adam, SGD\n",
        "from keras.applications.vgg16 import VGG16\n",
        "from keras.applications.densenet import DenseNet169\n",
        "from keras.applications.resnet import ResNet152, ResNet101, ResNet50\n",
        "import matplotlib.pyplot as plt\n",
        "from keras.utils import np_utils\n",
        "from tensorflow.keras import backend as K\n",
        "from tensorflow.keras import regularizers\n",
        "from sklearn.model_selection import train_test_split\n",
        "from keras.models import Model\n",
        "from keras import layers, regularizers, Input\n",
        "from keras.layers import *\n",
        "from keras.callbacks import ReduceLROnPlateau\n",
        "from keras import optimizers\n",
        "from sklearn.preprocessing import LabelEncoder\n",
        "from sklearn.model_selection import train_test_split\n",
        "from sklearn.metrics import confusion_matrix\n",
        "from sklearn.preprocessing import OneHotEncoder\n",
        "import tensorflow as tf\n",
        "from google.colab import drive\n",
        "import h5py\n",
        "import random"
      ],
      "execution_count": 3,
      "outputs": []
    },
    {
      "cell_type": "code",
      "metadata": {
        "id": "L7VMWkZUR99F"
      },
      "source": [
        "# Image data for training (30,000 sample, each sample is a 56x56 image)\n",
        "# train_labels = pd.read_csv('train_max_y.csv')\n",
        "# train_images = pd.read_pickle('train_max_x')\n",
        "# test_images = pd.read_pickle('test_max_x')\n",
        "with open(\"images_l.pkl\", 'rb') as f:\n",
        "    # load into as a numpy array\n",
        "    train_labelled_data = pickle.load(f)\n",
        "# Test images. The prediction corresponding to these images should be uploaded. (15,000 samples)\n",
        "with open(\"images_test.pkl\", 'rb') as f:\n",
        "    test_data = pickle.load(f)\n",
        "# Labels for training (30,000 rows, each row is a size 36 binary vector, which is the label to the corresponding image)\n",
        "with open(\"labels_l.pkl\", 'rb') as f:\n",
        "    train_labelled_y = pickle.load(f)\n",
        "# Additional images that can be used for training the classifier.\n",
        "# Labels for these images are not provided. (30,000 samples, where each sample is a 56x56 image)\n",
        "with open(\"images_ul.pkl\", 'rb') as f:\n",
        "    train_unlabelled_x = pickle.load(f)"
      ],
      "execution_count": 4,
      "outputs": []
    },
    {
      "cell_type": "code",
      "metadata": {
        "colab": {
          "base_uri": "https://localhost:8080/"
        },
        "id": "kndistG9SSI0",
        "outputId": "51a05e79-7e75-44d0-b00b-fbaa9f55d0b9"
      },
      "source": [
        "# download already predicted unlabel train set and load it\n",
        "! gdown https://drive.google.com/uc?id=1oSJM0BtYu_hiJ7mkSNphJLAmBVnznO4o"
      ],
      "execution_count": 5,
      "outputs": [
        {
          "output_type": "stream",
          "name": "stdout",
          "text": [
            "Downloading...\n",
            "From: https://drive.google.com/uc?id=1oSJM0BtYu_hiJ7mkSNphJLAmBVnznO4o\n",
            "To: /content/ul_train_label.csv\n",
            "\r  0% 0.00/216k [00:00<?, ?B/s]\r100% 216k/216k [00:00<00:00, 81.5MB/s]\n"
          ]
        }
      ]
    },
    {
      "cell_type": "code",
      "metadata": {
        "id": "_IJ8ZWBxSbAM"
      },
      "source": [
        "train_unlabelled_y=np.array(pd.DataFrame(pd.read_csv('ul_train_label.csv')))"
      ],
      "execution_count": 6,
      "outputs": []
    },
    {
      "cell_type": "markdown",
      "metadata": {
        "id": "hRc419hNR2h-"
      },
      "source": [
        "# clear noise"
      ]
    },
    {
      "cell_type": "code",
      "metadata": {
        "id": "8rYgTrIyLv3h"
      },
      "source": [
        "# data pre processing\n",
        "def clear_noise (array):\n",
        "  for n in range (0,array.shape[0]):\n",
        "    for i in range (0,56):\n",
        "      for j in range (0,56):\n",
        "        # pixel of the nth image at position (i,j)\n",
        "        pixel = array[n][i][j]\n",
        "        flag = False\n",
        "        if(i == 0):\n",
        "        # at the left edge  \n",
        "          if(j == 0):\n",
        "          # at the top edge, so only count right and below\n",
        "            if(array[n][i+1][j]>0 or array[n][i][j+1]>0):\n",
        "              flag=True\n",
        "          # at the bottom edge, so only count right and above\n",
        "          elif(j == 55):\n",
        "            if(array[n][i+1][j]>0 or array[n][i][j-1]>0):\n",
        "              flag=True\n",
        "          else:\n",
        "          # count right, above and below\n",
        "            if(array[n][i+1][j]>0 or array[n][i][j+1]>0 or array[n][i][j-1]>0):\n",
        "              flag=True\n",
        "        elif(i == 55):\n",
        "        # at the right edge  \n",
        "          if(j == 0):\n",
        "            if(array[n][i-1][j]>0 or array[n][i][j+1]>0):\n",
        "              flag=True\n",
        "          elif(j == 55):\n",
        "            if(array[n][i-1][j]>0 or array[n][i][j-1]>0):\n",
        "              flag=True\n",
        "          else:\n",
        "            if(array[n][i-1][j]>0 or array[n][i][j+1]>0 or array[n][i][j-1]>0):\n",
        "              flag=True\n",
        "        else:\n",
        "          if(j == 0):\n",
        "            if(array[n][i+1][j]>0 or array[n][i-1][j]>0 or array[n][i][j+1]>0):\n",
        "              flag=True\n",
        "          elif(j == 55):\n",
        "            if(array[n][i+1][j]>0 or array[n][i-1][j]>0 or array[n][i][j-1]>0):\n",
        "              flag=True\n",
        "          else:\n",
        "            if(array[n][i+1][j]>0 or array[n][i-1][j]>0 or array[n][i][j+1]>0 or array[n][i][j-1]>0):\n",
        "              flag=True   \n",
        "        if(flag==False):\n",
        "          # the point is supposed to not link with other point, so this pixel is regarded as noise\n",
        "          array[n][i][j]=0\n",
        "        # strengthen the useful pixel, make the background to be dark\n",
        "        if(array[n][i][j]>70):\n",
        "          array[n][i][j]=255\n",
        "        else:\n",
        "          array[n][i][j]=0\n",
        "  return array"
      ],
      "execution_count": 7,
      "outputs": []
    },
    {
      "cell_type": "code",
      "metadata": {
        "id": "dmG6GoopL60O"
      },
      "source": [
        "train_labelled_data = clear_noise(train_labelled_data)\n",
        "test_data = clear_noise(test_data)\n",
        "train_unlabelled_x = clear_noise(train_unlabelled_x)\n",
        "train_unlabelled_y = clear_noise(train_unlabelled_y)"
      ],
      "execution_count": null,
      "outputs": []
    },
    {
      "cell_type": "code",
      "metadata": {
        "id": "WfZq8jGoSG6b"
      },
      "source": [
        "train_labelled_data=train_labelled_data.reshape((30000,-1))\n",
        "print(train_labelled_data.shape)\n",
        "mydf=pd.DataFrame(train_labelled_data)\n",
        "mydf.to_csv('processed_train_set.csv',index=False)\n",
        "\n",
        "test_data=test_data.reshape((15000,-1))\n",
        "print(test_data.shape)\n",
        "mydf=pd.DataFrame(test_data)\n",
        "mydf.to_csv('processed_test_set.csv',index=False)\n",
        "\n",
        "unlabelled_data=unlabelled_data.reshape((30000,-1))\n",
        "print(unlabelled_data.shape)\n",
        "mydf=pd.DataFrame(unlabelled_data)\n",
        "mydf.to_csv('processed_unlabelled_set_set.csv',index=False)\n",
        "\n",
        "unlabelled_data_label=unlabelled_data_label.reshape((3000,-1))\n",
        "print(unlabelled_data_label.shape)\n",
        "mydf=pd.DataFrame(unlabelled_data_label)\n",
        "mydf.to_csv('processed_unlabelled_set_label.csv',index=False)"
      ],
      "execution_count": null,
      "outputs": []
    },
    {
      "cell_type": "markdown",
      "metadata": {
        "id": "z-6O3W9ASHQM"
      },
      "source": [
        "# add noise (noise robustness)"
      ]
    },
    {
      "cell_type": "code",
      "metadata": {
        "id": "-l0XkoSwY_eu"
      },
      "source": [
        "def add_noise(array):\n",
        "  for n in range (0,array.shape[0]):\n",
        "    count = 0\n",
        "    iteration = 0\n",
        "    while (count<100 and iteration<56*56):\n",
        "      i = random.randint(0,55)\n",
        "      j = random.randint(0,55)\n",
        "      pixel = array[n][i][j]\n",
        "      if(pixel<50):\n",
        "        array[n][i][j] = 175\n",
        "        count = count+1\n",
        "      iteration = iteration+1\n",
        "  return array"
      ],
      "execution_count": 8,
      "outputs": []
    },
    {
      "cell_type": "code",
      "metadata": {
        "id": "Rl7FFMidL8rS"
      },
      "source": [
        "train_labelled_data = add_noise(train_labelled_data)\n",
        "train_unlabelled_x = add_noise(train_unlabelled_x)"
      ],
      "execution_count": null,
      "outputs": []
    },
    {
      "cell_type": "code",
      "metadata": {
        "id": "cM_yPA8HL_q6"
      },
      "source": [
        "train_labelled_data=train_labelled_data.reshape((30000,-1))\n",
        "print(train_labelled_data.shape)\n",
        "mydf=pd.DataFrame(train_labelled_data)\n",
        "mydf.to_csv('processed_train_set.csv',index=False)\n",
        "\n",
        "unlabelled_data=unlabelled_data.reshape((30000,-1))\n",
        "print(unlabelled_data.shape)\n",
        "mydf=pd.DataFrame(unlabelled_data)\n",
        "mydf.to_csv('processed_unlabelled_set_set.csv',index=False)"
      ],
      "execution_count": null,
      "outputs": []
    }
  ]
}