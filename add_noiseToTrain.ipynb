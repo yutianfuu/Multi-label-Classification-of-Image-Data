{
  "nbformat": 4,
  "nbformat_minor": 0,
  "metadata": {
    "colab": {
      "name": "add_noiseToTrain.ipynb",
      "provenance": []
    },
    "kernelspec": {
      "display_name": "Python 3",
      "name": "python3"
    },
    "language_info": {
      "name": "python"
    },
    "accelerator": "GPU"
  },
  "cells": [
    {
      "cell_type": "markdown",
      "metadata": {
        "id": "-T5nLEMQKg4P"
      },
      "source": [
        "add train noise"
      ]
    },
    {
      "cell_type": "code",
      "metadata": {
        "colab": {
          "base_uri": "https://localhost:8080/"
        },
        "id": "gmN38RWGDtGF",
        "outputId": "513d9e3d-a7f0-475b-953c-75ef3e94f8f9"
      },
      "source": [
        "! gdown https://drive.google.com/uc?id=1AbxjCBByF-xGV3c7FJ1ztZC1HO0O0uJ0"
      ],
      "execution_count": null,
      "outputs": [
        {
          "output_type": "stream",
          "name": "stdout",
          "text": [
            "Downloading...\n",
            "From: https://drive.google.com/uc?id=1AbxjCBByF-xGV3c7FJ1ztZC1HO0O0uJ0\n",
            "To: /content/kaggle.json\n",
            "\r  0% 0.00/66.0 [00:00<?, ?B/s]\r100% 66.0/66.0 [00:00<00:00, 249kB/s]\n"
          ]
        }
      ]
    },
    {
      "cell_type": "code",
      "metadata": {
        "colab": {
          "base_uri": "https://localhost:8080/"
        },
        "id": "ZGyyllgxDzh-",
        "outputId": "afe83dcb-17d5-4970-f82a-1fb051384275"
      },
      "source": [
        "! pip install kaggle\n",
        "import os\n",
        "os.environ['KAGGLE_CONFIG_DIR'] = '/content/'\n",
        "! kaggle competitions download -c comp-551-fall-2021\n",
        "! unzip images_l.pkl.zip\n",
        "! unzip images_test.pkl.zip\n",
        "! unzip images_ul.pkl.zip\n",
        "! unzip labels_l.pkl.zip"
      ],
      "execution_count": null,
      "outputs": [
        {
          "output_type": "stream",
          "name": "stdout",
          "text": [
            "Requirement already satisfied: kaggle in /usr/local/lib/python3.7/dist-packages (1.5.12)\n",
            "Requirement already satisfied: six>=1.10 in /usr/local/lib/python3.7/dist-packages (from kaggle) (1.15.0)\n",
            "Requirement already satisfied: certifi in /usr/local/lib/python3.7/dist-packages (from kaggle) (2021.10.8)\n",
            "Requirement already satisfied: urllib3 in /usr/local/lib/python3.7/dist-packages (from kaggle) (1.24.3)\n",
            "Requirement already satisfied: python-dateutil in /usr/local/lib/python3.7/dist-packages (from kaggle) (2.8.2)\n",
            "Requirement already satisfied: tqdm in /usr/local/lib/python3.7/dist-packages (from kaggle) (4.62.3)\n",
            "Requirement already satisfied: python-slugify in /usr/local/lib/python3.7/dist-packages (from kaggle) (5.0.2)\n",
            "Requirement already satisfied: requests in /usr/local/lib/python3.7/dist-packages (from kaggle) (2.23.0)\n",
            "Requirement already satisfied: text-unidecode>=1.3 in /usr/local/lib/python3.7/dist-packages (from python-slugify->kaggle) (1.3)\n",
            "Requirement already satisfied: chardet<4,>=3.0.2 in /usr/local/lib/python3.7/dist-packages (from requests->kaggle) (3.0.4)\n",
            "Requirement already satisfied: idna<3,>=2.5 in /usr/local/lib/python3.7/dist-packages (from requests->kaggle) (2.10)\n",
            "Warning: Your Kaggle API key is readable by other users on this system! To fix this, you can run 'chmod 600 /content/kaggle.json'\n",
            "Warning: Looks like you're using an outdated API Version, please consider updating (server 1.5.12 / client 1.5.4)\n",
            "Downloading images_test.pkl.zip to /content\n",
            " 87% 86.0M/99.0M [00:00<00:00, 192MB/s]\n",
            "100% 99.0M/99.0M [00:00<00:00, 223MB/s]\n",
            "Downloading labels_l.pkl.zip to /content\n",
            "  0% 0.00/141k [00:00<?, ?B/s]\n",
            "100% 141k/141k [00:00<00:00, 126MB/s]\n",
            "Downloading images_l.pkl.zip to /content\n",
            " 91% 179M/197M [00:00<00:00, 186MB/s]\n",
            "100% 197M/197M [00:01<00:00, 197MB/s]\n",
            "Downloading images_ul.pkl.zip to /content\n",
            " 91% 181M/198M [00:00<00:00, 189MB/s]\n",
            "100% 198M/198M [00:01<00:00, 195MB/s]\n",
            "Archive:  images_l.pkl.zip\n",
            "  inflating: images_l.pkl            \n",
            "Archive:  images_test.pkl.zip\n",
            "  inflating: images_test.pkl         \n",
            "Archive:  images_ul.pkl.zip\n",
            "  inflating: images_ul.pkl           \n",
            "Archive:  labels_l.pkl.zip\n",
            "  inflating: labels_l.pkl            \n"
          ]
        }
      ]
    },
    {
      "cell_type": "code",
      "metadata": {
        "id": "-QOSwvxYD0xu"
      },
      "source": [
        "import io\n",
        "import cv2\n",
        "import numpy as np\n",
        "import matplotlib.pyplot as plt\n",
        "import pandas as pd\n",
        "import pickle\n",
        "from tensorflow import keras\n",
        "from tensorflow.keras.models import Sequential\n",
        "from tensorflow.keras.layers import Dense, Dropout, Flatten, Conv2D, MaxPooling2D, LeakyReLU, ZeroPadding2D,Convolution2D\n",
        "from tensorflow.keras.utils import to_categorical\n",
        "from tensorflow.keras.utils import plot_model\n",
        "from tensorflow.keras.callbacks import History\n",
        "from tensorflow.keras.optimizers import Nadam, Adam, SGD\n",
        "from keras.applications.vgg16 import VGG16\n",
        "from keras.applications.densenet import DenseNet169\n",
        "from keras.applications.resnet import ResNet152, ResNet101, ResNet50\n",
        "import matplotlib.pyplot as plt\n",
        "from keras.utils import np_utils\n",
        "from tensorflow.keras import backend as K\n",
        "from tensorflow.keras import regularizers\n",
        "\n",
        "from sklearn.preprocessing import LabelEncoder\n",
        "from sklearn.model_selection import train_test_split\n",
        "from sklearn.metrics import confusion_matrix\n",
        "from sklearn.preprocessing import OneHotEncoder\n",
        "\n",
        "import tensorflow as tf\n",
        "from google.colab import drive\n",
        "import numpy as np\n",
        "import h5py\n",
        "from sklearn.model_selection import train_test_split\n",
        "from keras.models import Model\n",
        "from keras import layers, regularizers, Input\n",
        "from keras.layers import *\n",
        "from keras.callbacks import ReduceLROnPlateau\n",
        "from keras import optimizers\n",
        "import random"
      ],
      "execution_count": null,
      "outputs": []
    },
    {
      "cell_type": "code",
      "metadata": {
        "id": "QYLTCD1UD3BH"
      },
      "source": [
        "# Image data for training (30,000 sample, each sample is a 56x56 image)\n",
        "# train_labels = pd.read_csv('train_max_y.csv')\n",
        "# train_images = pd.read_pickle('train_max_x')\n",
        "# test_images = pd.read_pickle('test_max_x')\n",
        "with open(\"images_l.pkl\", 'rb') as f:\n",
        "    # load into as a numpy array\n",
        "    train_labelled_data = pickle.load(f)\n",
        "# Test images. The prediction corresponding to these images should be uploaded. (15,000 samples)\n",
        "with open(\"images_test.pkl\", 'rb') as f:\n",
        "    test_data = pickle.load(f)\n",
        "# Labels for training (30,000 rows, each row is a size 36 binary vector, which is the label to the corresponding image)\n",
        "with open(\"labels_l.pkl\", 'rb') as f:\n",
        "    train_labelled_y = pickle.load(f)\n",
        "# Additional images that can be used for training the classifier.\n",
        "# Labels for these images are not provided. (30,000 samples, where each sample is a 56x56 image)\n",
        "with open(\"images_ul.pkl\", 'rb') as f:\n",
        "    train_unlabelled_x = pickle.load(f)"
      ],
      "execution_count": null,
      "outputs": []
    },
    {
      "cell_type": "markdown",
      "metadata": {
        "id": "SLO_9JjdD6tW"
      },
      "source": [
        "# Pre processing"
      ]
    },
    {
      "cell_type": "code",
      "metadata": {
        "id": "g3tjDuS0D5Ru"
      },
      "source": [
        "# data pre processing\n",
        "def clear_noise (array):\n",
        "  for n in range (0,array.shape[0]):\n",
        "    for i in range (0,56):\n",
        "      for j in range (0,56):\n",
        "        # pixel of the nth image at position (i,j)\n",
        "        pixel = array[n][i][j]\n",
        "        flag = False\n",
        "        if(i == 0):\n",
        "        # at the left edge  \n",
        "          if(j == 0):\n",
        "          # at the top edge, so only count right and below\n",
        "            if(array[n][i+1][j]>0 or array[n][i][j+1]>0):\n",
        "              flag=True\n",
        "          # at the bottom edge, so only count right and above\n",
        "          elif(j == 55):\n",
        "            if(array[n][i+1][j]>0 or array[n][i][j-1]>0):\n",
        "              flag=True\n",
        "          else:\n",
        "          # count right, above and below\n",
        "            if(array[n][i+1][j]>0 or array[n][i][j+1]>0 or array[n][i][j-1]>0):\n",
        "              flag=True\n",
        "        elif(i == 55):\n",
        "        # at the right edge  \n",
        "          if(j == 0):\n",
        "            if(array[n][i-1][j]>0 or array[n][i][j+1]>0):\n",
        "              flag=True\n",
        "          elif(j == 55):\n",
        "            if(array[n][i-1][j]>0 or array[n][i][j-1]>0):\n",
        "              flag=True\n",
        "          else:\n",
        "            if(array[n][i-1][j]>0 or array[n][i][j+1]>0 or array[n][i][j-1]>0):\n",
        "              flag=True\n",
        "        else:\n",
        "          if(j == 0):\n",
        "            if(array[n][i+1][j]>0 or array[n][i-1][j]>0 or array[n][i][j+1]>0):\n",
        "              flag=True\n",
        "          elif(j == 55):\n",
        "            if(array[n][i+1][j]>0 or array[n][i-1][j]>0 or array[n][i][j-1]>0):\n",
        "              flag=True\n",
        "          else:\n",
        "            if(array[n][i+1][j]>0 or array[n][i-1][j]>0 or array[n][i][j+1]>0 or array[n][i][j-1]>0):\n",
        "              flag=True   \n",
        "        if(flag==False):\n",
        "          # the point is supposed to not link with other point, so this pixel is regarded as noise\n",
        "          array[n][i][j]=0\n",
        "        # strengthen the useful pixel, make the background to be dark\n",
        "        if(array[n][i][j]>70):\n",
        "          array[n][i][j]=255\n",
        "        else:\n",
        "          array[n][i][j]=0\n",
        "  return array"
      ],
      "execution_count": null,
      "outputs": []
    },
    {
      "cell_type": "code",
      "metadata": {
        "id": "dpjdxgZJELj_"
      },
      "source": [
        "def add_noise(array):\n",
        "  for n in range (0,array.shape[0]):\n",
        "    count = 0\n",
        "    iteration = 0\n",
        "    while (count<100 and iteration<56*56):\n",
        "      i = random.randint(0,55)\n",
        "      j = random.randint(0,55)\n",
        "      pixel = array[n][i][j]\n",
        "      if(pixel<50):\n",
        "        array[n][i][j] = 175\n",
        "        count = count+1\n",
        "      iteration = iteration+1\n",
        "  return array"
      ],
      "execution_count": null,
      "outputs": []
    },
    {
      "cell_type": "code",
      "metadata": {
        "id": "Gb6cznsLEPDm"
      },
      "source": [
        "# train_labelled_x = train_labelled_data\n",
        "# plt.imshow(train_labelled_x[2553], cmap=\"gray\")\n",
        "# plt.show()\n",
        "# plt.imshow(train_labelled_x[142], cmap=\"gray\")\n",
        "# plt.show()\n",
        "\n",
        "# train_labelled_x = add_noise(train_labelled_x)\n",
        "# plt.imshow(train_labelled_x[2553], cmap=\"gray\")\n",
        "# plt.show()\n",
        "# plt.imshow(train_labelled_x[142], cmap=\"gray\")\n",
        "# plt.show()"
      ],
      "execution_count": null,
      "outputs": []
    },
    {
      "cell_type": "code",
      "metadata": {
        "id": "4APwAcnrD-tm"
      },
      "source": [
        "# train_labelled_data = clear_noise(train_labelled_data)\n",
        "train_labelled_data = add_noise(train_labelled_data)\n",
        "test_data = clear_noise(test_data)"
      ],
      "execution_count": null,
      "outputs": []
    },
    {
      "cell_type": "code",
      "metadata": {
        "colab": {
          "base_uri": "https://localhost:8080/"
        },
        "id": "M8MvCABhEFQO",
        "outputId": "f28aeb10-0887-45f4-b67c-0ae49fba3d03"
      },
      "source": [
        "# train_labelled_data=train_labelled_data.reshape((30000,-1))\n",
        "# print(train_labelled_data.shape)\n",
        "# mydf=pd.DataFrame(train_labelled_data)\n",
        "# mydf.to_csv('processed_train_set.csv',index=False)\n",
        "\n",
        "train_labelled_data=train_labelled_data.reshape((30000,-1))\n",
        "print(train_labelled_data.shape)\n",
        "mydf=pd.DataFrame(train_labelled_data)\n",
        "mydf.to_csv('noise_train_set.csv',index=False)\n",
        "\n",
        "test_data=test_data.reshape((15000,-1))\n",
        "print(test_data.shape)\n",
        "mydf=pd.DataFrame(test_data)\n",
        "mydf.to_csv('processed_test_set.csv',index=False)"
      ],
      "execution_count": null,
      "outputs": [
        {
          "output_type": "stream",
          "name": "stdout",
          "text": [
            "(30000, 3136)\n",
            "(15000, 3136)\n"
          ]
        }
      ]
    },
    {
      "cell_type": "markdown",
      "metadata": {
        "id": "Om98sQi1D-42"
      },
      "source": [
        "# Digit Prediction"
      ]
    },
    {
      "cell_type": "code",
      "metadata": {
        "colab": {
          "base_uri": "https://localhost:8080/"
        },
        "id": "bmYxMG1JKrwg",
        "outputId": "c6890c36-faa4-47df-a23e-d48fc7438ab7"
      },
      "source": [
        "def cnn():\n",
        "    # create model\n",
        "    model = Sequential()\n",
        "    vgg16 =  VGG16(weights='imagenet', include_top=False, input_shape=(56,56,3))\n",
        "    #res = ResNet152(weights='imagenet', include_top=False, input_shape=(56,56,3))\n",
        "# des = DenseNet169(weights='imagenet', include_top=False, input_shape=(56,56,3))\n",
        "    model.add(vgg16)\n",
        "# model.add(des)\n",
        "# model.add(res)\n",
        "    model.add(Flatten())\n",
        "    model.add(Dense(1000, activation='relu'))\n",
        "    # model.add(Dropout(0.5))\n",
        "    model.add(Dropout(0.25))\n",
        "    model.add(Dense(10, activation='softmax'))\n",
        "\n",
        "    model.compile(loss='categorical_crossentropy',optimizer=keras.optimizers.Adam(lr=0.0001),metrics=['accuracy'])\n",
        "    # Compile\n",
        "    #model.compile(loss='categorical_crossentropy', optimizer='adam', metrics=['accuracy'])\n",
        "    return model\n",
        "\n",
        "model = cnn()\n",
        "model.summary() "
      ],
      "execution_count": null,
      "outputs": [
        {
          "output_type": "stream",
          "name": "stdout",
          "text": [
            "Downloading data from https://storage.googleapis.com/tensorflow/keras-applications/vgg16/vgg16_weights_tf_dim_ordering_tf_kernels_notop.h5\n",
            "58892288/58889256 [==============================] - 0s 0us/step\n",
            "58900480/58889256 [==============================] - 0s 0us/step\n",
            "Model: \"sequential\"\n",
            "_________________________________________________________________\n",
            " Layer (type)                Output Shape              Param #   \n",
            "=================================================================\n",
            " vgg16 (Functional)          (None, 1, 1, 512)         14714688  \n",
            "                                                                 \n",
            " flatten (Flatten)           (None, 512)               0         \n",
            "                                                                 \n",
            " dense (Dense)               (None, 1000)              513000    \n",
            "                                                                 \n",
            " dropout (Dropout)           (None, 1000)              0         \n",
            "                                                                 \n",
            " dense_1 (Dense)             (None, 10)                10010     \n",
            "                                                                 \n",
            "=================================================================\n",
            "Total params: 15,237,698\n",
            "Trainable params: 15,237,698\n",
            "Non-trainable params: 0\n",
            "_________________________________________________________________\n"
          ]
        },
        {
          "output_type": "stream",
          "name": "stderr",
          "text": [
            "/usr/local/lib/python3.7/dist-packages/keras/optimizer_v2/adam.py:105: UserWarning: The `lr` argument is deprecated, use `learning_rate` instead.\n",
            "  super(Adam, self).__init__(name, **kwargs)\n"
          ]
        }
      ]
    },
    {
      "cell_type": "code",
      "metadata": {
        "id": "lR9K8WbjKu7i"
      },
      "source": [
        "# train_labelled_x=np.array(pd.DataFrame(pd.read_csv('processed_train_set.csv')))\n",
        "\n",
        "# train_labelled_x=train_labelled_x.reshape((30000,56,56))\n",
        "\n",
        "# import matplotlib.pyplot as plt\n",
        "# import random\n",
        "\n",
        "# plt.imshow(train_labelled_x[random.randint(0,29999)], cmap=\"gray\")\n",
        "# plt.show()\n",
        "\n",
        "# # no processed train set\n",
        "# with open(\"images_l.pkl\", 'rb') as f:\n",
        "#     # load into as a numpy array\n",
        "#     train_labelled_data = pickle.load(f)\n",
        "# train_labelled_x1 = train_labelled_data\n",
        "\n",
        "# noise train set \n",
        "train_labelled_x=np.array(pd.DataFrame(pd.read_csv('noise_train_set.csv')))\n",
        "train_labelled_x=train_labelled_x.reshape((30000,56,56))\n",
        "\n",
        "\n",
        "# train_labelled_x = np.concatenate((train_labelled_x1, train_labelled_x2), axis=0)\n",
        "# print(train_labelled_x.shape)\n",
        "# train_labelled_y = np.concatenate((train_labelled_y, train_labelled_y), axis=0)\n",
        "# print(train_labelled_y.shape)"
      ],
      "execution_count": null,
      "outputs": []
    },
    {
      "cell_type": "code",
      "metadata": {
        "colab": {
          "base_uri": "https://localhost:8080/"
        },
        "id": "90C3E_B1K3h_",
        "outputId": "1af4e781-bdf1-489b-f445-352b4e227850"
      },
      "source": [
        "x_train = train_labelled_x\n",
        "y_train = train_labelled_y\n",
        "for i in range(x_train.shape[0]):\n",
        "  x_train[i] = (x_train[i]>200).astype('int32')*255\n",
        "import torch\n",
        "\n",
        "x_train = torch.Tensor(x_train)\n",
        "x_train = torch.unsqueeze(x_train, dim=3)/255.\n",
        "x_train = x_train.repeat(1,1,1,3)\n",
        "x_train = x_train.numpy()\n",
        "x_train = x_train.astype('float32')\n",
        "x_valid = x_train[28000:, :]\n",
        "x_train = x_train[:28000, :]\n",
        "print('x_train shape:', x_train.shape)\n",
        "print('x_valid shape:', x_valid.shape)\n",
        "\n",
        "# y_train = keras.utils.to_categorical(y_train, 10)\n",
        "a = y_train\n",
        "y_valid = y_train[28000:, :10]\n",
        "y_train = y_train[:28000, :10]\n",
        "print('y_train shape:', y_train.shape)\n",
        "print('y_valid shape:', y_valid.shape)"
      ],
      "execution_count": null,
      "outputs": [
        {
          "output_type": "stream",
          "name": "stdout",
          "text": [
            "x_train shape: (28000, 56, 56, 3)\n",
            "x_valid shape: (2000, 56, 56, 3)\n",
            "y_train shape: (28000, 10)\n",
            "y_valid shape: (2000, 10)\n"
          ]
        }
      ]
    },
    {
      "cell_type": "code",
      "metadata": {
        "colab": {
          "base_uri": "https://localhost:8080/"
        },
        "id": "YO9rZaDcK8Yf",
        "outputId": "7482d8ff-3f60-4baa-f92f-2e5f76536016"
      },
      "source": [
        "for i in range(15):\n",
        "  print('Trail: ',i)\n",
        "  history = model.fit(x_train, y_train, batch_size=100, epochs=1, verbose=1)\n",
        "  score = model.evaluate(x_valid, y_valid, verbose=1)\n",
        "  print('Test loss:', score[0])\n",
        "  print('Test accuracy:', score[1])\n",
        "  model.save('VGG16_2_SP_{}'.format(i))"
      ],
      "execution_count": null,
      "outputs": [
        {
          "output_type": "stream",
          "name": "stdout",
          "text": [
            "Trail:  0\n",
            "280/280 [==============================] - 17s 62ms/step - loss: 1.2130 - accuracy: 0.5938\n",
            "63/63 [==============================] - 1s 14ms/step - loss: 0.6059 - accuracy: 0.8200\n",
            "Test loss: 0.6059260368347168\n",
            "Test accuracy: 0.8199999928474426\n",
            "INFO:tensorflow:Assets written to: VGG16_2_SP_0/assets\n",
            "Trail:  1\n",
            "280/280 [==============================] - 17s 62ms/step - loss: 0.5090 - accuracy: 0.8451\n",
            "63/63 [==============================] - 1s 11ms/step - loss: 0.4704 - accuracy: 0.8595\n",
            "Test loss: 0.470396488904953\n",
            "Test accuracy: 0.859499990940094\n",
            "INFO:tensorflow:Assets written to: VGG16_2_SP_1/assets\n",
            "Trail:  2\n",
            "280/280 [==============================] - 17s 62ms/step - loss: 0.3678 - accuracy: 0.8871\n",
            "63/63 [==============================] - 1s 11ms/step - loss: 0.4326 - accuracy: 0.8670\n",
            "Test loss: 0.4325747787952423\n",
            "Test accuracy: 0.8669999837875366\n",
            "INFO:tensorflow:Assets written to: VGG16_2_SP_2/assets\n",
            "Trail:  3\n",
            "280/280 [==============================] - 17s 62ms/step - loss: 0.2711 - accuracy: 0.9153\n",
            "63/63 [==============================] - 1s 11ms/step - loss: 0.4056 - accuracy: 0.8715\n",
            "Test loss: 0.40556076169013977\n",
            "Test accuracy: 0.8715000152587891\n",
            "INFO:tensorflow:Assets written to: VGG16_2_SP_3/assets\n",
            "Trail:  4\n",
            "280/280 [==============================] - 17s 62ms/step - loss: 0.2042 - accuracy: 0.9359\n",
            "63/63 [==============================] - 1s 11ms/step - loss: 0.4263 - accuracy: 0.8775\n",
            "Test loss: 0.4262731373310089\n",
            "Test accuracy: 0.8774999976158142\n",
            "INFO:tensorflow:Assets written to: VGG16_2_SP_4/assets\n",
            "Trail:  5\n",
            "280/280 [==============================] - 18s 63ms/step - loss: 0.1555 - accuracy: 0.9496\n",
            "63/63 [==============================] - 1s 11ms/step - loss: 0.4573 - accuracy: 0.8650\n",
            "Test loss: 0.45727887749671936\n",
            "Test accuracy: 0.8650000095367432\n",
            "INFO:tensorflow:Assets written to: VGG16_2_SP_5/assets\n",
            "Trail:  6\n",
            "280/280 [==============================] - 18s 64ms/step - loss: 0.1087 - accuracy: 0.9651\n",
            "63/63 [==============================] - 1s 12ms/step - loss: 0.4856 - accuracy: 0.8855\n",
            "Test loss: 0.48557502031326294\n",
            "Test accuracy: 0.8855000138282776\n",
            "INFO:tensorflow:Assets written to: VGG16_2_SP_6/assets\n",
            "Trail:  7\n",
            "280/280 [==============================] - 18s 63ms/step - loss: 0.0862 - accuracy: 0.9722\n",
            "63/63 [==============================] - 1s 11ms/step - loss: 0.4659 - accuracy: 0.8780\n",
            "Test loss: 0.4658757150173187\n",
            "Test accuracy: 0.878000020980835\n",
            "INFO:tensorflow:Assets written to: VGG16_2_SP_7/assets\n",
            "Trail:  8\n",
            "280/280 [==============================] - 18s 63ms/step - loss: 0.0612 - accuracy: 0.9796\n",
            "63/63 [==============================] - 1s 12ms/step - loss: 0.5441 - accuracy: 0.8750\n",
            "Test loss: 0.544098436832428\n",
            "Test accuracy: 0.875\n",
            "INFO:tensorflow:Assets written to: VGG16_2_SP_8/assets\n",
            "Trail:  9\n",
            "280/280 [==============================] - 18s 63ms/step - loss: 0.0565 - accuracy: 0.9811\n",
            "63/63 [==============================] - 1s 11ms/step - loss: 0.5593 - accuracy: 0.8825\n",
            "Test loss: 0.5593178272247314\n",
            "Test accuracy: 0.8824999928474426\n",
            "INFO:tensorflow:Assets written to: VGG16_2_SP_9/assets\n",
            "Trail:  10\n",
            "280/280 [==============================] - 18s 64ms/step - loss: 0.0564 - accuracy: 0.9814\n",
            "63/63 [==============================] - 1s 11ms/step - loss: 0.5527 - accuracy: 0.8705\n",
            "Test loss: 0.552738606929779\n",
            "Test accuracy: 0.8705000281333923\n",
            "INFO:tensorflow:Assets written to: VGG16_2_SP_10/assets\n",
            "Trail:  11\n",
            "280/280 [==============================] - 18s 63ms/step - loss: 0.0410 - accuracy: 0.9868\n",
            "63/63 [==============================] - 1s 11ms/step - loss: 0.6144 - accuracy: 0.8795\n",
            "Test loss: 0.6143601536750793\n",
            "Test accuracy: 0.8794999718666077\n",
            "INFO:tensorflow:Assets written to: VGG16_2_SP_11/assets\n",
            "Trail:  12\n",
            "280/280 [==============================] - 18s 64ms/step - loss: 0.0502 - accuracy: 0.9843\n",
            "63/63 [==============================] - 1s 11ms/step - loss: 0.5656 - accuracy: 0.8800\n",
            "Test loss: 0.5656096935272217\n",
            "Test accuracy: 0.8799999952316284\n",
            "INFO:tensorflow:Assets written to: VGG16_2_SP_12/assets\n",
            "Trail:  13\n",
            "280/280 [==============================] - 18s 63ms/step - loss: 0.0352 - accuracy: 0.9881\n",
            "63/63 [==============================] - 1s 11ms/step - loss: 0.6279 - accuracy: 0.8735\n",
            "Test loss: 0.6278537511825562\n",
            "Test accuracy: 0.8734999895095825\n",
            "INFO:tensorflow:Assets written to: VGG16_2_SP_13/assets\n",
            "Trail:  14\n",
            "280/280 [==============================] - 18s 64ms/step - loss: 0.0273 - accuracy: 0.9916\n",
            "63/63 [==============================] - 1s 11ms/step - loss: 0.6822 - accuracy: 0.8740\n",
            "Test loss: 0.682159960269928\n",
            "Test accuracy: 0.8740000128746033\n",
            "INFO:tensorflow:Assets written to: VGG16_2_SP_14/assets\n"
          ]
        }
      ]
    },
    {
      "cell_type": "code",
      "metadata": {
        "id": "SEZda2BmK-bw"
      },
      "source": [
        "history = model.fit(x_train, y_train, batch_size=100, epochs=1, verbose=1)\n",
        "score = model.evaluate(x_valid, y_valid, verbose=1)\n",
        "print('Test loss:', score[0])\n",
        "print('Test accuracy:', score[1])"
      ],
      "execution_count": null,
      "outputs": []
    },
    {
      "cell_type": "code",
      "metadata": {
        "id": "H777AN6376-u"
      },
      "source": [
        ""
      ],
      "execution_count": null,
      "outputs": []
    },
    {
      "cell_type": "code",
      "metadata": {
        "id": "FkTmn1psLBGp"
      },
      "source": [
        "# load testing data for model testing\n",
        "x_test=np.array(pd.DataFrame(pd.read_csv('processed_test_set.csv')))\n",
        "\n",
        "x_test=x_test.reshape((15000,56,56))\n",
        "\n",
        "import matplotlib.pyplot as plt\n",
        "import random\n",
        "\n",
        "plt.imshow(x_test[random.randint(0,14999)], cmap=\"gray\")\n",
        "plt.show()\n",
        "\n",
        "# with open(\"images_test.pkl\",'rb') as f:\n",
        "#   x_test = pickle.load(f)\n",
        "for i in range(x_test.shape[0]):\n",
        "  x_test[i] = (x_test[i]>200).astype('int32')*255\n",
        "x_test = torch.Tensor(x_test)\n",
        "x_test = torch.unsqueeze(x_test,dim=3)/255\n",
        "x_test = x_test.repeat(1,1,1,3)\n",
        "x_test = x_test.numpy()\n",
        "x_test = x_test.astype('float32')"
      ],
      "execution_count": null,
      "outputs": []
    },
    {
      "cell_type": "markdown",
      "metadata": {
        "id": "bud4VadGIFG0"
      },
      "source": [
        "# letter"
      ]
    },
    {
      "cell_type": "code",
      "metadata": {
        "colab": {
          "base_uri": "https://localhost:8080/"
        },
        "id": "_OItorcvIEl0",
        "outputId": "2ccac208-7a34-4e49-c416-4687c654891d"
      },
      "source": [
        "def cnn2():\n",
        "  model = Sequential()\n",
        "  model.add(Input(shape=(56, 56, 1)))\n",
        "  model.add(Conv2D(filters= 56, kernel_size=(3,3), padding='Same', activation='relu'))\n",
        "  model.add(Conv2D(filters= 56, kernel_size=(3,3), padding='Same', activation='relu'))\n",
        "  model.add(BatchNormalization())\n",
        "  model.add(MaxPool2D(pool_size=(2,2),strides=(2,2)))\n",
        "  model.add(Dropout(0.6))\n",
        "\n",
        "  model.add(Conv2D(filters= 128, kernel_size=(3,3), padding='Same', activation='relu'))\n",
        "  model.add(Conv2D(filters= 128, kernel_size=(3,3), padding='Same', activation='relu'))\n",
        "  model.add(BatchNormalization())\n",
        "  model.add(MaxPool2D(pool_size=(2,2),strides=(2,2)))\n",
        "  model.add(Dropout(0.6))\n",
        "\n",
        "  model.add(Conv2D(filters= 256, kernel_size=(3,3), padding='Same', activation='relu'))\n",
        "  model.add(Conv2D(filters= 256, kernel_size=(3,3), padding='Same', activation='relu'))\n",
        "  model.add(BatchNormalization())\n",
        "  model.add(MaxPool2D(pool_size=(2,2),strides=(2,2)))\n",
        "  model.add(Dropout(0.6))\n",
        "\n",
        "  model.add(Conv2D(filters= 512, kernel_size=(3,3), padding='Same', activation='relu'))\n",
        "  model.add(Conv2D(filters= 512, kernel_size=(3,3), padding='Same', activation='relu'))\n",
        "  model.add(BatchNormalization())\n",
        "  model.add(MaxPool2D(pool_size=(2,2),strides=(2,2)))\n",
        "  model.add(Dropout(0.6))\n",
        "\n",
        "  model.add(Flatten())\n",
        "  model.add(Dense(1024, activation='relu'))\n",
        "  model.add(BatchNormalization())\n",
        "  model.add(Dropout(0.6))\n",
        "  model.add(Dense(26, activation='softmax'))\n",
        "  model.compile(optimizer='rmsprop',loss='categorical_crossentropy',metrics=['accuracy'])\n",
        "  return model\n",
        "model2=cnn2()\n",
        "model2.summary()"
      ],
      "execution_count": null,
      "outputs": [
        {
          "output_type": "stream",
          "name": "stdout",
          "text": [
            "Model: \"sequential_1\"\n",
            "_________________________________________________________________\n",
            " Layer (type)                Output Shape              Param #   \n",
            "=================================================================\n",
            " conv2d (Conv2D)             (None, 56, 56, 56)        560       \n",
            "                                                                 \n",
            " conv2d_1 (Conv2D)           (None, 56, 56, 56)        28280     \n",
            "                                                                 \n",
            " batch_normalization (BatchN  (None, 56, 56, 56)       224       \n",
            " ormalization)                                                   \n",
            "                                                                 \n",
            " max_pooling2d (MaxPooling2D  (None, 28, 28, 56)       0         \n",
            " )                                                               \n",
            "                                                                 \n",
            " dropout_1 (Dropout)         (None, 28, 28, 56)        0         \n",
            "                                                                 \n",
            " conv2d_2 (Conv2D)           (None, 28, 28, 128)       64640     \n",
            "                                                                 \n",
            " conv2d_3 (Conv2D)           (None, 28, 28, 128)       147584    \n",
            "                                                                 \n",
            " batch_normalization_1 (Batc  (None, 28, 28, 128)      512       \n",
            " hNormalization)                                                 \n",
            "                                                                 \n",
            " max_pooling2d_1 (MaxPooling  (None, 14, 14, 128)      0         \n",
            " 2D)                                                             \n",
            "                                                                 \n",
            " dropout_2 (Dropout)         (None, 14, 14, 128)       0         \n",
            "                                                                 \n",
            " conv2d_4 (Conv2D)           (None, 14, 14, 256)       295168    \n",
            "                                                                 \n",
            " conv2d_5 (Conv2D)           (None, 14, 14, 256)       590080    \n",
            "                                                                 \n",
            " batch_normalization_2 (Batc  (None, 14, 14, 256)      1024      \n",
            " hNormalization)                                                 \n",
            "                                                                 \n",
            " max_pooling2d_2 (MaxPooling  (None, 7, 7, 256)        0         \n",
            " 2D)                                                             \n",
            "                                                                 \n",
            " dropout_3 (Dropout)         (None, 7, 7, 256)         0         \n",
            "                                                                 \n",
            " conv2d_6 (Conv2D)           (None, 7, 7, 512)         1180160   \n",
            "                                                                 \n",
            " conv2d_7 (Conv2D)           (None, 7, 7, 512)         2359808   \n",
            "                                                                 \n",
            " batch_normalization_3 (Batc  (None, 7, 7, 512)        2048      \n",
            " hNormalization)                                                 \n",
            "                                                                 \n",
            " max_pooling2d_3 (MaxPooling  (None, 3, 3, 512)        0         \n",
            " 2D)                                                             \n",
            "                                                                 \n",
            " dropout_4 (Dropout)         (None, 3, 3, 512)         0         \n",
            "                                                                 \n",
            " flatten_1 (Flatten)         (None, 4608)              0         \n",
            "                                                                 \n",
            " dense_2 (Dense)             (None, 1024)              4719616   \n",
            "                                                                 \n",
            " batch_normalization_4 (Batc  (None, 1024)             4096      \n",
            " hNormalization)                                                 \n",
            "                                                                 \n",
            " dropout_5 (Dropout)         (None, 1024)              0         \n",
            "                                                                 \n",
            " dense_3 (Dense)             (None, 26)                26650     \n",
            "                                                                 \n",
            "=================================================================\n",
            "Total params: 9,420,450\n",
            "Trainable params: 9,416,498\n",
            "Non-trainable params: 3,952\n",
            "_________________________________________________________________\n"
          ]
        }
      ]
    },
    {
      "cell_type": "code",
      "metadata": {
        "id": "ndCif0qyIRlK"
      },
      "source": [
        "learnrate_reduce_1 = ReduceLROnPlateau(monitor='val_dense_1_accuracy', patience=2, verbose=1,factor=0.8, min_lr=0.000001)\n",
        "learnrate_reduce_2 = ReduceLROnPlateau(monitor='val_dense_3_accuracy', patience=2, verbose=1,factor=0.8, min_lr=0.000001)\n",
        "learnrate_reduce_3 = ReduceLROnPlateau(monitor='val_dense_5_accuracy', patience=2, verbose=1,factor=0.8, min_lr=0.000001)\n",
        "learnrate_reduce_4 = ReduceLROnPlateau(monitor='val_dense_7_accuracy', patience=2, verbose=1,factor=0.8, min_lr=0.000001)\n",
        "learnrate_reduce_5 = ReduceLROnPlateau(monitor='val_dense_9_accuracy', patience=2, verbose=1,factor=0.8, min_lr=0.000001)"
      ],
      "execution_count": null,
      "outputs": []
    },
    {
      "cell_type": "code",
      "metadata": {
        "id": "hU-2EPb3ITvU"
      },
      "source": [
        "# reload train data for model2 training\n",
        "train_labelled_x=np.array(pd.DataFrame(pd.read_csv('noise_train_set.csv')))\n",
        "\n",
        "train_labelled_x=train_labelled_x.reshape((30000,56,56))\n",
        "\n",
        "# with open(\"images_l.pkl\", 'rb') as f:\n",
        "#     # load into as a numpy array\n",
        "#     train_labelled_data = pickle.load(f)\n",
        "\n",
        "# Labels for training (30,000 rows, each row is a size 36 binary vector, which is the label to the corresponding image)\n",
        "with open(\"labels_l.pkl\", 'rb') as f:\n",
        "    train_labelled_y = pickle.load(f)\n",
        "\n",
        "train_labelled_x = train_labelled_data"
      ],
      "execution_count": null,
      "outputs": []
    },
    {
      "cell_type": "code",
      "metadata": {
        "id": "gkqwDnYuIVVp"
      },
      "source": [
        "letter_train = train_labelled_x.reshape(-1, 56, 56, 1)\n",
        "# letter_train /= 255\n",
        "letter_train_label = train_labelled_y[:, 10:]\n",
        "x_train2 = letter_train[:29000,:,:,:]\n",
        "y_train2 = letter_train_label[:29000,:]\n",
        "x_valid2 = letter_train[29000:,:,:,:]\n",
        "y_valid2 = letter_train_label[29000:,:]"
      ],
      "execution_count": null,
      "outputs": []
    },
    {
      "cell_type": "code",
      "metadata": {
        "colab": {
          "base_uri": "https://localhost:8080/"
        },
        "id": "oq-SzXFWIWwh",
        "outputId": "f8ce7204-713a-415a-a71b-cf688663d551"
      },
      "source": [
        "history = model2.fit(x_train2, y_train2, epochs=40, batch_size=128,\n",
        "          validation_data=(x_valid2, y_valid2), \n",
        "          callbacks=[learnrate_reduce_1], shuffle=False)"
      ],
      "execution_count": null,
      "outputs": [
        {
          "output_type": "stream",
          "name": "stdout",
          "text": [
            "Epoch 1/40\n",
            "226/227 [============================>.] - ETA: 0s - loss: 0.1423 - accuracy: 0.9559WARNING:tensorflow:Learning rate reduction is conditioned on metric `val_dense_1_accuracy` which is not available. Available metrics are: loss,accuracy,val_loss,val_accuracy,lr\n",
            "227/227 [==============================] - 13s 56ms/step - loss: 0.1420 - accuracy: 0.9559 - val_loss: 0.1662 - val_accuracy: 0.9620 - lr: 0.0010\n",
            "Epoch 2/40\n",
            "226/227 [============================>.] - ETA: 0s - loss: 0.1359 - accuracy: 0.9572WARNING:tensorflow:Learning rate reduction is conditioned on metric `val_dense_1_accuracy` which is not available. Available metrics are: loss,accuracy,val_loss,val_accuracy,lr\n",
            "227/227 [==============================] - 13s 56ms/step - loss: 0.1356 - accuracy: 0.9573 - val_loss: 0.1552 - val_accuracy: 0.9670 - lr: 0.0010\n",
            "Epoch 3/40\n",
            "226/227 [============================>.] - ETA: 0s - loss: 0.1310 - accuracy: 0.9599WARNING:tensorflow:Learning rate reduction is conditioned on metric `val_dense_1_accuracy` which is not available. Available metrics are: loss,accuracy,val_loss,val_accuracy,lr\n",
            "227/227 [==============================] - 13s 56ms/step - loss: 0.1308 - accuracy: 0.9599 - val_loss: 0.3205 - val_accuracy: 0.9220 - lr: 0.0010\n",
            "Epoch 4/40\n",
            "226/227 [============================>.] - ETA: 0s - loss: 0.1235 - accuracy: 0.9607WARNING:tensorflow:Learning rate reduction is conditioned on metric `val_dense_1_accuracy` which is not available. Available metrics are: loss,accuracy,val_loss,val_accuracy,lr\n",
            "227/227 [==============================] - 13s 56ms/step - loss: 0.1234 - accuracy: 0.9607 - val_loss: 0.1550 - val_accuracy: 0.9670 - lr: 0.0010\n",
            "Epoch 5/40\n",
            "226/227 [============================>.] - ETA: 0s - loss: 0.1203 - accuracy: 0.9622WARNING:tensorflow:Learning rate reduction is conditioned on metric `val_dense_1_accuracy` which is not available. Available metrics are: loss,accuracy,val_loss,val_accuracy,lr\n",
            "227/227 [==============================] - 13s 56ms/step - loss: 0.1203 - accuracy: 0.9622 - val_loss: 0.1306 - val_accuracy: 0.9580 - lr: 0.0010\n",
            "Epoch 6/40\n",
            "226/227 [============================>.] - ETA: 0s - loss: 0.1259 - accuracy: 0.9609WARNING:tensorflow:Learning rate reduction is conditioned on metric `val_dense_1_accuracy` which is not available. Available metrics are: loss,accuracy,val_loss,val_accuracy,lr\n",
            "227/227 [==============================] - 13s 56ms/step - loss: 0.1261 - accuracy: 0.9608 - val_loss: 0.2044 - val_accuracy: 0.9470 - lr: 0.0010\n",
            "Epoch 7/40\n",
            "226/227 [============================>.] - ETA: 0s - loss: 0.1152 - accuracy: 0.9632WARNING:tensorflow:Learning rate reduction is conditioned on metric `val_dense_1_accuracy` which is not available. Available metrics are: loss,accuracy,val_loss,val_accuracy,lr\n",
            "227/227 [==============================] - 13s 56ms/step - loss: 0.1151 - accuracy: 0.9632 - val_loss: 0.1362 - val_accuracy: 0.9590 - lr: 0.0010\n",
            "Epoch 8/40\n",
            "226/227 [============================>.] - ETA: 0s - loss: 0.1160 - accuracy: 0.9626WARNING:tensorflow:Learning rate reduction is conditioned on metric `val_dense_1_accuracy` which is not available. Available metrics are: loss,accuracy,val_loss,val_accuracy,lr\n",
            "227/227 [==============================] - 13s 56ms/step - loss: 0.1160 - accuracy: 0.9627 - val_loss: 0.1600 - val_accuracy: 0.9590 - lr: 0.0010\n",
            "Epoch 9/40\n",
            "226/227 [============================>.] - ETA: 0s - loss: 0.1073 - accuracy: 0.9659WARNING:tensorflow:Learning rate reduction is conditioned on metric `val_dense_1_accuracy` which is not available. Available metrics are: loss,accuracy,val_loss,val_accuracy,lr\n",
            "227/227 [==============================] - 13s 57ms/step - loss: 0.1073 - accuracy: 0.9660 - val_loss: 0.1445 - val_accuracy: 0.9640 - lr: 0.0010\n",
            "Epoch 10/40\n",
            "226/227 [============================>.] - ETA: 0s - loss: 0.1102 - accuracy: 0.9659WARNING:tensorflow:Learning rate reduction is conditioned on metric `val_dense_1_accuracy` which is not available. Available metrics are: loss,accuracy,val_loss,val_accuracy,lr\n",
            "227/227 [==============================] - 13s 56ms/step - loss: 0.1100 - accuracy: 0.9659 - val_loss: 0.1250 - val_accuracy: 0.9660 - lr: 0.0010\n",
            "Epoch 11/40\n",
            "226/227 [============================>.] - ETA: 0s - loss: 0.1038 - accuracy: 0.9662WARNING:tensorflow:Learning rate reduction is conditioned on metric `val_dense_1_accuracy` which is not available. Available metrics are: loss,accuracy,val_loss,val_accuracy,lr\n",
            "227/227 [==============================] - 13s 57ms/step - loss: 0.1036 - accuracy: 0.9663 - val_loss: 0.1536 - val_accuracy: 0.9640 - lr: 0.0010\n",
            "Epoch 12/40\n",
            "226/227 [============================>.] - ETA: 0s - loss: 0.1013 - accuracy: 0.9682WARNING:tensorflow:Learning rate reduction is conditioned on metric `val_dense_1_accuracy` which is not available. Available metrics are: loss,accuracy,val_loss,val_accuracy,lr\n",
            "227/227 [==============================] - 13s 56ms/step - loss: 0.1012 - accuracy: 0.9682 - val_loss: 0.1964 - val_accuracy: 0.9520 - lr: 0.0010\n",
            "Epoch 13/40\n",
            "226/227 [============================>.] - ETA: 0s - loss: 0.1005 - accuracy: 0.9674WARNING:tensorflow:Learning rate reduction is conditioned on metric `val_dense_1_accuracy` which is not available. Available metrics are: loss,accuracy,val_loss,val_accuracy,lr\n",
            "227/227 [==============================] - 13s 56ms/step - loss: 0.1004 - accuracy: 0.9674 - val_loss: 0.1815 - val_accuracy: 0.9570 - lr: 0.0010\n",
            "Epoch 14/40\n",
            "226/227 [============================>.] - ETA: 0s - loss: 0.1020 - accuracy: 0.9673WARNING:tensorflow:Learning rate reduction is conditioned on metric `val_dense_1_accuracy` which is not available. Available metrics are: loss,accuracy,val_loss,val_accuracy,lr\n",
            "227/227 [==============================] - 13s 57ms/step - loss: 0.1020 - accuracy: 0.9673 - val_loss: 0.1383 - val_accuracy: 0.9670 - lr: 0.0010\n",
            "Epoch 15/40\n",
            "226/227 [============================>.] - ETA: 0s - loss: 0.1005 - accuracy: 0.9691WARNING:tensorflow:Learning rate reduction is conditioned on metric `val_dense_1_accuracy` which is not available. Available metrics are: loss,accuracy,val_loss,val_accuracy,lr\n",
            "227/227 [==============================] - 13s 56ms/step - loss: 0.1004 - accuracy: 0.9691 - val_loss: 0.1833 - val_accuracy: 0.9550 - lr: 0.0010\n",
            "Epoch 16/40\n",
            "226/227 [============================>.] - ETA: 0s - loss: 0.1026 - accuracy: 0.9681WARNING:tensorflow:Learning rate reduction is conditioned on metric `val_dense_1_accuracy` which is not available. Available metrics are: loss,accuracy,val_loss,val_accuracy,lr\n",
            "227/227 [==============================] - 13s 57ms/step - loss: 0.1025 - accuracy: 0.9682 - val_loss: 0.1633 - val_accuracy: 0.9610 - lr: 0.0010\n",
            "Epoch 17/40\n",
            "226/227 [============================>.] - ETA: 0s - loss: 0.0966 - accuracy: 0.9704WARNING:tensorflow:Learning rate reduction is conditioned on metric `val_dense_1_accuracy` which is not available. Available metrics are: loss,accuracy,val_loss,val_accuracy,lr\n",
            "227/227 [==============================] - 13s 57ms/step - loss: 0.0964 - accuracy: 0.9705 - val_loss: 0.1255 - val_accuracy: 0.9670 - lr: 0.0010\n",
            "Epoch 18/40\n",
            "226/227 [============================>.] - ETA: 0s - loss: 0.0960 - accuracy: 0.9700WARNING:tensorflow:Learning rate reduction is conditioned on metric `val_dense_1_accuracy` which is not available. Available metrics are: loss,accuracy,val_loss,val_accuracy,lr\n",
            "227/227 [==============================] - 13s 57ms/step - loss: 0.0959 - accuracy: 0.9700 - val_loss: 0.1299 - val_accuracy: 0.9660 - lr: 0.0010\n",
            "Epoch 19/40\n",
            "226/227 [============================>.] - ETA: 0s - loss: 0.0863 - accuracy: 0.9722WARNING:tensorflow:Learning rate reduction is conditioned on metric `val_dense_1_accuracy` which is not available. Available metrics are: loss,accuracy,val_loss,val_accuracy,lr\n",
            "227/227 [==============================] - 13s 57ms/step - loss: 0.0861 - accuracy: 0.9722 - val_loss: 0.1600 - val_accuracy: 0.9630 - lr: 0.0010\n",
            "Epoch 20/40\n",
            "226/227 [============================>.] - ETA: 0s - loss: 0.0875 - accuracy: 0.9727WARNING:tensorflow:Learning rate reduction is conditioned on metric `val_dense_1_accuracy` which is not available. Available metrics are: loss,accuracy,val_loss,val_accuracy,lr\n",
            "227/227 [==============================] - 13s 57ms/step - loss: 0.0874 - accuracy: 0.9727 - val_loss: 0.2179 - val_accuracy: 0.9490 - lr: 0.0010\n",
            "Epoch 21/40\n",
            "226/227 [============================>.] - ETA: 0s - loss: 0.0900 - accuracy: 0.9711WARNING:tensorflow:Learning rate reduction is conditioned on metric `val_dense_1_accuracy` which is not available. Available metrics are: loss,accuracy,val_loss,val_accuracy,lr\n",
            "227/227 [==============================] - 13s 57ms/step - loss: 0.0898 - accuracy: 0.9711 - val_loss: 0.1465 - val_accuracy: 0.9600 - lr: 0.0010\n",
            "Epoch 22/40\n",
            "226/227 [============================>.] - ETA: 0s - loss: 0.0897 - accuracy: 0.9714WARNING:tensorflow:Learning rate reduction is conditioned on metric `val_dense_1_accuracy` which is not available. Available metrics are: loss,accuracy,val_loss,val_accuracy,lr\n",
            "227/227 [==============================] - 13s 57ms/step - loss: 0.0897 - accuracy: 0.9713 - val_loss: 0.2113 - val_accuracy: 0.9580 - lr: 0.0010\n",
            "Epoch 23/40\n",
            "226/227 [============================>.] - ETA: 0s - loss: 0.0879 - accuracy: 0.9708WARNING:tensorflow:Learning rate reduction is conditioned on metric `val_dense_1_accuracy` which is not available. Available metrics are: loss,accuracy,val_loss,val_accuracy,lr\n",
            "227/227 [==============================] - 13s 57ms/step - loss: 0.0879 - accuracy: 0.9707 - val_loss: 0.1683 - val_accuracy: 0.9650 - lr: 0.0010\n",
            "Epoch 24/40\n",
            "226/227 [============================>.] - ETA: 0s - loss: 0.0902 - accuracy: 0.9711WARNING:tensorflow:Learning rate reduction is conditioned on metric `val_dense_1_accuracy` which is not available. Available metrics are: loss,accuracy,val_loss,val_accuracy,lr\n",
            "227/227 [==============================] - 13s 57ms/step - loss: 0.0901 - accuracy: 0.9711 - val_loss: 0.1780 - val_accuracy: 0.9580 - lr: 0.0010\n",
            "Epoch 25/40\n",
            "226/227 [============================>.] - ETA: 0s - loss: 0.0781 - accuracy: 0.9750WARNING:tensorflow:Learning rate reduction is conditioned on metric `val_dense_1_accuracy` which is not available. Available metrics are: loss,accuracy,val_loss,val_accuracy,lr\n",
            "227/227 [==============================] - 13s 57ms/step - loss: 0.0782 - accuracy: 0.9750 - val_loss: 0.1680 - val_accuracy: 0.9600 - lr: 0.0010\n",
            "Epoch 26/40\n",
            "226/227 [============================>.] - ETA: 0s - loss: 0.0843 - accuracy: 0.9738WARNING:tensorflow:Learning rate reduction is conditioned on metric `val_dense_1_accuracy` which is not available. Available metrics are: loss,accuracy,val_loss,val_accuracy,lr\n",
            "227/227 [==============================] - 13s 57ms/step - loss: 0.0841 - accuracy: 0.9738 - val_loss: 0.1314 - val_accuracy: 0.9660 - lr: 0.0010\n",
            "Epoch 27/40\n",
            "226/227 [============================>.] - ETA: 0s - loss: 0.0810 - accuracy: 0.9744WARNING:tensorflow:Learning rate reduction is conditioned on metric `val_dense_1_accuracy` which is not available. Available metrics are: loss,accuracy,val_loss,val_accuracy,lr\n",
            "227/227 [==============================] - 13s 57ms/step - loss: 0.0808 - accuracy: 0.9745 - val_loss: 0.1549 - val_accuracy: 0.9710 - lr: 0.0010\n",
            "Epoch 28/40\n",
            "226/227 [============================>.] - ETA: 0s - loss: 0.0811 - accuracy: 0.9744WARNING:tensorflow:Learning rate reduction is conditioned on metric `val_dense_1_accuracy` which is not available. Available metrics are: loss,accuracy,val_loss,val_accuracy,lr\n",
            "227/227 [==============================] - 13s 57ms/step - loss: 0.0813 - accuracy: 0.9743 - val_loss: 0.1480 - val_accuracy: 0.9650 - lr: 0.0010\n",
            "Epoch 29/40\n",
            "226/227 [============================>.] - ETA: 0s - loss: 0.0783 - accuracy: 0.9762WARNING:tensorflow:Learning rate reduction is conditioned on metric `val_dense_1_accuracy` which is not available. Available metrics are: loss,accuracy,val_loss,val_accuracy,lr\n",
            "227/227 [==============================] - 13s 57ms/step - loss: 0.0782 - accuracy: 0.9762 - val_loss: 0.1516 - val_accuracy: 0.9690 - lr: 0.0010\n",
            "Epoch 30/40\n",
            "226/227 [============================>.] - ETA: 0s - loss: 0.0785 - accuracy: 0.9753WARNING:tensorflow:Learning rate reduction is conditioned on metric `val_dense_1_accuracy` which is not available. Available metrics are: loss,accuracy,val_loss,val_accuracy,lr\n",
            "227/227 [==============================] - 13s 57ms/step - loss: 0.0784 - accuracy: 0.9753 - val_loss: 0.2160 - val_accuracy: 0.9520 - lr: 0.0010\n",
            "Epoch 31/40\n",
            "226/227 [============================>.] - ETA: 0s - loss: 0.0755 - accuracy: 0.9746WARNING:tensorflow:Learning rate reduction is conditioned on metric `val_dense_1_accuracy` which is not available. Available metrics are: loss,accuracy,val_loss,val_accuracy,lr\n",
            "227/227 [==============================] - 13s 57ms/step - loss: 0.0755 - accuracy: 0.9746 - val_loss: 0.1472 - val_accuracy: 0.9660 - lr: 0.0010\n",
            "Epoch 32/40\n",
            "226/227 [============================>.] - ETA: 0s - loss: 0.0757 - accuracy: 0.9762WARNING:tensorflow:Learning rate reduction is conditioned on metric `val_dense_1_accuracy` which is not available. Available metrics are: loss,accuracy,val_loss,val_accuracy,lr\n",
            "227/227 [==============================] - 13s 57ms/step - loss: 0.0755 - accuracy: 0.9763 - val_loss: 0.1495 - val_accuracy: 0.9670 - lr: 0.0010\n",
            "Epoch 33/40\n",
            "226/227 [============================>.] - ETA: 0s - loss: 0.0723 - accuracy: 0.9769WARNING:tensorflow:Learning rate reduction is conditioned on metric `val_dense_1_accuracy` which is not available. Available metrics are: loss,accuracy,val_loss,val_accuracy,lr\n",
            "227/227 [==============================] - 13s 57ms/step - loss: 0.0721 - accuracy: 0.9769 - val_loss: 0.2030 - val_accuracy: 0.9470 - lr: 0.0010\n",
            "Epoch 34/40\n",
            "226/227 [============================>.] - ETA: 0s - loss: 0.0728 - accuracy: 0.9773WARNING:tensorflow:Learning rate reduction is conditioned on metric `val_dense_1_accuracy` which is not available. Available metrics are: loss,accuracy,val_loss,val_accuracy,lr\n",
            "227/227 [==============================] - 13s 57ms/step - loss: 0.0727 - accuracy: 0.9773 - val_loss: 0.1659 - val_accuracy: 0.9670 - lr: 0.0010\n",
            "Epoch 35/40\n",
            "226/227 [============================>.] - ETA: 0s - loss: 0.0757 - accuracy: 0.9765WARNING:tensorflow:Learning rate reduction is conditioned on metric `val_dense_1_accuracy` which is not available. Available metrics are: loss,accuracy,val_loss,val_accuracy,lr\n",
            "227/227 [==============================] - 13s 57ms/step - loss: 0.0755 - accuracy: 0.9766 - val_loss: 0.1519 - val_accuracy: 0.9680 - lr: 0.0010\n",
            "Epoch 36/40\n",
            "226/227 [============================>.] - ETA: 0s - loss: 0.0685 - accuracy: 0.9789WARNING:tensorflow:Learning rate reduction is conditioned on metric `val_dense_1_accuracy` which is not available. Available metrics are: loss,accuracy,val_loss,val_accuracy,lr\n",
            "227/227 [==============================] - 13s 57ms/step - loss: 0.0684 - accuracy: 0.9790 - val_loss: 0.1839 - val_accuracy: 0.9640 - lr: 0.0010\n",
            "Epoch 37/40\n",
            "226/227 [============================>.] - ETA: 0s - loss: 0.0764 - accuracy: 0.9767WARNING:tensorflow:Learning rate reduction is conditioned on metric `val_dense_1_accuracy` which is not available. Available metrics are: loss,accuracy,val_loss,val_accuracy,lr\n",
            "227/227 [==============================] - 13s 57ms/step - loss: 0.0762 - accuracy: 0.9768 - val_loss: 0.1535 - val_accuracy: 0.9660 - lr: 0.0010\n",
            "Epoch 38/40\n",
            "226/227 [============================>.] - ETA: 0s - loss: 0.0701 - accuracy: 0.9778WARNING:tensorflow:Learning rate reduction is conditioned on metric `val_dense_1_accuracy` which is not available. Available metrics are: loss,accuracy,val_loss,val_accuracy,lr\n",
            "227/227 [==============================] - 13s 57ms/step - loss: 0.0699 - accuracy: 0.9779 - val_loss: 0.1622 - val_accuracy: 0.9650 - lr: 0.0010\n",
            "Epoch 39/40\n",
            "226/227 [============================>.] - ETA: 0s - loss: 0.0741 - accuracy: 0.9773WARNING:tensorflow:Learning rate reduction is conditioned on metric `val_dense_1_accuracy` which is not available. Available metrics are: loss,accuracy,val_loss,val_accuracy,lr\n",
            "227/227 [==============================] - 13s 57ms/step - loss: 0.0742 - accuracy: 0.9772 - val_loss: 0.1500 - val_accuracy: 0.9650 - lr: 0.0010\n",
            "Epoch 40/40\n",
            "226/227 [============================>.] - ETA: 0s - loss: 0.0640 - accuracy: 0.9790WARNING:tensorflow:Learning rate reduction is conditioned on metric `val_dense_1_accuracy` which is not available. Available metrics are: loss,accuracy,val_loss,val_accuracy,lr\n",
            "227/227 [==============================] - 13s 57ms/step - loss: 0.0639 - accuracy: 0.9791 - val_loss: 0.1611 - val_accuracy: 0.9660 - lr: 0.0010\n"
          ]
        }
      ]
    },
    {
      "cell_type": "code",
      "metadata": {
        "id": "o_ssWQrLIZeq"
      },
      "source": [
        "# # load testing data for model testing\n",
        "# x_test_data=np.array(pd.DataFrame(pd.read_csv('processed_test_set.csv')))\n",
        "\n",
        "# x_test_data=x_test_data.reshape((15000,56,56))\n",
        "\n",
        "# import matplotlib.pyplot as plt\n",
        "# import random\n",
        "\n",
        "# plt.imshow(x_test_data[random.randint(0,14999)], cmap=\"gray\")\n",
        "# plt.show()\n",
        "\n",
        "with open(\"images_test.pkl\",'rb') as f:\n",
        "  x_test_data = pickle.load(f)\n",
        "x_test = x_test_data.reshape(-1,56,56,1)\n",
        "# x_test /= 255"
      ],
      "execution_count": null,
      "outputs": []
    },
    {
      "cell_type": "code",
      "metadata": {
        "id": "ovkiYNdfIa0a"
      },
      "source": [
        "result2 = model2.predict(x_test, verbose=1)\n",
        "result2 = np.argmax(result2, axis = 1)\n",
        "print(result2[0:10])"
      ],
      "execution_count": null,
      "outputs": []
    }
  ]
}