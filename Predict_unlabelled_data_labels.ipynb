{
  "nbformat": 4,
  "nbformat_minor": 0,
  "metadata": {
    "colab": {
      "name": "Predict_unlabelled_data_labels.ipynb",
      "provenance": [],
      "collapsed_sections": []
    },
    "kernelspec": {
      "name": "python3",
      "display_name": "Python 3"
    },
    "language_info": {
      "name": "python"
    },
    "accelerator": "GPU"
  },
  "cells": [
    {
      "cell_type": "markdown",
      "metadata": {
        "id": "KxK4cab1tnKQ"
      },
      "source": [
        "Process the unlabelled data.\n",
        "</br>\n",
        "We have 2 ideas. \n",
        "</br>\n",
        "We will use multiple well-trained models and make the prediction of unlabelled data.\n",
        "\n",
        "*   We average the prediction and get the label of the unlabelled data\n",
        "*   We vote for mode after using the arguemax method and transform to the 0 and 1 vectors. Then we get the label of the unlabelled data.\n",
        "\n"
      ]
    },
    {
      "cell_type": "code",
      "metadata": {
        "colab": {
          "base_uri": "https://localhost:8080/"
        },
        "id": "GIeFb6dGqL22",
        "outputId": "7c563a94-a214-4066-acf7-d200e0bc339d"
      },
      "source": [
        "! gdown https://drive.google.com/uc?id=1AbxjCBByF-xGV3c7FJ1ztZC1HO0O0uJ0"
      ],
      "execution_count": null,
      "outputs": [
        {
          "output_type": "stream",
          "name": "stdout",
          "text": [
            "Downloading...\n",
            "From: https://drive.google.com/uc?id=1AbxjCBByF-xGV3c7FJ1ztZC1HO0O0uJ0\n",
            "To: /content/kaggle.json\n",
            "\r  0% 0.00/66.0 [00:00<?, ?B/s]\r100% 66.0/66.0 [00:00<00:00, 150kB/s]\n"
          ]
        }
      ]
    },
    {
      "cell_type": "code",
      "metadata": {
        "colab": {
          "base_uri": "https://localhost:8080/"
        },
        "id": "8qwnxDxhqRwE",
        "outputId": "11ffc43b-4e75-4bbe-8e26-44f9e0eba128"
      },
      "source": [
        "! pip install kaggle\n",
        "import os\n",
        "os.environ['KAGGLE_CONFIG_DIR'] = '/content/'\n",
        "! kaggle competitions download -c comp-551-fall-2021\n",
        "! unzip images_l.pkl.zip\n",
        "! unzip images_test.pkl.zip\n",
        "! unzip images_ul.pkl.zip\n",
        "! unzip labels_l.pkl.zip"
      ],
      "execution_count": null,
      "outputs": [
        {
          "output_type": "stream",
          "name": "stdout",
          "text": [
            "Requirement already satisfied: kaggle in /usr/local/lib/python3.7/dist-packages (1.5.12)\n",
            "Requirement already satisfied: tqdm in /usr/local/lib/python3.7/dist-packages (from kaggle) (4.62.3)\n",
            "Requirement already satisfied: python-slugify in /usr/local/lib/python3.7/dist-packages (from kaggle) (5.0.2)\n",
            "Requirement already satisfied: certifi in /usr/local/lib/python3.7/dist-packages (from kaggle) (2021.10.8)\n",
            "Requirement already satisfied: python-dateutil in /usr/local/lib/python3.7/dist-packages (from kaggle) (2.8.2)\n",
            "Requirement already satisfied: six>=1.10 in /usr/local/lib/python3.7/dist-packages (from kaggle) (1.15.0)\n",
            "Requirement already satisfied: requests in /usr/local/lib/python3.7/dist-packages (from kaggle) (2.23.0)\n",
            "Requirement already satisfied: urllib3 in /usr/local/lib/python3.7/dist-packages (from kaggle) (1.24.3)\n",
            "Requirement already satisfied: text-unidecode>=1.3 in /usr/local/lib/python3.7/dist-packages (from python-slugify->kaggle) (1.3)\n",
            "Requirement already satisfied: chardet<4,>=3.0.2 in /usr/local/lib/python3.7/dist-packages (from requests->kaggle) (3.0.4)\n",
            "Requirement already satisfied: idna<3,>=2.5 in /usr/local/lib/python3.7/dist-packages (from requests->kaggle) (2.10)\n",
            "Warning: Your Kaggle API key is readable by other users on this system! To fix this, you can run 'chmod 600 /content/kaggle.json'\n",
            "Warning: Looks like you're using an outdated API Version, please consider updating (server 1.5.12 / client 1.5.4)\n",
            "Downloading images_test.pkl.zip to /content\n",
            " 90% 89.0M/99.0M [00:00<00:00, 89.1MB/s]\n",
            "100% 99.0M/99.0M [00:01<00:00, 102MB/s] \n",
            "Downloading images_l.pkl.zip to /content\n",
            " 96% 189M/197M [00:01<00:00, 168MB/s]\n",
            "100% 197M/197M [00:01<00:00, 148MB/s]\n",
            "Downloading images_ul.pkl.zip to /content\n",
            " 97% 193M/198M [00:01<00:00, 131MB/s]\n",
            "100% 198M/198M [00:01<00:00, 118MB/s]\n",
            "Downloading labels_l.pkl.zip to /content\n",
            "  0% 0.00/141k [00:00<?, ?B/s]\n",
            "100% 141k/141k [00:00<00:00, 133MB/s]\n",
            "Archive:  images_l.pkl.zip\n",
            "  inflating: images_l.pkl            \n",
            "Archive:  images_test.pkl.zip\n",
            "  inflating: images_test.pkl         \n",
            "Archive:  images_ul.pkl.zip\n",
            "  inflating: images_ul.pkl           \n",
            "Archive:  labels_l.pkl.zip\n",
            "  inflating: labels_l.pkl            \n"
          ]
        }
      ]
    },
    {
      "cell_type": "code",
      "metadata": {
        "id": "PhU_a7fuq5PT"
      },
      "source": [
        "import io\n",
        "import cv2\n",
        "import numpy as np\n",
        "import matplotlib.pyplot as plt\n",
        "import pandas as pd\n",
        "import pickle\n",
        "from tensorflow import keras\n",
        "from tensorflow.keras.models import Sequential\n",
        "from tensorflow.keras.layers import Dense, Dropout, Flatten, Conv2D, MaxPooling2D, LeakyReLU, ZeroPadding2D,Convolution2D\n",
        "from tensorflow.keras.utils import to_categorical\n",
        "from tensorflow.keras.utils import plot_model\n",
        "from tensorflow.keras.callbacks import History\n",
        "from tensorflow.keras.optimizers import Nadam, Adam, SGD\n",
        "from keras.applications.vgg16 import VGG16\n",
        "from keras.applications.densenet import DenseNet169\n",
        "from keras.applications.resnet import ResNet152, ResNet101, ResNet50\n",
        "import matplotlib.pyplot as plt\n",
        "from keras.utils import np_utils\n",
        "from tensorflow.keras import backend as K\n",
        "from tensorflow.keras import regularizers\n",
        "from sklearn.model_selection import train_test_split\n",
        "from keras.models import Model\n",
        "from keras import layers, regularizers, Input\n",
        "from keras.layers import *\n",
        "from keras.callbacks import ReduceLROnPlateau\n",
        "from keras import optimizers\n",
        "from sklearn.preprocessing import LabelEncoder\n",
        "from sklearn.model_selection import train_test_split\n",
        "from sklearn.metrics import confusion_matrix\n",
        "from sklearn.preprocessing import OneHotEncoder\n",
        "import tensorflow as tf\n",
        "from google.colab import drive\n",
        "import h5py\n",
        "import random\n",
        "import torch"
      ],
      "execution_count": null,
      "outputs": []
    },
    {
      "cell_type": "code",
      "metadata": {
        "id": "3HtsQ-Bzq526"
      },
      "source": [
        "# Image data for training (30,000 sample, each sample is a 56x56 image)\n",
        "# train_labels = pd.read_csv('train_max_y.csv')\n",
        "# train_images = pd.read_pickle('train_max_x')\n",
        "# test_images = pd.read_pickle('test_max_x')\n",
        "with open(\"images_l.pkl\", 'rb') as f:\n",
        "    # load into as a numpy array\n",
        "    train_labelled_data = pickle.load(f)\n",
        "# Test images. The prediction corresponding to these images should be uploaded. (15,000 samples)\n",
        "with open(\"images_test.pkl\", 'rb') as f:\n",
        "    test_data = pickle.load(f)\n",
        "# Labels for training (30,000 rows, each row is a size 36 binary vector, which is the label to the corresponding image)\n",
        "with open(\"labels_l.pkl\", 'rb') as f:\n",
        "    train_labelled_y = pickle.load(f)\n",
        "# Additional images that can be used for training the classifier.\n",
        "# Labels for these images are not provided. (30,000 samples, where each sample is a 56x56 image)\n",
        "with open(\"images_ul.pkl\", 'rb') as f:\n",
        "    train_unlabelled_x = pickle.load(f)"
      ],
      "execution_count": null,
      "outputs": []
    },
    {
      "cell_type": "markdown",
      "metadata": {
        "id": "a5rjV23zrDgJ"
      },
      "source": [
        "# processing"
      ]
    },
    {
      "cell_type": "markdown",
      "metadata": {
        "id": "9YM_eF3jWWYk"
      },
      "source": [
        "load processed train data for digit prediction"
      ]
    },
    {
      "cell_type": "code",
      "metadata": {
        "colab": {
          "base_uri": "https://localhost:8080/"
        },
        "id": "SdPGXF1tq-FQ",
        "outputId": "fa6bb9be-15f7-4600-9511-c54529630a40"
      },
      "source": [
        "# load process data\n",
        "! gdown https://drive.google.com/uc?id=1wyUpGYONbWRjdaLgeiEH2ryqm_kMOMF_\n",
        "! gdown https://drive.google.com/uc?id=1tFt0ddczfNPmq8IUNnZ8ifGUbgzP9DxU\n",
        "! gdown https://drive.google.com/uc?id=1bOq70mP5ghxfiFtbK3rTbPDcefkxgyQx"
      ],
      "execution_count": null,
      "outputs": [
        {
          "output_type": "stream",
          "name": "stdout",
          "text": [
            "Downloading...\n",
            "From: https://drive.google.com/uc?id=1wyUpGYONbWRjdaLgeiEH2ryqm_kMOMF_\n",
            "To: /content/processed_train_set.csv\n",
            "100% 386M/386M [00:02<00:00, 179MB/s]\n",
            "Downloading...\n",
            "From: https://drive.google.com/uc?id=1tFt0ddczfNPmq8IUNnZ8ifGUbgzP9DxU\n",
            "To: /content/processed_test_set.csv\n",
            "100% 193M/193M [00:01<00:00, 176MB/s]\n",
            "Downloading...\n",
            "From: https://drive.google.com/uc?id=1bOq70mP5ghxfiFtbK3rTbPDcefkxgyQx\n",
            "To: /content/processed_ul_train_set.csv\n",
            "100% 386M/386M [00:02<00:00, 174MB/s]\n"
          ]
        }
      ]
    },
    {
      "cell_type": "markdown",
      "metadata": {
        "id": "vHa7uk0cWcuO"
      },
      "source": [
        "Load best performance models"
      ]
    },
    {
      "cell_type": "code",
      "metadata": {
        "colab": {
          "base_uri": "https://localhost:8080/"
        },
        "id": "rlbXaqlJoOhU",
        "outputId": "3a7b73f4-d74b-478a-e5a1-11b3097074b1"
      },
      "source": [
        "# load models\n",
        "! gdown https://drive.google.com/uc?id=1gpLzFm3QW1q__KMAg4QWe2pqVveAmd_y\n",
        "! gdown https://drive.google.com/uc?id=1DLNI6xb1SNEFMcEcNgJb_q0WYR5OlKi2\n",
        "! gdown https://drive.google.com/uc?id=1VFcPDEt_Ges0eJ7FB9iKoWV4goSMGqk2\n",
        "! gdown https://drive.google.com/uc?id=1p_etGMx0I57VG6SGR_XBp3y153gNLHNR\n",
        "! gdown https://drive.google.com/uc?id=1nO0-eQyOBKSe-VqK3jwQ6iCFy-tkf6xK\n",
        "\n",
        "! gdown https://drive.google.com/uc?id=1YKExD85CaznZqjKOYPc3of08iCdMrUtz\n",
        "! gdown https://drive.google.com/uc?id=186i8-O8q07Q2CrEz7O2GXaj9Yz9NKXwC\n",
        "! gdown https://drive.google.com/uc?id=1-IIib1GFCDFYvtvCoME98P8VszmC9yQT\n",
        "! gdown https://drive.google.com/uc?id=1ZdqmrMxnCz6NbJkYd5DfmGdQ_34t7A95\n",
        "! gdown https://drive.google.com/uc?id=1cjlv8lHW1PtPdrS6S9-Myb0zaCrLzl8v\n"
      ],
      "execution_count": null,
      "outputs": [
        {
          "output_type": "stream",
          "name": "stdout",
          "text": [
            "Downloading...\n",
            "From: https://drive.google.com/uc?id=1gpLzFm3QW1q__KMAg4QWe2pqVveAmd_y\n",
            "To: /content/VGG_valid_95.8.pkl\n",
            "100% 61.4M/61.4M [00:00<00:00, 195MB/s]\n",
            "Downloading...\n",
            "From: https://drive.google.com/uc?id=1DLNI6xb1SNEFMcEcNgJb_q0WYR5OlKi2\n",
            "To: /content/VGG_valid_95.5.pkl\n",
            "100% 61.4M/61.4M [00:00<00:00, 169MB/s]\n",
            "Downloading...\n",
            "From: https://drive.google.com/uc?id=1VFcPDEt_Ges0eJ7FB9iKoWV4goSMGqk2\n",
            "To: /content/VGG_valid_94.8.pkl\n",
            "100% 61.4M/61.4M [00:00<00:00, 167MB/s]\n",
            "Downloading...\n",
            "From: https://drive.google.com/uc?id=1p_etGMx0I57VG6SGR_XBp3y153gNLHNR\n",
            "To: /content/VGG_valid_95.4.pkl\n",
            "100% 61.4M/61.4M [00:00<00:00, 160MB/s]\n",
            "Downloading...\n",
            "From: https://drive.google.com/uc?id=1nO0-eQyOBKSe-VqK3jwQ6iCFy-tkf6xK\n",
            "To: /content/model1.pkl\n",
            "100% 183M/183M [00:01<00:00, 151MB/s]\n",
            "Downloading...\n",
            "From: https://drive.google.com/uc?id=1YKExD85CaznZqjKOYPc3of08iCdMrUtz\n",
            "To: /content/wmy_valid_97.9_1.pkl\n",
            "100% 76.0M/76.0M [00:00<00:00, 92.6MB/s]\n",
            "Downloading...\n",
            "From: https://drive.google.com/uc?id=186i8-O8q07Q2CrEz7O2GXaj9Yz9NKXwC\n",
            "To: /content/wmy_valid_97.9.pkl\n",
            "100% 76.0M/76.0M [00:00<00:00, 160MB/s] \n",
            "Downloading...\n",
            "From: https://drive.google.com/uc?id=1-IIib1GFCDFYvtvCoME98P8VszmC9yQT\n",
            "To: /content/wmy_valid_97.5.pkl\n",
            "100% 76.0M/76.0M [00:02<00:00, 32.7MB/s]\n",
            "Downloading...\n",
            "From: https://drive.google.com/uc?id=1ZdqmrMxnCz6NbJkYd5DfmGdQ_34t7A95\n",
            "To: /content/wmy_valid_97.3.pkl\n",
            "100% 76.0M/76.0M [00:00<00:00, 148MB/s] \n",
            "Downloading...\n",
            "From: https://drive.google.com/uc?id=1cjlv8lHW1PtPdrS6S9-Myb0zaCrLzl8v\n",
            "To: /content/model2.pkl\n",
            "100% 76.0M/76.0M [00:00<00:00, 145MB/s] \n"
          ]
        }
      ]
    },
    {
      "cell_type": "code",
      "metadata": {
        "id": "MwKU6x5ntYuZ"
      },
      "source": [
        "model1_1 = pickle.load(open(\"VGG_valid_95.8.pkl\", 'rb'))\n",
        "model1_2 = pickle.load(open(\"VGG_valid_94.8.pkl\", 'rb'))\n",
        "model1_3 = pickle.load(open(\"VGG_valid_95.4.pkl\", 'rb'))\n",
        "model1_4 = pickle.load(open(\"VGG_valid_95.5.pkl\", 'rb'))\n",
        "model1_5 = pickle.load(open(\"model1.pkl\", 'rb'))\n",
        "\n",
        "model2_1 = pickle.load(open(\"model2_valid_97.9.pkl\", 'rb'))\n",
        "model2_2 = pickle.load(open(\"model2_valid_97.9_1.pkl\", 'rb'))\n",
        "model2_3 = pickle.load(open(\"model2_valid_97.3.pkl\", 'rb'))\n",
        "model2_4 = pickle.load(open(\"model2_valid_97.5.pkl\", 'rb'))\n",
        "model2_5 = pickle.load(open(\"model2.pkl\", 'rb'))"
      ],
      "execution_count": null,
      "outputs": []
    },
    {
      "cell_type": "markdown",
      "metadata": {
        "id": "qqYKfjU2rHUF"
      },
      "source": [
        "# digit"
      ]
    },
    {
      "cell_type": "markdown",
      "metadata": {
        "id": "P1-Fo5qZXipb"
      },
      "source": [
        "Load processed unlabelled data"
      ]
    },
    {
      "cell_type": "code",
      "metadata": {
        "id": "ga3qgdNRCdGn"
      },
      "source": [
        "# load unlabelled data for model testing\n",
        "x_test=np.array(pd.DataFrame(pd.read_csv('processed_ul_train_set.csv')))\n",
        "\n",
        "x_test=x_test.reshape((30000,56,56))\n",
        "# np.random.shuffle(x_test)\n",
        "x_test=x_test[12000:15000]\n",
        "\n",
        "# with open(\"images_test.pkl\",'rb') as f:\n",
        "#   x_test = pickle.load(f)\n",
        "for i in range(x_test.shape[0]):\n",
        "  x_test[i] = (x_test[i]>200).astype('int32')*255\n",
        "x_test = torch.Tensor(x_test)\n",
        "x_test = torch.unsqueeze(x_test,dim=3)/255\n",
        "x_test = x_test.repeat(1,1,1,3)\n",
        "x_test = x_test.numpy()\n",
        "x_test = x_test.astype('float32')"
      ],
      "execution_count": null,
      "outputs": []
    },
    {
      "cell_type": "code",
      "metadata": {
        "colab": {
          "base_uri": "https://localhost:8080/"
        },
        "id": "3x4KZ1GxvUY6",
        "outputId": "27158951-73b5-47fb-dc1d-f0b3a970e637"
      },
      "source": [
        "result_1 = model1_1.predict(x_test,verbose=1)\n",
        "result_2 = model1_2.predict(x_test,verbose=1)\n",
        "result_3 = model1_3.predict(x_test,verbose=1)\n",
        "result_4 = model1_4.predict(x_test,verbose=1)\n",
        "result_5 = model1_5.predict(x_test,verbose=1)"
      ],
      "execution_count": null,
      "outputs": [
        {
          "output_type": "stream",
          "name": "stdout",
          "text": [
            "94/94 [==============================] - 1s 9ms/step\n",
            "94/94 [==============================] - 1s 9ms/step\n",
            "94/94 [==============================] - 1s 9ms/step\n",
            "94/94 [==============================] - 1s 9ms/step\n",
            "94/94 [==============================] - 1s 9ms/step\n"
          ]
        }
      ]
    },
    {
      "cell_type": "code",
      "metadata": {
        "colab": {
          "base_uri": "https://localhost:8080/"
        },
        "id": "A5P27enKxxSu",
        "outputId": "2ed1b1f0-8342-4cbc-f46f-2d1b48ff4297"
      },
      "source": [
        "# averaging\n",
        "result = np.zeros((3000,10))\n",
        "for i in range (0,result_1.shape[0]):\n",
        "  for j in range (0,result_1.shape[1]):\n",
        "    result[i][j] = (result_1[i][j] + result_2[i][j] + result_3[i][j] + result_4[i][j] + result_5[i][j])/5\n",
        "\n",
        "result = np.argmax(result, axis = 1)\n",
        "print(result[0:10])"
      ],
      "execution_count": null,
      "outputs": [
        {
          "output_type": "stream",
          "name": "stdout",
          "text": [
            "[2 0 0 1 4 5 3 4 1 2]\n"
          ]
        }
      ]
    },
    {
      "cell_type": "code",
      "metadata": {
        "colab": {
          "base_uri": "https://localhost:8080/"
        },
        "id": "SFY99Q6l5BiK",
        "outputId": "9ca7eaf3-0ef1-4c8b-ccbe-6d892f957072"
      },
      "source": [
        "# mode\n",
        "result_1 = np.argmax(result_1, axis = 1)\n",
        "result_2 = np.argmax(result_2, axis = 1)\n",
        "result_3 = np.argmax(result_3, axis = 1)\n",
        "result_4 = np.argmax(result_4, axis = 1)\n",
        "result_5 = np.argmax(result_5, axis = 1)\n",
        "\n",
        "print(result_1[0:10])\n",
        "print(result_2[0:10])\n",
        "print(result_3[0:10])\n",
        "print(result_4[0:10])\n",
        "print(result_5[0:10])"
      ],
      "execution_count": null,
      "outputs": [
        {
          "output_type": "stream",
          "name": "stdout",
          "text": [
            "[5 3 6 4 9 9 0 9 2 5]\n",
            "[5 3 6 4 9 6 0 9 2 3]\n",
            "[5 3 6 4 9 6 0 9 2 9]\n",
            "[5 3 6 4 9 9 0 9 2 3]\n",
            "[5 3 6 4 9 9 0 9 2 9]\n"
          ]
        }
      ]
    },
    {
      "cell_type": "code",
      "metadata": {
        "colab": {
          "base_uri": "https://localhost:8080/"
        },
        "id": "XHloQ2uN5xrA",
        "outputId": "2641314e-41df-4e0d-98a5-0611eb91e6db"
      },
      "source": [
        "from scipy import stats\n",
        "result = np.zeros(15000)\n",
        "for i in range (result_1.shape[0]):\n",
        "  array = np.array([result_1[i],result_2[i],result_3[i],result_4[i],result_5[i]])\n",
        "  mode = stats.mode(array)\n",
        "  result[i]=mode[0][0]\n",
        "result = result.astype(int)\n",
        "print(result[0:10])"
      ],
      "execution_count": null,
      "outputs": [
        {
          "output_type": "stream",
          "name": "stdout",
          "text": [
            "[0 4 9 0 6 9 3 2 1 6]\n"
          ]
        }
      ]
    },
    {
      "cell_type": "markdown",
      "metadata": {
        "id": "yTejsbwerxhL"
      },
      "source": [
        "# letter"
      ]
    },
    {
      "cell_type": "markdown",
      "metadata": {
        "id": "hUmPT1ypXpv7"
      },
      "source": [
        "Since model2 for letter prediction is not noise sensitive, so we do not need the processed unlabelled train set. "
      ]
    },
    {
      "cell_type": "code",
      "metadata": {
        "id": "MYIzx3KhEXD4"
      },
      "source": [
        "with open(\"images_ul.pkl\", 'rb') as f:\n",
        "    train_unlabelled_x = pickle.load(f)\n",
        "x_test = x_test_data.reshape(-1,56,56,1)\n",
        "# np.random.shuffle(x_test)\n",
        "# x_test /= 255\n",
        "x_test = x_test[12000:15000]"
      ],
      "execution_count": null,
      "outputs": []
    },
    {
      "cell_type": "code",
      "metadata": {
        "id": "ZV4ESIcJv4lo"
      },
      "source": [
        "result2 = model2.predict(x_test, verbose=1)\n",
        "result2 = np.argmax(result2, axis = 1)\n",
        "print(result2[0:10])"
      ],
      "execution_count": null,
      "outputs": []
    },
    {
      "cell_type": "code",
      "metadata": {
        "colab": {
          "base_uri": "https://localhost:8080/"
        },
        "id": "EOfjxAmCyKSm",
        "outputId": "8b1bff82-6387-446f-a483-82921555d3c9"
      },
      "source": [
        "result2_1 = model2_1.predict(x_test,verbose=1)\n",
        "result2_2 = model2_2.predict(x_test,verbose=1)\n",
        "result2_3 = model2_3.predict(x_test,verbose=1)\n",
        "result2_4 = model2_4.predict(x_test,verbose=1)\n",
        "result2_5 = model2_5.predict(x_test,verbose=1)"
      ],
      "execution_count": null,
      "outputs": [
        {
          "output_type": "stream",
          "name": "stdout",
          "text": [
            "94/94 [==============================] - 1s 6ms/step\n",
            "94/94 [==============================] - 1s 6ms/step\n",
            "94/94 [==============================] - 1s 6ms/step\n",
            "94/94 [==============================] - 1s 6ms/step\n",
            "94/94 [==============================] - 1s 6ms/step\n"
          ]
        }
      ]
    },
    {
      "cell_type": "code",
      "metadata": {
        "colab": {
          "base_uri": "https://localhost:8080/"
        },
        "id": "I_cEOOM0yR41",
        "outputId": "62171e4e-b091-44f0-9479-6952a8610c2f"
      },
      "source": [
        "# averaging\n",
        "result2 = np.zeros((3000,26))\n",
        "for i in range (0,result2_1.shape[0]):\n",
        "  for j in range (0,result2_1.shape[1]):\n",
        "    result2[i][j] = (result2_1[i][j] + result2_2[i][j] + result2_3[i][j] + result2_4[i][j]+ result2_5[i][j])/5\n",
        "\n",
        "result2 = np.argmax(result2, axis = 1)\n",
        "print(result2[0:10])"
      ],
      "execution_count": null,
      "outputs": [
        {
          "output_type": "stream",
          "name": "stdout",
          "text": [
            "[ 6 18  9 13 20  0 11 17 22  5]\n"
          ]
        }
      ]
    },
    {
      "cell_type": "code",
      "metadata": {
        "colab": {
          "base_uri": "https://localhost:8080/"
        },
        "id": "5c-LF8ghAd9L",
        "outputId": "db284ff6-c11c-4883-959a-371043849e95"
      },
      "source": [
        "# mode\n",
        "result2_1 = np.argmax(result2_1, axis = 1)\n",
        "result2_2 = np.argmax(result2_2, axis = 1)\n",
        "result2_3 = np.argmax(result2_3, axis = 1)\n",
        "result2_4 = np.argmax(result2_4, axis = 1)\n",
        "result2_5 = np.argmax(result2_5, axis = 1)\n",
        "\n",
        "print(result2_1[0:10])\n",
        "print(result2_2[0:10])\n",
        "print(result2_3[0:10])\n",
        "print(result2_4[0:10])\n",
        "print(result2_5[0:10])\n",
        "\n",
        "from scipy import stats\n",
        "result2 = np.zeros(15000)\n",
        "for i in range (result2_1.shape[0]):\n",
        "  array = np.array([result2_1[i],result2_2[i],result2_3[i],result2_4[i],result2_5[i]])\n",
        "  mode = stats.mode(array)\n",
        "  result2[i]=mode[0][0]\n",
        "result2 = result2.astype(int)\n",
        "print(result2[0:10])\n"
      ],
      "execution_count": null,
      "outputs": [
        {
          "output_type": "stream",
          "name": "stdout",
          "text": [
            "[19 11  9 11  9 24 14 18 22  6]\n",
            "[19 11  9 11  9 24 14 18 22  6]\n",
            "[19 11  9 11  9 24 14 18 22  6]\n",
            "[19 11  9 11  9 24 14 18 22  6]\n",
            "[19  7  9 11  9 24 14 18 22  6]\n",
            "[19 11  9 11  9 24 14 18 22  6]\n"
          ]
        }
      ]
    },
    {
      "cell_type": "markdown",
      "metadata": {
        "id": "ZKp6fHOrX8PH"
      },
      "source": [
        "# output"
      ]
    },
    {
      "cell_type": "markdown",
      "metadata": {
        "id": "wfEb2IsmX-wA"
      },
      "source": [
        "We want to output a csv that contains number of records of size of unlabelled set, and each record is a 36 dimension vector constitute by 0s and 1s."
      ]
    },
    {
      "cell_type": "code",
      "metadata": {
        "colab": {
          "base_uri": "https://localhost:8080/"
        },
        "id": "3QudwnP9FTUr",
        "outputId": "313188b9-2f1f-4299-d7c5-a7532daadd87"
      },
      "source": [
        "def transform_digit(num):\n",
        "    temp_list = np.zeros(10)\n",
        "    temp_list[num] = 1\n",
        "    temp_list = temp_list.astype(int)\n",
        "    return temp_list\n",
        "\n",
        "\n",
        "# tranform 0-25 number to 26-bit string with the index at the num value to be 1\n",
        "def transform_letter(num):\n",
        "    temp_list = np.zeros(26)\n",
        "    temp_list[num] = 1\n",
        "    temp_list = temp_list.astype(int)\n",
        "    return temp_list\n",
        "\n",
        "label_prediction = np.zeros((3000,36))\n",
        "for i in range (0,3000):\n",
        "    a=transform_digit(result[i])\n",
        "    b=transform_letter(result2[i])\n",
        "    label_prediction[i] = np.concatenate((a, b), axis=0)\n",
        "label_prediction= label_prediction.astype(int)\n",
        "print(label_prediction[0:10])\n",
        "print(label_prediction.shape)\n",
        "pd.DataFrame(label_prediction).to_csv('ul_train_label.csv',index=False)"
      ],
      "execution_count": null,
      "outputs": [
        {
          "output_type": "stream",
          "name": "stdout",
          "text": [
            "[[0 0 1 0 0 0 0 0 0 0 0 0 0 0 0 0 1 0 0 0 0 0 0 0 0 0 0 0 0 0 0 0 0 0 0 0]\n",
            " [1 0 0 0 0 0 0 0 0 0 0 0 0 0 0 0 0 0 0 0 0 0 0 0 0 0 0 0 1 0 0 0 0 0 0 0]\n",
            " [1 0 0 0 0 0 0 0 0 0 0 0 0 0 0 0 0 0 0 1 0 0 0 0 0 0 0 0 0 0 0 0 0 0 0 0]\n",
            " [0 1 0 0 0 0 0 0 0 0 0 0 0 0 0 0 0 0 0 0 0 0 0 1 0 0 0 0 0 0 0 0 0 0 0 0]\n",
            " [0 0 0 0 1 0 0 0 0 0 0 0 0 0 0 0 0 0 0 0 0 0 0 0 0 0 0 0 0 0 1 0 0 0 0 0]\n",
            " [0 0 0 0 0 1 0 0 0 0 1 0 0 0 0 0 0 0 0 0 0 0 0 0 0 0 0 0 0 0 0 0 0 0 0 0]\n",
            " [0 0 0 1 0 0 0 0 0 0 0 0 0 0 0 0 0 0 0 0 0 1 0 0 0 0 0 0 0 0 0 0 0 0 0 0]\n",
            " [0 0 0 0 1 0 0 0 0 0 0 0 0 0 0 0 0 0 0 0 0 0 0 0 0 0 0 1 0 0 0 0 0 0 0 0]\n",
            " [0 1 0 0 0 0 0 0 0 0 0 0 0 0 0 0 0 0 0 0 0 0 0 0 0 0 0 0 0 0 0 0 1 0 0 0]\n",
            " [0 0 1 0 0 0 0 0 0 0 0 0 0 0 0 1 0 0 0 0 0 0 0 0 0 0 0 0 0 0 0 0 0 0 0 0]]\n",
            "(3000, 36)\n"
          ]
        }
      ]
    }
  ]
}