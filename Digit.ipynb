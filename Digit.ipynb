{
  "nbformat": 4,
  "nbformat_minor": 0,
  "metadata": {
    "colab": {
      "name": "Digit.ipynb",
      "provenance": []
    },
    "kernelspec": {
      "name": "python3",
      "display_name": "Python 3"
    },
    "language_info": {
      "name": "python"
    },
    "accelerator": "GPU"
  },
  "cells": [
    {
      "cell_type": "markdown",
      "metadata": {
        "id": "4uZef8P4HDcZ"
      },
      "source": [
        "Comp-551 A3 \n",
        "</br>\n",
        "We divided the prediction of handwritten digits and letters into two parts. Here is the digit prediction."
      ]
    },
    {
      "cell_type": "code",
      "metadata": {
        "colab": {
          "base_uri": "https://localhost:8080/"
        },
        "id": "gy2uaOajFtFp",
        "outputId": "23add40f-7cec-4fd5-fd14-4591434164ac"
      },
      "source": [
        "! gdown https://drive.google.com/uc?id=1AbxjCBByF-xGV3c7FJ1ztZC1HO0O0uJ0"
      ],
      "execution_count": 1,
      "outputs": [
        {
          "output_type": "stream",
          "name": "stdout",
          "text": [
            "Downloading...\n",
            "From: https://drive.google.com/uc?id=1AbxjCBByF-xGV3c7FJ1ztZC1HO0O0uJ0\n",
            "To: /content/kaggle.json\n",
            "\r  0% 0.00/66.0 [00:00<?, ?B/s]\r100% 66.0/66.0 [00:00<00:00, 60.5kB/s]\n"
          ]
        }
      ]
    },
    {
      "cell_type": "code",
      "metadata": {
        "colab": {
          "base_uri": "https://localhost:8080/"
        },
        "id": "HRNGEY0ZF1R6",
        "outputId": "9af0d6ed-7cf7-4bfa-ddbd-0836de42b0b0"
      },
      "source": [
        "! pip install kaggle\n",
        "import os\n",
        "os.environ['KAGGLE_CONFIG_DIR'] = '/content/'\n",
        "! kaggle competitions download -c comp-551-fall-2021\n",
        "! unzip images_l.pkl.zip\n",
        "! unzip images_test.pkl.zip\n",
        "! unzip images_ul.pkl.zip\n",
        "! unzip labels_l.pkl.zip"
      ],
      "execution_count": 2,
      "outputs": [
        {
          "output_type": "stream",
          "name": "stdout",
          "text": [
            "Requirement already satisfied: kaggle in /usr/local/lib/python3.7/dist-packages (1.5.12)\n",
            "Requirement already satisfied: tqdm in /usr/local/lib/python3.7/dist-packages (from kaggle) (4.62.3)\n",
            "Requirement already satisfied: python-dateutil in /usr/local/lib/python3.7/dist-packages (from kaggle) (2.8.2)\n",
            "Requirement already satisfied: urllib3 in /usr/local/lib/python3.7/dist-packages (from kaggle) (1.24.3)\n",
            "Requirement already satisfied: python-slugify in /usr/local/lib/python3.7/dist-packages (from kaggle) (5.0.2)\n",
            "Requirement already satisfied: requests in /usr/local/lib/python3.7/dist-packages (from kaggle) (2.23.0)\n",
            "Requirement already satisfied: certifi in /usr/local/lib/python3.7/dist-packages (from kaggle) (2021.10.8)\n",
            "Requirement already satisfied: six>=1.10 in /usr/local/lib/python3.7/dist-packages (from kaggle) (1.15.0)\n",
            "Requirement already satisfied: text-unidecode>=1.3 in /usr/local/lib/python3.7/dist-packages (from python-slugify->kaggle) (1.3)\n",
            "Requirement already satisfied: chardet<4,>=3.0.2 in /usr/local/lib/python3.7/dist-packages (from requests->kaggle) (3.0.4)\n",
            "Requirement already satisfied: idna<3,>=2.5 in /usr/local/lib/python3.7/dist-packages (from requests->kaggle) (2.10)\n",
            "Warning: Your Kaggle API key is readable by other users on this system! To fix this, you can run 'chmod 600 /content/kaggle.json'\n",
            "Warning: Looks like you're using an outdated API Version, please consider updating (server 1.5.12 / client 1.5.4)\n",
            "Downloading images_l.pkl.zip to /content\n",
            " 91% 178M/197M [00:01<00:00, 109MB/s] \n",
            "100% 197M/197M [00:01<00:00, 117MB/s]\n",
            "Downloading images_ul.pkl.zip to /content\n",
            " 95% 189M/198M [00:01<00:00, 105MB/s]\n",
            "100% 198M/198M [00:01<00:00, 109MB/s]\n",
            "Downloading labels_l.pkl.zip to /content\n",
            "  0% 0.00/141k [00:00<?, ?B/s]\n",
            "100% 141k/141k [00:00<00:00, 128MB/s]\n",
            "Downloading images_test.pkl.zip to /content\n",
            " 94% 93.0M/99.0M [00:00<00:00, 92.1MB/s]\n",
            "100% 99.0M/99.0M [00:00<00:00, 119MB/s] \n",
            "Archive:  images_l.pkl.zip\n",
            "  inflating: images_l.pkl            \n",
            "Archive:  images_test.pkl.zip\n",
            "  inflating: images_test.pkl         \n",
            "Archive:  images_ul.pkl.zip\n",
            "  inflating: images_ul.pkl           \n",
            "Archive:  labels_l.pkl.zip\n",
            "  inflating: labels_l.pkl            \n"
          ]
        }
      ]
    },
    {
      "cell_type": "code",
      "metadata": {
        "id": "p_LtC1LZF6-I"
      },
      "source": [
        "import io\n",
        "import cv2\n",
        "import numpy as np\n",
        "import matplotlib.pyplot as plt\n",
        "import pandas as pd\n",
        "import pickle\n",
        "from tensorflow import keras\n",
        "from tensorflow.keras.models import Sequential\n",
        "from tensorflow.keras.layers import Dense, Dropout, Flatten, Conv2D, MaxPooling2D, LeakyReLU, ZeroPadding2D,Convolution2D\n",
        "from tensorflow.keras.utils import to_categorical\n",
        "from tensorflow.keras.utils import plot_model\n",
        "from tensorflow.keras.callbacks import History\n",
        "from tensorflow.keras.optimizers import Nadam, Adam, SGD\n",
        "from keras.applications.vgg16 import VGG16\n",
        "from keras.applications.densenet import DenseNet169\n",
        "from keras.applications.resnet import ResNet152, ResNet101, ResNet50\n",
        "import matplotlib.pyplot as plt\n",
        "from keras.utils import np_utils\n",
        "from tensorflow.keras import backend as K\n",
        "from tensorflow.keras import regularizers\n",
        "\n",
        "from sklearn.preprocessing import LabelEncoder\n",
        "from sklearn.model_selection import train_test_split\n",
        "from sklearn.metrics import confusion_matrix\n",
        "from sklearn.preprocessing import OneHotEncoder\n",
        "\n",
        "import tensorflow as tf\n",
        "from google.colab import drive\n",
        "import numpy as np\n",
        "import h5py\n",
        "from sklearn.model_selection import train_test_split\n",
        "from keras.models import Model\n",
        "from keras import layers, regularizers, Input\n",
        "from keras.layers import *\n",
        "from keras.callbacks import ReduceLROnPlateau\n",
        "from keras import optimizers"
      ],
      "execution_count": 3,
      "outputs": []
    },
    {
      "cell_type": "code",
      "metadata": {
        "id": "lYb1uXkNGTJb"
      },
      "source": [
        "# Image data for training (30,000 sample, each sample is a 56x56 image)\n",
        "# train_labels = pd.read_csv('train_max_y.csv')\n",
        "# train_images = pd.read_pickle('train_max_x')\n",
        "# test_images = pd.read_pickle('test_max_x')\n",
        "with open(\"images_l.pkl\", 'rb') as f:\n",
        "    # load into as a numpy array\n",
        "    train_labelled_data = pickle.load(f)\n",
        "# Test images. The prediction corresponding to these images should be uploaded. (15,000 samples)\n",
        "with open(\"images_test.pkl\", 'rb') as f:\n",
        "    test_data = pickle.load(f)\n",
        "# Labels for training (30,000 rows, each row is a size 36 binary vector, which is the label to the corresponding image)\n",
        "with open(\"labels_l.pkl\", 'rb') as f:\n",
        "    train_labelled_y = pickle.load(f)\n",
        "# Additional images that can be used for training the classifier.\n",
        "# Labels for these images are not provided. (30,000 samples, where each sample is a 56x56 image)\n",
        "with open(\"images_ul.pkl\", 'rb') as f:\n",
        "    train_unlabelled_x = pickle.load(f)"
      ],
      "execution_count": 4,
      "outputs": []
    },
    {
      "cell_type": "markdown",
      "metadata": {
        "id": "lt2l_FcjGdHZ"
      },
      "source": [
        "# processing "
      ]
    },
    {
      "cell_type": "code",
      "metadata": {
        "colab": {
          "base_uri": "https://localhost:8080/"
        },
        "id": "CxTIRHH-Nk4U",
        "outputId": "5f074f9a-767e-493f-a329-2cff3e163204"
      },
      "source": [
        "# load already process train, test, unlabel with prediction data\n",
        "! gdown https://drive.google.com/uc?id=1wyUpGYONbWRjdaLgeiEH2ryqm_kMOMF_\n",
        "! gdown https://drive.google.com/uc?id=1tFt0ddczfNPmq8IUNnZ8ifGUbgzP9DxU\n",
        "! gdown https://drive.google.com/uc?id=1bOq70mP5ghxfiFtbK3rTbPDcefkxgyQx\n",
        "! gdown https://drive.google.com/uc?id=1oSJM0BtYu_hiJ7mkSNphJLAmBVnznO4o"
      ],
      "execution_count": 5,
      "outputs": [
        {
          "output_type": "stream",
          "name": "stdout",
          "text": [
            "Downloading...\n",
            "From: https://drive.google.com/uc?id=1wyUpGYONbWRjdaLgeiEH2ryqm_kMOMF_\n",
            "To: /content/processed_train_set.csv\n",
            "100% 386M/386M [00:01<00:00, 223MB/s]\n",
            "Downloading...\n",
            "From: https://drive.google.com/uc?id=1tFt0ddczfNPmq8IUNnZ8ifGUbgzP9DxU\n",
            "To: /content/processed_test_set.csv\n",
            "100% 193M/193M [00:00<00:00, 221MB/s]\n",
            "Downloading...\n",
            "From: https://drive.google.com/uc?id=1bOq70mP5ghxfiFtbK3rTbPDcefkxgyQx\n",
            "To: /content/processed_ul_train_set.csv\n",
            "100% 386M/386M [00:01<00:00, 220MB/s]\n",
            "Downloading...\n",
            "From: https://drive.google.com/uc?id=1oSJM0BtYu_hiJ7mkSNphJLAmBVnznO4o\n",
            "To: /content/ul_train_label.csv\n",
            "100% 216k/216k [00:00<00:00, 34.1MB/s]\n"
          ]
        }
      ]
    },
    {
      "cell_type": "markdown",
      "metadata": {
        "id": "2qsFGr9hGr6E"
      },
      "source": [
        "# Digit"
      ]
    },
    {
      "cell_type": "markdown",
      "metadata": {
        "id": "GxUQRoNCMMf-"
      },
      "source": [
        "We build the model1 based on VGG to predict the digits."
      ]
    },
    {
      "cell_type": "code",
      "metadata": {
        "colab": {
          "base_uri": "https://localhost:8080/"
        },
        "id": "45OWXUoOGq-C",
        "outputId": "ef9e5fad-3d91-46a2-cf05-4d5fd16da643"
      },
      "source": [
        "def cnn():\n",
        "    # create model\n",
        "    model = Sequential()\n",
        "    vgg16 =  VGG16(weights='imagenet', include_top=False, input_shape=(56,56,3))\n",
        "    model.add(vgg16)\n",
        "    \n",
        "    model.add(Flatten())\n",
        "    model.add(Dense(512, activation='relu'))\n",
        "    model.add(BatchNormalization())\n",
        "    model.add(Dropout(0.25))\n",
        "\n",
        "    model.add(Dense(10, activation='softmax'))\n",
        "\n",
        "    model.compile(loss='categorical_crossentropy',optimizer=keras.optimizers.Adam(lr=0.0001),metrics=['accuracy'])\n",
        "    # model.compile(loss='categorical_crossentropy',optimizer=keras.optimizers.RMSprop(lr=0.0001),metrics=['accuracy'])\n",
        "    # Compile\n",
        "    #model.compile(loss='categorical_crossentropy', optimizer='adam', metrics=['accuracy'])\n",
        "    return model\n",
        "\n",
        "model = cnn()\n",
        "model.summary() "
      ],
      "execution_count": 6,
      "outputs": [
        {
          "output_type": "stream",
          "name": "stdout",
          "text": [
            "Downloading data from https://storage.googleapis.com/tensorflow/keras-applications/vgg16/vgg16_weights_tf_dim_ordering_tf_kernels_notop.h5\n",
            "58892288/58889256 [==============================] - 0s 0us/step\n",
            "58900480/58889256 [==============================] - 0s 0us/step\n",
            "Model: \"sequential\"\n",
            "_________________________________________________________________\n",
            " Layer (type)                Output Shape              Param #   \n",
            "=================================================================\n",
            " vgg16 (Functional)          (None, 1, 1, 512)         14714688  \n",
            "                                                                 \n",
            " flatten (Flatten)           (None, 512)               0         \n",
            "                                                                 \n",
            " dense (Dense)               (None, 512)               262656    \n",
            "                                                                 \n",
            " batch_normalization (BatchN  (None, 512)              2048      \n",
            " ormalization)                                                   \n",
            "                                                                 \n",
            " dropout (Dropout)           (None, 512)               0         \n",
            "                                                                 \n",
            " dense_1 (Dense)             (None, 10)                5130      \n",
            "                                                                 \n",
            "=================================================================\n",
            "Total params: 14,984,522\n",
            "Trainable params: 14,983,498\n",
            "Non-trainable params: 1,024\n",
            "_________________________________________________________________\n"
          ]
        },
        {
          "output_type": "stream",
          "name": "stderr",
          "text": [
            "/usr/local/lib/python3.7/dist-packages/keras/optimizer_v2/adam.py:105: UserWarning: The `lr` argument is deprecated, use `learning_rate` instead.\n",
            "  super(Adam, self).__init__(name, **kwargs)\n"
          ]
        }
      ]
    },
    {
      "cell_type": "markdown",
      "metadata": {
        "id": "uKudBytYMTw6"
      },
      "source": [
        "We use the clear_noise train dataset since our model1 is noise sensitive."
      ]
    },
    {
      "cell_type": "code",
      "metadata": {
        "id": "psBYjb9FGwSK"
      },
      "source": [
        "train_labelled_x=np.array(pd.DataFrame(pd.read_csv('processed_train_set.csv')))\n",
        "train_labelled_x=train_labelled_x.reshape((30000,56,56))"
      ],
      "execution_count": 7,
      "outputs": []
    },
    {
      "cell_type": "markdown",
      "metadata": {
        "id": "rtgI4JisMeLh"
      },
      "source": [
        "We further process our training data, for example, do normalization. Also, we divide the training data into train set and validation set. "
      ]
    },
    {
      "cell_type": "code",
      "metadata": {
        "colab": {
          "base_uri": "https://localhost:8080/"
        },
        "id": "nCpzSaPkGy7B",
        "outputId": "d128a3e6-b9c3-42d2-99ce-6cc9b6300a1f"
      },
      "source": [
        "x_train = train_labelled_x\n",
        "y_train = train_labelled_y\n",
        "for i in range(x_train.shape[0]):\n",
        "  x_train[i] = (x_train[i]>200).astype('int32')*255\n",
        "import torch\n",
        "\n",
        "x_train = torch.Tensor(x_train)\n",
        "x_train = torch.unsqueeze(x_train, dim=3)/255.\n",
        "x_train = x_train.repeat(1,1,1,3)\n",
        "x_train = x_train.numpy()\n",
        "x_train = x_train.astype('float32')\n",
        "x_valid = x_train[29500:-1, :]\n",
        "x_train = x_train[:29500, :]\n",
        "print('x_train shape:', x_train.shape)\n",
        "print('x_valid shape:', x_valid.shape)\n",
        "\n",
        "# y_train = keras.utils.to_categorical(y_train, 10)\n",
        "a = y_train\n",
        "y_valid = y_train[29500:-1, :10]\n",
        "y_train = y_train[:29500, :10]\n",
        "print('y_train shape:', y_train.shape)\n",
        "print('y_valid shape:', y_valid.shape)"
      ],
      "execution_count": 8,
      "outputs": [
        {
          "output_type": "stream",
          "name": "stdout",
          "text": [
            "x_train shape: (29500, 56, 56, 3)\n",
            "x_valid shape: (499, 56, 56, 3)\n",
            "y_train shape: (29500, 10)\n",
            "y_valid shape: (499, 10)\n"
          ]
        }
      ]
    },
    {
      "cell_type": "markdown",
      "metadata": {
        "id": "Rzl0BoIEMufN"
      },
      "source": [
        "Train our model."
      ]
    },
    {
      "cell_type": "code",
      "metadata": {
        "colab": {
          "base_uri": "https://localhost:8080/"
        },
        "id": "Ccp4Ct2HG3GJ",
        "outputId": "31bcad3a-b789-4b4e-b723-e0f6a4df339d"
      },
      "source": [
        "for i in range(25):\n",
        "  print('Trail: ',i)\n",
        "  history = model.fit(x_train, y_train, batch_size=100, epochs=1, verbose=1)\n",
        "  score = model.evaluate(x_valid, y_valid, verbose=1)\n",
        "  print('Test loss:', score[0])\n",
        "  print('Test accuracy:', score[1])\n",
        "  model.save('VGG16_2_SP_{}'.format(i))"
      ],
      "execution_count": 10,
      "outputs": [
        {
          "output_type": "stream",
          "name": "stdout",
          "text": [
            "Trail:  0\n",
            "295/295 [==============================] - 18s 62ms/step - loss: 0.7739 - accuracy: 0.7473\n",
            "16/16 [==============================] - 1s 23ms/step - loss: 0.5695 - accuracy: 0.8898\n",
            "Test loss: 0.5695082545280457\n",
            "Test accuracy: 0.8897795677185059\n",
            "INFO:tensorflow:Assets written to: VGG16_2_SP_0/assets\n",
            "Trail:  1\n",
            "295/295 [==============================] - 18s 62ms/step - loss: 0.2759 - accuracy: 0.9151\n",
            "16/16 [==============================] - 0s 10ms/step - loss: 0.3112 - accuracy: 0.8838\n",
            "Test loss: 0.31119489669799805\n",
            "Test accuracy: 0.8837675452232361\n",
            "INFO:tensorflow:Assets written to: VGG16_2_SP_1/assets\n",
            "Trail:  2\n",
            "295/295 [==============================] - 18s 62ms/step - loss: 0.1826 - accuracy: 0.9417\n",
            "16/16 [==============================] - 0s 10ms/step - loss: 0.4339 - accuracy: 0.8898\n",
            "Test loss: 0.43386438488960266\n",
            "Test accuracy: 0.8897795677185059\n",
            "INFO:tensorflow:Assets written to: VGG16_2_SP_2/assets\n",
            "Trail:  3\n",
            "295/295 [==============================] - 18s 62ms/step - loss: 0.1323 - accuracy: 0.9565\n",
            "16/16 [==============================] - 0s 10ms/step - loss: 0.2393 - accuracy: 0.9178\n",
            "Test loss: 0.23925137519836426\n",
            "Test accuracy: 0.9178356528282166\n",
            "INFO:tensorflow:Assets written to: VGG16_2_SP_3/assets\n",
            "Trail:  4\n",
            "295/295 [==============================] - 18s 62ms/step - loss: 0.0896 - accuracy: 0.9711\n",
            "16/16 [==============================] - 0s 10ms/step - loss: 0.2425 - accuracy: 0.9299\n",
            "Test loss: 0.24254962801933289\n",
            "Test accuracy: 0.9298596978187561\n",
            "INFO:tensorflow:Assets written to: VGG16_2_SP_4/assets\n",
            "Trail:  5\n",
            "295/295 [==============================] - 18s 62ms/step - loss: 0.0668 - accuracy: 0.9769\n",
            "16/16 [==============================] - 0s 11ms/step - loss: 0.2331 - accuracy: 0.9359\n",
            "Test loss: 0.2330576777458191\n",
            "Test accuracy: 0.9358717203140259\n",
            "INFO:tensorflow:Assets written to: VGG16_2_SP_5/assets\n",
            "Trail:  6\n",
            "295/295 [==============================] - 18s 62ms/step - loss: 0.0468 - accuracy: 0.9844\n",
            "16/16 [==============================] - 0s 10ms/step - loss: 0.2714 - accuracy: 0.9218\n",
            "Test loss: 0.2714310586452484\n",
            "Test accuracy: 0.9218437075614929\n",
            "INFO:tensorflow:Assets written to: VGG16_2_SP_6/assets\n",
            "Trail:  7\n",
            "295/295 [==============================] - 18s 62ms/step - loss: 0.0368 - accuracy: 0.9877\n",
            "16/16 [==============================] - 0s 10ms/step - loss: 0.2429 - accuracy: 0.9319\n",
            "Test loss: 0.24292398989200592\n",
            "Test accuracy: 0.9318637251853943\n",
            "INFO:tensorflow:Assets written to: VGG16_2_SP_7/assets\n",
            "Trail:  8\n",
            "295/295 [==============================] - 18s 62ms/step - loss: 0.0339 - accuracy: 0.9890\n",
            "16/16 [==============================] - 0s 11ms/step - loss: 0.2285 - accuracy: 0.9238\n",
            "Test loss: 0.22849461436271667\n",
            "Test accuracy: 0.9238476753234863\n",
            "INFO:tensorflow:Assets written to: VGG16_2_SP_8/assets\n",
            "Trail:  9\n",
            "295/295 [==============================] - 18s 62ms/step - loss: 0.0321 - accuracy: 0.9891\n",
            "16/16 [==============================] - 0s 10ms/step - loss: 0.2773 - accuracy: 0.9319\n",
            "Test loss: 0.2773035764694214\n",
            "Test accuracy: 0.9318637251853943\n",
            "INFO:tensorflow:Assets written to: VGG16_2_SP_9/assets\n",
            "Trail:  10\n",
            "295/295 [==============================] - 18s 62ms/step - loss: 0.0276 - accuracy: 0.9907\n",
            "16/16 [==============================] - 0s 10ms/step - loss: 0.3096 - accuracy: 0.9259\n",
            "Test loss: 0.30963683128356934\n",
            "Test accuracy: 0.9258517026901245\n",
            "INFO:tensorflow:Assets written to: VGG16_2_SP_10/assets\n",
            "Trail:  11\n",
            "295/295 [==============================] - 18s 62ms/step - loss: 0.0235 - accuracy: 0.9919\n",
            "16/16 [==============================] - 0s 10ms/step - loss: 0.3162 - accuracy: 0.9218\n",
            "Test loss: 0.3162464201450348\n",
            "Test accuracy: 0.9218437075614929\n",
            "INFO:tensorflow:Assets written to: VGG16_2_SP_11/assets\n",
            "Trail:  12\n",
            "295/295 [==============================] - 18s 62ms/step - loss: 0.0279 - accuracy: 0.9910\n",
            "16/16 [==============================] - 0s 10ms/step - loss: 0.2844 - accuracy: 0.9439\n",
            "Test loss: 0.28438541293144226\n",
            "Test accuracy: 0.9438877701759338\n",
            "INFO:tensorflow:Assets written to: VGG16_2_SP_12/assets\n",
            "Trail:  13\n",
            "295/295 [==============================] - 18s 62ms/step - loss: 0.0157 - accuracy: 0.9950\n",
            "16/16 [==============================] - 0s 11ms/step - loss: 0.2628 - accuracy: 0.9459\n",
            "Test loss: 0.26284894347190857\n",
            "Test accuracy: 0.945891797542572\n",
            "INFO:tensorflow:Assets written to: VGG16_2_SP_13/assets\n",
            "Trail:  14\n",
            "295/295 [==============================] - 18s 62ms/step - loss: 0.0166 - accuracy: 0.9946\n",
            "16/16 [==============================] - 0s 10ms/step - loss: 0.3001 - accuracy: 0.9238\n",
            "Test loss: 0.3001418113708496\n",
            "Test accuracy: 0.9238476753234863\n",
            "INFO:tensorflow:Assets written to: VGG16_2_SP_14/assets\n",
            "Trail:  15\n",
            "295/295 [==============================] - 18s 62ms/step - loss: 0.0210 - accuracy: 0.9928\n",
            "16/16 [==============================] - 0s 10ms/step - loss: 0.4449 - accuracy: 0.9098\n",
            "Test loss: 0.4448733925819397\n",
            "Test accuracy: 0.9098196625709534\n",
            "INFO:tensorflow:Assets written to: VGG16_2_SP_15/assets\n",
            "Trail:  16\n",
            "295/295 [==============================] - 18s 62ms/step - loss: 0.0260 - accuracy: 0.9916\n",
            "16/16 [==============================] - 0s 12ms/step - loss: 0.3873 - accuracy: 0.9198\n",
            "Test loss: 0.3872886896133423\n",
            "Test accuracy: 0.9198396801948547\n",
            "INFO:tensorflow:Assets written to: VGG16_2_SP_16/assets\n",
            "Trail:  17\n",
            "295/295 [==============================] - 18s 62ms/step - loss: 0.0092 - accuracy: 0.9972\n",
            "16/16 [==============================] - 0s 11ms/step - loss: 0.2384 - accuracy: 0.9539\n",
            "Test loss: 0.23837029933929443\n",
            "Test accuracy: 0.9539077877998352\n",
            "INFO:tensorflow:Assets written to: VGG16_2_SP_17/assets\n",
            "Trail:  18\n",
            "295/295 [==============================] - 18s 62ms/step - loss: 0.0110 - accuracy: 0.9963\n",
            "16/16 [==============================] - 0s 12ms/step - loss: 0.3551 - accuracy: 0.9299\n",
            "Test loss: 0.3550950586795807\n",
            "Test accuracy: 0.9298596978187561\n",
            "INFO:tensorflow:Assets written to: VGG16_2_SP_18/assets\n",
            "Trail:  19\n",
            "295/295 [==============================] - 18s 62ms/step - loss: 0.0234 - accuracy: 0.9925\n",
            "16/16 [==============================] - 0s 11ms/step - loss: 0.3583 - accuracy: 0.9178\n",
            "Test loss: 0.3583151400089264\n",
            "Test accuracy: 0.9178356528282166\n",
            "INFO:tensorflow:Assets written to: VGG16_2_SP_19/assets\n",
            "Trail:  20\n",
            "295/295 [==============================] - 18s 62ms/step - loss: 0.0243 - accuracy: 0.9915\n",
            "16/16 [==============================] - 0s 10ms/step - loss: 0.3783 - accuracy: 0.9178\n",
            "Test loss: 0.3782784938812256\n",
            "Test accuracy: 0.9178356528282166\n",
            "INFO:tensorflow:Assets written to: VGG16_2_SP_20/assets\n",
            "Trail:  21\n",
            "295/295 [==============================] - 18s 62ms/step - loss: 0.0138 - accuracy: 0.9958\n",
            "16/16 [==============================] - 0s 10ms/step - loss: 0.3723 - accuracy: 0.9299\n",
            "Test loss: 0.3722626268863678\n",
            "Test accuracy: 0.9298596978187561\n",
            "INFO:tensorflow:Assets written to: VGG16_2_SP_21/assets\n",
            "Trail:  22\n",
            "295/295 [==============================] - 18s 62ms/step - loss: 0.0159 - accuracy: 0.9949\n",
            "16/16 [==============================] - 0s 11ms/step - loss: 0.2261 - accuracy: 0.9439\n",
            "Test loss: 0.22605904936790466\n",
            "Test accuracy: 0.9438877701759338\n",
            "INFO:tensorflow:Assets written to: VGG16_2_SP_22/assets\n",
            "Trail:  23\n",
            "295/295 [==============================] - 18s 62ms/step - loss: 0.0088 - accuracy: 0.9967\n",
            "16/16 [==============================] - 0s 10ms/step - loss: 0.3010 - accuracy: 0.9539\n",
            "Test loss: 0.30095696449279785\n",
            "Test accuracy: 0.9539077877998352\n",
            "INFO:tensorflow:Assets written to: VGG16_2_SP_23/assets\n",
            "Trail:  24\n",
            "295/295 [==============================] - 18s 62ms/step - loss: 0.0133 - accuracy: 0.9959\n",
            "16/16 [==============================] - 0s 10ms/step - loss: 0.2558 - accuracy: 0.9499\n",
            "Test loss: 0.25580155849456787\n",
            "Test accuracy: 0.9498997926712036\n",
            "INFO:tensorflow:Assets written to: VGG16_2_SP_24/assets\n"
          ]
        }
      ]
    },
    {
      "cell_type": "markdown",
      "metadata": {
        "id": "AfG22QYUQqJM"
      },
      "source": [
        "save most powerful model indicated by validation set"
      ]
    },
    {
      "cell_type": "code",
      "metadata": {
        "id": "I5-7HbDgZk6z"
      },
      "source": [
        "model_1 = keras.models.load_model('VGG16_2_SP_23')"
      ],
      "execution_count": 13,
      "outputs": []
    },
    {
      "cell_type": "code",
      "metadata": {
        "colab": {
          "base_uri": "https://localhost:8080/"
        },
        "id": "qloYSIqAZrTZ",
        "outputId": "070c0def-b9f3-4f80-cfca-f7ebe73c3519"
      },
      "source": [
        "pickle.dump(model_1, open('model_2.pkl', 'wb'))"
      ],
      "execution_count": null,
      "outputs": [
        {
          "output_type": "stream",
          "name": "stdout",
          "text": [
            "INFO:tensorflow:Assets written to: ram://ad3da111-451a-4a63-b9a9-a89d1d8ac953/assets\n"
          ]
        }
      ]
    },
    {
      "cell_type": "markdown",
      "metadata": {
        "id": "bTBfw0d9Mz-A"
      },
      "source": [
        "Load and process test data like training data."
      ]
    },
    {
      "cell_type": "code",
      "metadata": {
        "id": "FOC1gctZG6pS",
        "colab": {
          "base_uri": "https://localhost:8080/",
          "height": 267
        },
        "outputId": "26847c37-dd6f-452c-be2a-f2069b2bb1aa"
      },
      "source": [
        "# load testing data for model testing\n",
        "x_test=np.array(pd.DataFrame(pd.read_csv('processed_test_set.csv')))\n",
        "\n",
        "x_test=x_test.reshape((15000,56,56))\n",
        "\n",
        "import matplotlib.pyplot as plt\n",
        "import random\n",
        "\n",
        "plt.imshow(x_test[random.randint(0,14999)], cmap=\"gray\")\n",
        "plt.show()\n",
        "\n",
        "# with open(\"images_test.pkl\",'rb') as f:\n",
        "#   x_test = pickle.load(f)\n",
        "for i in range(x_test.shape[0]):\n",
        "  x_test[i] = (x_test[i]>200).astype('int32')*255\n",
        "x_test = torch.Tensor(x_test)\n",
        "x_test = torch.unsqueeze(x_test,dim=3)/255\n",
        "x_test = x_test.repeat(1,1,1,3)\n",
        "x_test = x_test.numpy()\n",
        "x_test = x_test.astype('float32')"
      ],
      "execution_count": 14,
      "outputs": [
        {
          "output_type": "display_data",
          "data": {
            "image/png": "[encoded data removed]",
            "text/plain": [
              "<Figure size 432x288 with 1 Axes>"
            ]
          },
          "metadata": {
            "needs_background": "light"
          }
        }
      ]
    },
    {
      "cell_type": "code",
      "metadata": {
        "id": "ZD0vZ-ChG-NC",
        "colab": {
          "base_uri": "https://localhost:8080/"
        },
        "outputId": "d1ac86ed-ee9a-452f-c816-8159de6cce52"
      },
      "source": [
        "result = model.predict(x_test,verbose=1)\n",
        "result = np.argmax(result, axis = 1)\n",
        "print(result[0:10])"
      ],
      "execution_count": 15,
      "outputs": [
        {
          "output_type": "stream",
          "name": "stdout",
          "text": [
            "469/469 [==============================] - 4s 8ms/step\n",
            "[0 4 9 0 6 9 3 2 1 6]\n"
          ]
        }
      ]
    }
  ]
}